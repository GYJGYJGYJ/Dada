{
 "cells": [
  {
   "cell_type": "code",
   "execution_count": 1,
   "metadata": {
    "collapsed": false
   },
   "outputs": [],
   "source": [
    "import numpy as np\n",
    "import pandas as pd\n",
    "from sklearn import preprocessing\n",
    "from sklearn.metrics.pairwise import pairwise_distances\n",
    "from sklearn.svm import SVC\n",
    "import os.path\n",
    "\n",
    "norm = preprocessing.MinMaxScaler()"
   ]
  },
  {
   "cell_type": "markdown",
   "metadata": {},
   "source": [
    "# Users"
   ]
  },
  {
   "cell_type": "markdown",
   "metadata": {},
   "source": [
    "There are missing values for the gender (represented as '-'). I normalize the columns and compute the distance matrix.\n"
   ]
  },
  {
   "cell_type": "code",
   "execution_count": 2,
   "metadata": {
    "collapsed": false
   },
   "outputs": [
    {
     "data": {
      "text/html": [
       "<div>\n",
       "<table border=\"1\" class=\"dataframe\">\n",
       "  <thead>\n",
       "    <tr style=\"text-align: right;\">\n",
       "      <th></th>\n",
       "      <th>Age</th>\n",
       "      <th>Height</th>\n",
       "      <th>Weight</th>\n",
       "      <th>Gender</th>\n",
       "    </tr>\n",
       "  </thead>\n",
       "  <tbody>\n",
       "    <tr>\n",
       "      <th>0</th>\n",
       "      <td>32</td>\n",
       "      <td>180</td>\n",
       "      <td>85</td>\n",
       "      <td>1.0</td>\n",
       "    </tr>\n",
       "    <tr>\n",
       "      <th>1</th>\n",
       "      <td>26</td>\n",
       "      <td>169</td>\n",
       "      <td>64</td>\n",
       "      <td>1.0</td>\n",
       "    </tr>\n",
       "    <tr>\n",
       "      <th>2</th>\n",
       "      <td>26</td>\n",
       "      <td>164</td>\n",
       "      <td>55</td>\n",
       "      <td>0.0</td>\n",
       "    </tr>\n",
       "    <tr>\n",
       "      <th>3</th>\n",
       "      <td>32</td>\n",
       "      <td>186</td>\n",
       "      <td>93</td>\n",
       "      <td>1.0</td>\n",
       "    </tr>\n",
       "    <tr>\n",
       "      <th>4</th>\n",
       "      <td>36</td>\n",
       "      <td>160</td>\n",
       "      <td>50</td>\n",
       "      <td>0.0</td>\n",
       "    </tr>\n",
       "  </tbody>\n",
       "</table>\n",
       "</div>"
      ],
      "text/plain": [
       "   Age  Height  Weight  Gender\n",
       "0   32     180      85     1.0\n",
       "1   26     169      64     1.0\n",
       "2   26     164      55     0.0\n",
       "3   32     186      93     1.0\n",
       "4   36     160      50     0.0"
      ]
     },
     "execution_count": 2,
     "metadata": {},
     "output_type": "execute_result"
    }
   ],
   "source": [
    "USER_FILE = \"../datasets/Mobi_Users.csv\"\n",
    "\n",
    "users = pd.read_csv(USER_FILE,usecols=(3, 4, 5, 6))\n",
    "users.replace(('M', 'F', '-'),(1,0,0.5), inplace=True)\n",
    "users.head()"
   ]
  },
  {
   "cell_type": "code",
   "execution_count": 3,
   "metadata": {
    "collapsed": false
   },
   "outputs": [],
   "source": [
    "min_max_scaler = preprocessing.MinMaxScaler()\n",
    "scaled_users = min_max_scaler.fit_transform(users[['Age', 'Height', 'Weight', 'Gender']])\n",
    "user_distances = pairwise_distances(scaled_users)"
   ]
  },
  {
   "cell_type": "markdown",
   "metadata": {},
   "source": [
    "# Data"
   ]
  },
  {
   "cell_type": "markdown",
   "metadata": {},
   "source": [
    "Using the 'fall' data: \n",
    "\n",
    "    | 10 | FOL   | Forward-lying      | 3      | 10s      | Fall Forward from standing, use of hands to dampen fall |\n",
    "    | 11 | FKL   | Front-knees-lying  | 3      | 10s      | Fall forward from standing, first impact on knees       |\n",
    "    | 12 | BSC   | Back-sitting-chair | 3      | 10s      | Fall backward while trying to sit on a chair            |\n",
    "    | 13 | SDL   | Sideward-lying     | 3      | 10s      | Fall sidewards from standing, bending legs              |"
   ]
  },
  {
   "cell_type": "markdown",
   "metadata": {},
   "source": [
    "Seems that there are 3 files per user. Maybe for train/test/valid"
   ]
  },
  {
   "cell_type": "code",
   "execution_count": 4,
   "metadata": {
    "collapsed": false
   },
   "outputs": [],
   "source": [
    "MOBI_PATH = \"../datasets/MobiAct_Dataset_v2.0/Annotated Data/\"\n",
    "FALLS = (\"FOL\", \"FKL\", \"BSC\", \"SDL\")\n",
    "USERS = range(1,68) "
   ]
  },
  {
   "cell_type": "code",
   "execution_count": 5,
   "metadata": {
    "collapsed": false
   },
   "outputs": [],
   "source": [
    "def get_sample(user_nbr=1, fall=\"FOL\", trial=1):\n",
    "    path = MOBI_PATH+fall+'/'+fall+'_'+str(user_nbr)+'_'+str(trial)+'_annotated.csv'\n",
    "    data = pd.read_csv(path, usecols=range(2, 12)) # I skipp the timestamps (ie identifiers)\n",
    "    return data.iloc[:,:-1], data.iloc[:,-1] "
   ]
  },
  {
   "cell_type": "markdown",
   "metadata": {},
   "source": [
    "## Example for user 1, type FOL"
   ]
  },
  {
   "cell_type": "code",
   "execution_count": 6,
   "metadata": {
    "collapsed": false
   },
   "outputs": [],
   "source": [
    "X, Y = get_sample()"
   ]
  },
  {
   "cell_type": "code",
   "execution_count": 7,
   "metadata": {
    "collapsed": false
   },
   "outputs": [
    {
     "data": {
      "text/plain": [
       "0    STD\n",
       "1    STD\n",
       "2    STD\n",
       "3    STD\n",
       "4    STD\n",
       "Name: label, dtype: object"
      ]
     },
     "execution_count": 7,
     "metadata": {},
     "output_type": "execute_result"
    }
   ],
   "source": [
    "Y.head()"
   ]
  },
  {
   "cell_type": "markdown",
   "metadata": {},
   "source": [
    "## tentative de classif par timestamp, juste pour vérifier\n",
    "\n",
    "(un example correspond à un relevé à un instant, c'est un item dans la série...)"
   ]
  },
  {
   "cell_type": "code",
   "execution_count": 8,
   "metadata": {
    "collapsed": false
   },
   "outputs": [
    {
     "data": {
      "text/plain": [
       "0.99949315762797775"
      ]
     },
     "execution_count": 8,
     "metadata": {},
     "output_type": "execute_result"
    }
   ],
   "source": [
    "class_svc = SVC()\n",
    "class_svc.fit(X,Y)\n",
    "class_svc.score(X,Y)"
   ]
  },
  {
   "cell_type": "code",
   "execution_count": 9,
   "metadata": {
    "collapsed": false
   },
   "outputs": [
    {
     "data": {
      "text/plain": [
       "(0.24632539280283833, 0.27456940222897669)"
      ]
     },
     "execution_count": 9,
     "metadata": {},
     "output_type": "execute_result"
    }
   ],
   "source": [
    "class_svc.score(*get_sample(trial=2)), class_svc.score(*get_sample(trial=3)) "
   ]
  },
  {
   "cell_type": "markdown",
   "metadata": {
    "collapsed": false
   },
   "source": [
    "## Let's subsample \n",
    "\n",
    "On prend aléatoirement uniformément 30 items dans [STD], dans [LYI], et 30 items dans [STD,FOL,LYI].\n",
    "On calcule, min, max, median, mean, kurtosis, skew"
   ]
  },
  {
   "cell_type": "code",
   "execution_count": 10,
   "metadata": {
    "collapsed": false
   },
   "outputs": [],
   "source": [
    "def subsample_one(data, list_index, part=\"STD\", subsize=30): \n",
    "    r = np.random.choice(list_index[part], subsize, replace=False)\n",
    "    sub = data.iloc[r]\n",
    "    df = pd.DataFrame(pd.concat([sub.mean(), sub.median(), sub.std(), sub.min(), sub.max(), sub.kurtosis(), sub.skew()], \n",
    "                                keys=[\"mean\", \"median\", \"std\", \"min\", \"max\", \"kurtosis\", \"skew\"])).transpose()\n",
    "    df.insert(len(df.columns), \"label\", part)\n",
    "    return df"
   ]
  },
  {
   "cell_type": "code",
   "execution_count": 11,
   "metadata": {
    "collapsed": false
   },
   "outputs": [
    {
     "data": {
      "text/html": [
       "<div>\n",
       "<table border=\"1\" class=\"dataframe\">\n",
       "  <thead>\n",
       "    <tr>\n",
       "      <th></th>\n",
       "      <th colspan=\"9\" halign=\"left\">mean</th>\n",
       "      <th>median</th>\n",
       "      <th>...</th>\n",
       "      <th colspan=\"9\" halign=\"left\">skew</th>\n",
       "      <th>label</th>\n",
       "    </tr>\n",
       "    <tr>\n",
       "      <th></th>\n",
       "      <th>acc_x</th>\n",
       "      <th>acc_y</th>\n",
       "      <th>acc_z</th>\n",
       "      <th>gyro_x</th>\n",
       "      <th>gyro_y</th>\n",
       "      <th>gyro_z</th>\n",
       "      <th>azimuth</th>\n",
       "      <th>pitch</th>\n",
       "      <th>roll</th>\n",
       "      <th>acc_x</th>\n",
       "      <th>...</th>\n",
       "      <th>acc_x</th>\n",
       "      <th>acc_y</th>\n",
       "      <th>acc_z</th>\n",
       "      <th>gyro_x</th>\n",
       "      <th>gyro_y</th>\n",
       "      <th>gyro_z</th>\n",
       "      <th>azimuth</th>\n",
       "      <th>pitch</th>\n",
       "      <th>roll</th>\n",
       "      <th></th>\n",
       "    </tr>\n",
       "  </thead>\n",
       "  <tbody>\n",
       "    <tr>\n",
       "      <th>0</th>\n",
       "      <td>0.958048</td>\n",
       "      <td>-9.551108</td>\n",
       "      <td>-1.339026</td>\n",
       "      <td>0.002026</td>\n",
       "      <td>0.027326</td>\n",
       "      <td>0.022633</td>\n",
       "      <td>14.291038</td>\n",
       "      <td>24.694449</td>\n",
       "      <td>-34.133662</td>\n",
       "      <td>0.985519</td>\n",
       "      <td>...</td>\n",
       "      <td>-1.489664</td>\n",
       "      <td>-1.420009</td>\n",
       "      <td>0.612114</td>\n",
       "      <td>-0.37614</td>\n",
       "      <td>0.232785</td>\n",
       "      <td>0.512152</td>\n",
       "      <td>-1.067463</td>\n",
       "      <td>-0.858359</td>\n",
       "      <td>-0.842114</td>\n",
       "      <td>STD</td>\n",
       "    </tr>\n",
       "  </tbody>\n",
       "</table>\n",
       "<p>1 rows × 64 columns</p>\n",
       "</div>"
      ],
      "text/plain": [
       "       mean                                                               \\\n",
       "      acc_x     acc_y     acc_z    gyro_x    gyro_y    gyro_z    azimuth   \n",
       "0  0.958048 -9.551108 -1.339026  0.002026  0.027326  0.022633  14.291038   \n",
       "\n",
       "                           median  ...       skew                      \\\n",
       "       pitch       roll     acc_x  ...      acc_x     acc_y     acc_z   \n",
       "0  24.694449 -34.133662  0.985519  ...  -1.489664 -1.420009  0.612114   \n",
       "\n",
       "                                                             label  \n",
       "    gyro_x    gyro_y    gyro_z   azimuth     pitch      roll        \n",
       "0 -0.37614  0.232785  0.512152 -1.067463 -0.858359 -0.842114   STD  \n",
       "\n",
       "[1 rows x 64 columns]"
      ]
     },
     "execution_count": 11,
     "metadata": {},
     "output_type": "execute_result"
    }
   ],
   "source": [
    "list_index = dict()\n",
    "parts = (\"STD\", \"FOL\", \"LYI\")\n",
    "for p in parts:\n",
    "    list_index[p] = np.argwhere(Y==p)[:,0]\n",
    "subsample_one(X, list_index)"
   ]
  },
  {
   "cell_type": "code",
   "execution_count": 12,
   "metadata": {
    "collapsed": false
   },
   "outputs": [],
   "source": [
    "def subsample_one_mixed(data, list_index, parts=(\"STD\", \"FOL\", \"LYI\"), subsize=30):\n",
    "    sub = pd.DataFrame()\n",
    "    for part in parts:\n",
    "        r = np.random.choice(list_index[part], subsize//3, replace=False)\n",
    "        sub = sub.append(data.iloc[r])\n",
    "    df = pd.DataFrame(pd.concat([sub.mean(), sub.median(), sub.std(), sub.min(), sub.max(), sub.kurtosis(), sub.skew()], \n",
    "                                keys=[\"mean\", \"median\", \"std\", \"min\", \"max\", \"kurtosis\", \"skew\"])).transpose()\n",
    "    df.insert(len(df.columns), \"label\", parts[1])\n",
    "    return df"
   ]
  },
  {
   "cell_type": "code",
   "execution_count": 13,
   "metadata": {
    "collapsed": false
   },
   "outputs": [],
   "source": [
    "def subsample_3_status(X, Y,nb=20, part=\"FOL\", subsize=30):\n",
    "    \"\"\" Subsample and compute stats in each part of the fall. Label each subsample with STD, LYI or the fall type. \n",
    "    For the fall type we take 1/3 of STD, 1/3 of LYI and 1/3 of the fall type. \n",
    "    \"\"\"\n",
    "    list_index = dict()\n",
    "    df = pd.DataFrame()\n",
    "    parts = (\"STD\", part, \"LYI\")\n",
    "    for p in parts:\n",
    "        list_index[p] = np.argwhere(Y==p)[:,0]\n",
    "    for n in range(nb):\n",
    "        df = df.append(subsample_one(X, list_index, parts[0], subsize), ignore_index=True)\n",
    "        df = df.append(subsample_one(X, list_index, parts[2], subsize), ignore_index=True)\n",
    "        df = df.append(subsample_one_mixed(X, list_index, parts, subsize), ignore_index=True)\n",
    "    return df"
   ]
  },
  {
   "cell_type": "code",
   "execution_count": 14,
   "metadata": {
    "collapsed": false
   },
   "outputs": [
    {
     "data": {
      "text/html": [
       "<div>\n",
       "<table border=\"1\" class=\"dataframe\">\n",
       "  <thead>\n",
       "    <tr>\n",
       "      <th></th>\n",
       "      <th colspan=\"9\" halign=\"left\">mean</th>\n",
       "      <th>median</th>\n",
       "      <th>...</th>\n",
       "      <th colspan=\"9\" halign=\"left\">skew</th>\n",
       "      <th>label</th>\n",
       "    </tr>\n",
       "    <tr>\n",
       "      <th></th>\n",
       "      <th>acc_x</th>\n",
       "      <th>acc_y</th>\n",
       "      <th>acc_z</th>\n",
       "      <th>gyro_x</th>\n",
       "      <th>gyro_y</th>\n",
       "      <th>gyro_z</th>\n",
       "      <th>azimuth</th>\n",
       "      <th>pitch</th>\n",
       "      <th>roll</th>\n",
       "      <th>acc_x</th>\n",
       "      <th>...</th>\n",
       "      <th>acc_x</th>\n",
       "      <th>acc_y</th>\n",
       "      <th>acc_z</th>\n",
       "      <th>gyro_x</th>\n",
       "      <th>gyro_y</th>\n",
       "      <th>gyro_z</th>\n",
       "      <th>azimuth</th>\n",
       "      <th>pitch</th>\n",
       "      <th>roll</th>\n",
       "      <th></th>\n",
       "    </tr>\n",
       "  </thead>\n",
       "  <tbody>\n",
       "    <tr>\n",
       "      <th>0</th>\n",
       "      <td>0.919897</td>\n",
       "      <td>-9.561474</td>\n",
       "      <td>-1.304860</td>\n",
       "      <td>0.005742</td>\n",
       "      <td>0.009672</td>\n",
       "      <td>0.018540</td>\n",
       "      <td>13.969071</td>\n",
       "      <td>24.093475</td>\n",
       "      <td>-34.952802</td>\n",
       "      <td>0.981165</td>\n",
       "      <td>...</td>\n",
       "      <td>-0.638852</td>\n",
       "      <td>-1.564287</td>\n",
       "      <td>0.188629</td>\n",
       "      <td>-0.469203</td>\n",
       "      <td>0.845086</td>\n",
       "      <td>0.479874</td>\n",
       "      <td>-0.591130</td>\n",
       "      <td>-0.265491</td>\n",
       "      <td>-0.198435</td>\n",
       "      <td>STD</td>\n",
       "    </tr>\n",
       "    <tr>\n",
       "      <th>1</th>\n",
       "      <td>7.913071</td>\n",
       "      <td>-1.236224</td>\n",
       "      <td>5.410575</td>\n",
       "      <td>-0.000173</td>\n",
       "      <td>0.003523</td>\n",
       "      <td>0.008695</td>\n",
       "      <td>185.871774</td>\n",
       "      <td>6.761782</td>\n",
       "      <td>54.481111</td>\n",
       "      <td>7.923449</td>\n",
       "      <td>...</td>\n",
       "      <td>-0.504441</td>\n",
       "      <td>-0.315307</td>\n",
       "      <td>-0.491487</td>\n",
       "      <td>1.077394</td>\n",
       "      <td>-1.659816</td>\n",
       "      <td>-2.433636</td>\n",
       "      <td>-3.568497</td>\n",
       "      <td>0.105212</td>\n",
       "      <td>-4.463483</td>\n",
       "      <td>LYI</td>\n",
       "    </tr>\n",
       "    <tr>\n",
       "      <th>2</th>\n",
       "      <td>3.886621</td>\n",
       "      <td>-5.307311</td>\n",
       "      <td>1.889923</td>\n",
       "      <td>0.233452</td>\n",
       "      <td>0.040429</td>\n",
       "      <td>-0.130104</td>\n",
       "      <td>105.081594</td>\n",
       "      <td>21.566012</td>\n",
       "      <td>10.882259</td>\n",
       "      <td>2.017405</td>\n",
       "      <td>...</td>\n",
       "      <td>0.065525</td>\n",
       "      <td>0.072374</td>\n",
       "      <td>-0.162965</td>\n",
       "      <td>3.208071</td>\n",
       "      <td>3.818755</td>\n",
       "      <td>-2.890018</td>\n",
       "      <td>-0.151657</td>\n",
       "      <td>1.151875</td>\n",
       "      <td>-0.016778</td>\n",
       "      <td>FOL</td>\n",
       "    </tr>\n",
       "    <tr>\n",
       "      <th>3</th>\n",
       "      <td>0.913169</td>\n",
       "      <td>-9.542331</td>\n",
       "      <td>-1.315586</td>\n",
       "      <td>0.003187</td>\n",
       "      <td>0.018326</td>\n",
       "      <td>0.022134</td>\n",
       "      <td>13.849967</td>\n",
       "      <td>23.915461</td>\n",
       "      <td>-35.153427</td>\n",
       "      <td>0.978635</td>\n",
       "      <td>...</td>\n",
       "      <td>-0.569072</td>\n",
       "      <td>-2.234386</td>\n",
       "      <td>0.354858</td>\n",
       "      <td>-0.288348</td>\n",
       "      <td>0.514191</td>\n",
       "      <td>0.452181</td>\n",
       "      <td>-0.782806</td>\n",
       "      <td>-0.375171</td>\n",
       "      <td>-0.277697</td>\n",
       "      <td>STD</td>\n",
       "    </tr>\n",
       "    <tr>\n",
       "      <th>4</th>\n",
       "      <td>7.901692</td>\n",
       "      <td>-1.224928</td>\n",
       "      <td>5.426543</td>\n",
       "      <td>0.000998</td>\n",
       "      <td>-0.000010</td>\n",
       "      <td>0.009652</td>\n",
       "      <td>185.877197</td>\n",
       "      <td>6.770661</td>\n",
       "      <td>54.361232</td>\n",
       "      <td>7.908007</td>\n",
       "      <td>...</td>\n",
       "      <td>-3.338492</td>\n",
       "      <td>-0.253306</td>\n",
       "      <td>0.625435</td>\n",
       "      <td>-0.291009</td>\n",
       "      <td>-1.954634</td>\n",
       "      <td>-1.760711</td>\n",
       "      <td>-3.452433</td>\n",
       "      <td>0.099917</td>\n",
       "      <td>-3.341676</td>\n",
       "      <td>LYI</td>\n",
       "    </tr>\n",
       "  </tbody>\n",
       "</table>\n",
       "<p>5 rows × 64 columns</p>\n",
       "</div>"
      ],
      "text/plain": [
       "       mean                                                                \\\n",
       "      acc_x     acc_y     acc_z    gyro_x    gyro_y    gyro_z     azimuth   \n",
       "0  0.919897 -9.561474 -1.304860  0.005742  0.009672  0.018540   13.969071   \n",
       "1  7.913071 -1.236224  5.410575 -0.000173  0.003523  0.008695  185.871774   \n",
       "2  3.886621 -5.307311  1.889923  0.233452  0.040429 -0.130104  105.081594   \n",
       "3  0.913169 -9.542331 -1.315586  0.003187  0.018326  0.022134   13.849967   \n",
       "4  7.901692 -1.224928  5.426543  0.000998 -0.000010  0.009652  185.877197   \n",
       "\n",
       "                           median  ...       skew                      \\\n",
       "       pitch       roll     acc_x  ...      acc_x     acc_y     acc_z   \n",
       "0  24.093475 -34.952802  0.981165  ...  -0.638852 -1.564287  0.188629   \n",
       "1   6.761782  54.481111  7.923449  ...  -0.504441 -0.315307 -0.491487   \n",
       "2  21.566012  10.882259  2.017405  ...   0.065525  0.072374 -0.162965   \n",
       "3  23.915461 -35.153427  0.978635  ...  -0.569072 -2.234386  0.354858   \n",
       "4   6.770661  54.361232  7.908007  ...  -3.338492 -0.253306  0.625435   \n",
       "\n",
       "                                                              label  \n",
       "     gyro_x    gyro_y    gyro_z   azimuth     pitch      roll        \n",
       "0 -0.469203  0.845086  0.479874 -0.591130 -0.265491 -0.198435   STD  \n",
       "1  1.077394 -1.659816 -2.433636 -3.568497  0.105212 -4.463483   LYI  \n",
       "2  3.208071  3.818755 -2.890018 -0.151657  1.151875 -0.016778   FOL  \n",
       "3 -0.288348  0.514191  0.452181 -0.782806 -0.375171 -0.277697   STD  \n",
       "4 -0.291009 -1.954634 -1.760711 -3.452433  0.099917 -3.341676   LYI  \n",
       "\n",
       "[5 rows x 64 columns]"
      ]
     },
     "execution_count": 14,
     "metadata": {},
     "output_type": "execute_result"
    }
   ],
   "source": [
    "df = subsample_3_status(X, Y, nb=10)\n",
    "df.head()"
   ]
  },
  {
   "cell_type": "markdown",
   "metadata": {},
   "source": [
    "### Learn a SVC without normalization"
   ]
  },
  {
   "cell_type": "code",
   "execution_count": 15,
   "metadata": {
    "collapsed": false
   },
   "outputs": [
    {
     "data": {
      "text/plain": [
       "1.0"
      ]
     },
     "execution_count": 15,
     "metadata": {},
     "output_type": "execute_result"
    }
   ],
   "source": [
    "class_svc = SVC()\n",
    "X1, Y1 = df.iloc[:,:-1], df.iloc[:,-1] \n",
    "class_svc.fit(X1,Y1)\n",
    "class_svc.score(X1,Y1)"
   ]
  },
  {
   "cell_type": "code",
   "execution_count": 16,
   "metadata": {
    "collapsed": false
   },
   "outputs": [
    {
     "data": {
      "text/plain": [
       "0.91666666666666663"
      ]
     },
     "execution_count": 16,
     "metadata": {},
     "output_type": "execute_result"
    }
   ],
   "source": [
    "df = subsample_3_status(X, Y, subsize=9)\n",
    "X1, Y1 = df.iloc[:,:-1], df.iloc[:,-1] \n",
    "class_svc.score(X1,Y1)"
   ]
  },
  {
   "cell_type": "code",
   "execution_count": 17,
   "metadata": {
    "collapsed": false
   },
   "outputs": [
    {
     "data": {
      "text/plain": [
       "0.33333333333333331"
      ]
     },
     "execution_count": 17,
     "metadata": {},
     "output_type": "execute_result"
    }
   ],
   "source": [
    "df = subsample_3_status(*get_sample(trial=2), subsize=30)\n",
    "X1, Y1 = df.iloc[:,:-1], df.iloc[:,-1] \n",
    "class_svc.score(X1,Y1)"
   ]
  },
  {
   "cell_type": "markdown",
   "metadata": {},
   "source": [
    "### Normalize"
   ]
  },
  {
   "cell_type": "code",
   "execution_count": 18,
   "metadata": {
    "collapsed": true
   },
   "outputs": [],
   "source": [
    "def get_normalized_XY(df):\n",
    "    X, Y = df.iloc[:,:-1], df.iloc[:,-1] \n",
    "    X = norm.fit_transform(X)\n",
    "    return X,Y"
   ]
  },
  {
   "cell_type": "code",
   "execution_count": 19,
   "metadata": {
    "collapsed": false
   },
   "outputs": [
    {
     "data": {
      "text/plain": [
       "1.0"
      ]
     },
     "execution_count": 19,
     "metadata": {},
     "output_type": "execute_result"
    }
   ],
   "source": [
    "norm = preprocessing.MinMaxScaler()\n",
    "class_svc = SVC()\n",
    "\n",
    "df = subsample_3_status(*get_sample(), nb=10)\n",
    "X1, Y1 = get_normalized_XY(df)\n",
    "X1_scaled = norm.fit_transform(X1)\n",
    "class_svc.fit(X1,Y1)\n",
    "class_svc.score(X1,Y1)"
   ]
  },
  {
   "cell_type": "code",
   "execution_count": 20,
   "metadata": {
    "collapsed": false
   },
   "outputs": [
    {
     "data": {
      "text/plain": [
       "1.0"
      ]
     },
     "execution_count": 20,
     "metadata": {},
     "output_type": "execute_result"
    }
   ],
   "source": [
    "df = subsample_3_status(*get_sample(trial=2), nb=10)\n",
    "X1, Y1 = get_normalized_XY(df)\n",
    "class_svc.fit(X1,Y1)\n",
    "class_svc.score(X1,Y1)"
   ]
  },
  {
   "cell_type": "markdown",
   "metadata": {},
   "source": [
    "## Sub-sampling for different fall types"
   ]
  },
  {
   "cell_type": "code",
   "execution_count": 21,
   "metadata": {
    "collapsed": true
   },
   "outputs": [],
   "source": [
    "def subsample_4_types(user=1, nb=20, subsize=30, trials=[1,2], dist=None):\n",
    "    \"\"\" nb is the number of times we subsample in one trial; subsize is the size of the subsample we draw, \n",
    "    dist is the number of each class in each trial\"\"\"\n",
    "    df = pd.DataFrame()\n",
    "    if dist is None:\n",
    "        dist = {f:nb for f in FALLS}\n",
    "        \n",
    "    for fall in FALLS:\n",
    "        for trial in trials:\n",
    "            X, Y = get_sample(user_nbr=user, fall=fall, trial=trial)\n",
    "            \n",
    "            list_index = dict()\n",
    "            parts = (\"STD\", fall, \"LYI\")\n",
    "            for p in parts:\n",
    "                list_index[p] = np.argwhere(Y==p)[:,0]\n",
    "            for n in range(dist[fall]):\n",
    "                df = df.append(subsample_one_mixed(X, list_index, parts, subsize), ignore_index=True)\n",
    "    return df    "
   ]
  },
  {
   "cell_type": "markdown",
   "metadata": {},
   "source": [
    "### Example of Sub-sampling"
   ]
  },
  {
   "cell_type": "code",
   "execution_count": 22,
   "metadata": {
    "collapsed": false
   },
   "outputs": [
    {
     "data": {
      "text/html": [
       "<div>\n",
       "<table border=\"1\" class=\"dataframe\">\n",
       "  <thead>\n",
       "    <tr>\n",
       "      <th></th>\n",
       "      <th colspan=\"9\" halign=\"left\">mean</th>\n",
       "      <th>median</th>\n",
       "      <th>...</th>\n",
       "      <th colspan=\"9\" halign=\"left\">skew</th>\n",
       "      <th>label</th>\n",
       "    </tr>\n",
       "    <tr>\n",
       "      <th></th>\n",
       "      <th>acc_x</th>\n",
       "      <th>acc_y</th>\n",
       "      <th>acc_z</th>\n",
       "      <th>gyro_x</th>\n",
       "      <th>gyro_y</th>\n",
       "      <th>gyro_z</th>\n",
       "      <th>azimuth</th>\n",
       "      <th>pitch</th>\n",
       "      <th>roll</th>\n",
       "      <th>acc_x</th>\n",
       "      <th>...</th>\n",
       "      <th>acc_x</th>\n",
       "      <th>acc_y</th>\n",
       "      <th>acc_z</th>\n",
       "      <th>gyro_x</th>\n",
       "      <th>gyro_y</th>\n",
       "      <th>gyro_z</th>\n",
       "      <th>azimuth</th>\n",
       "      <th>pitch</th>\n",
       "      <th>roll</th>\n",
       "      <th></th>\n",
       "    </tr>\n",
       "  </thead>\n",
       "  <tbody>\n",
       "    <tr>\n",
       "      <th>0</th>\n",
       "      <td>2.759072</td>\n",
       "      <td>-5.946145</td>\n",
       "      <td>3.503745</td>\n",
       "      <td>0.211370</td>\n",
       "      <td>0.406551</td>\n",
       "      <td>-0.020159</td>\n",
       "      <td>148.281250</td>\n",
       "      <td>50.541142</td>\n",
       "      <td>22.811359</td>\n",
       "      <td>3.454566</td>\n",
       "      <td>...</td>\n",
       "      <td>0.079908</td>\n",
       "      <td>0.609706</td>\n",
       "      <td>0.287229</td>\n",
       "      <td>2.754278</td>\n",
       "      <td>2.342445</td>\n",
       "      <td>1.353460</td>\n",
       "      <td>-0.256434</td>\n",
       "      <td>0.882517</td>\n",
       "      <td>-0.471886</td>\n",
       "      <td>FOL</td>\n",
       "    </tr>\n",
       "    <tr>\n",
       "      <th>1</th>\n",
       "      <td>3.020274</td>\n",
       "      <td>-7.202230</td>\n",
       "      <td>3.171492</td>\n",
       "      <td>0.249121</td>\n",
       "      <td>-0.300159</td>\n",
       "      <td>-0.092678</td>\n",
       "      <td>150.274027</td>\n",
       "      <td>56.425775</td>\n",
       "      <td>21.336730</td>\n",
       "      <td>1.099481</td>\n",
       "      <td>...</td>\n",
       "      <td>1.622343</td>\n",
       "      <td>0.228738</td>\n",
       "      <td>1.088346</td>\n",
       "      <td>2.936139</td>\n",
       "      <td>-3.874773</td>\n",
       "      <td>1.092403</td>\n",
       "      <td>-0.509952</td>\n",
       "      <td>0.609454</td>\n",
       "      <td>-0.500034</td>\n",
       "      <td>FOL</td>\n",
       "    </tr>\n",
       "    <tr>\n",
       "      <th>2</th>\n",
       "      <td>2.117222</td>\n",
       "      <td>-6.728850</td>\n",
       "      <td>2.317374</td>\n",
       "      <td>0.237362</td>\n",
       "      <td>0.104214</td>\n",
       "      <td>-0.153337</td>\n",
       "      <td>149.272751</td>\n",
       "      <td>56.585561</td>\n",
       "      <td>21.491008</td>\n",
       "      <td>-0.111673</td>\n",
       "      <td>...</td>\n",
       "      <td>0.176086</td>\n",
       "      <td>0.073096</td>\n",
       "      <td>0.213324</td>\n",
       "      <td>2.205060</td>\n",
       "      <td>4.674954</td>\n",
       "      <td>-2.556698</td>\n",
       "      <td>-0.806731</td>\n",
       "      <td>0.511565</td>\n",
       "      <td>-0.760922</td>\n",
       "      <td>FOL</td>\n",
       "    </tr>\n",
       "    <tr>\n",
       "      <th>3</th>\n",
       "      <td>2.671019</td>\n",
       "      <td>-6.328791</td>\n",
       "      <td>3.051960</td>\n",
       "      <td>-0.096792</td>\n",
       "      <td>0.488896</td>\n",
       "      <td>0.111076</td>\n",
       "      <td>148.908138</td>\n",
       "      <td>56.761798</td>\n",
       "      <td>21.142351</td>\n",
       "      <td>2.302552</td>\n",
       "      <td>...</td>\n",
       "      <td>0.655683</td>\n",
       "      <td>2.689447</td>\n",
       "      <td>-0.147705</td>\n",
       "      <td>-4.297621</td>\n",
       "      <td>4.679743</td>\n",
       "      <td>5.239328</td>\n",
       "      <td>-0.211842</td>\n",
       "      <td>0.479247</td>\n",
       "      <td>-0.556566</td>\n",
       "      <td>FOL</td>\n",
       "    </tr>\n",
       "    <tr>\n",
       "      <th>4</th>\n",
       "      <td>2.594136</td>\n",
       "      <td>-7.331604</td>\n",
       "      <td>2.650390</td>\n",
       "      <td>0.366010</td>\n",
       "      <td>0.098685</td>\n",
       "      <td>-0.494994</td>\n",
       "      <td>149.030291</td>\n",
       "      <td>60.522922</td>\n",
       "      <td>19.910041</td>\n",
       "      <td>0.874460</td>\n",
       "      <td>...</td>\n",
       "      <td>1.946567</td>\n",
       "      <td>-0.296174</td>\n",
       "      <td>0.867871</td>\n",
       "      <td>2.372118</td>\n",
       "      <td>4.622237</td>\n",
       "      <td>-5.007633</td>\n",
       "      <td>-0.466572</td>\n",
       "      <td>0.209130</td>\n",
       "      <td>-0.233215</td>\n",
       "      <td>FOL</td>\n",
       "    </tr>\n",
       "    <tr>\n",
       "      <th>5</th>\n",
       "      <td>4.310217</td>\n",
       "      <td>-5.479736</td>\n",
       "      <td>3.916674</td>\n",
       "      <td>0.283635</td>\n",
       "      <td>-0.184023</td>\n",
       "      <td>0.090001</td>\n",
       "      <td>149.080027</td>\n",
       "      <td>51.096835</td>\n",
       "      <td>23.812173</td>\n",
       "      <td>5.289357</td>\n",
       "      <td>...</td>\n",
       "      <td>1.271623</td>\n",
       "      <td>1.221213</td>\n",
       "      <td>0.432883</td>\n",
       "      <td>3.592997</td>\n",
       "      <td>-0.896729</td>\n",
       "      <td>1.277319</td>\n",
       "      <td>-0.207115</td>\n",
       "      <td>0.985446</td>\n",
       "      <td>-0.822117</td>\n",
       "      <td>FOL</td>\n",
       "    </tr>\n",
       "    <tr>\n",
       "      <th>6</th>\n",
       "      <td>1.722456</td>\n",
       "      <td>-7.052262</td>\n",
       "      <td>2.759202</td>\n",
       "      <td>0.119536</td>\n",
       "      <td>0.163916</td>\n",
       "      <td>-0.061779</td>\n",
       "      <td>149.713510</td>\n",
       "      <td>57.835068</td>\n",
       "      <td>19.983125</td>\n",
       "      <td>-0.051632</td>\n",
       "      <td>...</td>\n",
       "      <td>-1.335569</td>\n",
       "      <td>0.129875</td>\n",
       "      <td>0.611586</td>\n",
       "      <td>2.915600</td>\n",
       "      <td>3.360706</td>\n",
       "      <td>-3.341855</td>\n",
       "      <td>-0.539731</td>\n",
       "      <td>0.511467</td>\n",
       "      <td>-0.503506</td>\n",
       "      <td>FOL</td>\n",
       "    </tr>\n",
       "    <tr>\n",
       "      <th>7</th>\n",
       "      <td>2.193535</td>\n",
       "      <td>-6.566452</td>\n",
       "      <td>1.910903</td>\n",
       "      <td>0.242412</td>\n",
       "      <td>-0.156819</td>\n",
       "      <td>-0.099215</td>\n",
       "      <td>151.123795</td>\n",
       "      <td>59.698064</td>\n",
       "      <td>20.555553</td>\n",
       "      <td>0.337806</td>\n",
       "      <td>...</td>\n",
       "      <td>0.695092</td>\n",
       "      <td>2.617180</td>\n",
       "      <td>0.366257</td>\n",
       "      <td>2.301095</td>\n",
       "      <td>-4.071421</td>\n",
       "      <td>1.727441</td>\n",
       "      <td>-1.056995</td>\n",
       "      <td>0.357082</td>\n",
       "      <td>-0.282259</td>\n",
       "      <td>FOL</td>\n",
       "    </tr>\n",
       "    <tr>\n",
       "      <th>8</th>\n",
       "      <td>2.298473</td>\n",
       "      <td>-7.213874</td>\n",
       "      <td>2.375379</td>\n",
       "      <td>0.107410</td>\n",
       "      <td>-0.041651</td>\n",
       "      <td>-0.083383</td>\n",
       "      <td>150.224048</td>\n",
       "      <td>61.379152</td>\n",
       "      <td>19.614184</td>\n",
       "      <td>0.467746</td>\n",
       "      <td>...</td>\n",
       "      <td>0.241929</td>\n",
       "      <td>0.194620</td>\n",
       "      <td>0.225371</td>\n",
       "      <td>2.395483</td>\n",
       "      <td>2.605925</td>\n",
       "      <td>-2.433596</td>\n",
       "      <td>-0.864884</td>\n",
       "      <td>0.240009</td>\n",
       "      <td>-0.179939</td>\n",
       "      <td>FOL</td>\n",
       "    </tr>\n",
       "    <tr>\n",
       "      <th>9</th>\n",
       "      <td>2.714751</td>\n",
       "      <td>-6.683873</td>\n",
       "      <td>2.841920</td>\n",
       "      <td>0.171052</td>\n",
       "      <td>-0.199702</td>\n",
       "      <td>-0.133841</td>\n",
       "      <td>150.018884</td>\n",
       "      <td>60.710677</td>\n",
       "      <td>17.813266</td>\n",
       "      <td>2.956287</td>\n",
       "      <td>...</td>\n",
       "      <td>-0.280233</td>\n",
       "      <td>-0.205038</td>\n",
       "      <td>-0.037737</td>\n",
       "      <td>1.646332</td>\n",
       "      <td>-3.208558</td>\n",
       "      <td>-1.354844</td>\n",
       "      <td>-0.936420</td>\n",
       "      <td>0.359664</td>\n",
       "      <td>-0.525579</td>\n",
       "      <td>FOL</td>\n",
       "    </tr>\n",
       "    <tr>\n",
       "      <th>10</th>\n",
       "      <td>2.751297</td>\n",
       "      <td>-4.923539</td>\n",
       "      <td>3.213244</td>\n",
       "      <td>0.089868</td>\n",
       "      <td>0.152523</td>\n",
       "      <td>-0.141191</td>\n",
       "      <td>187.477536</td>\n",
       "      <td>48.255658</td>\n",
       "      <td>23.094247</td>\n",
       "      <td>1.908456</td>\n",
       "      <td>...</td>\n",
       "      <td>-0.035306</td>\n",
       "      <td>-0.013176</td>\n",
       "      <td>-0.111047</td>\n",
       "      <td>3.965887</td>\n",
       "      <td>3.400124</td>\n",
       "      <td>-3.350825</td>\n",
       "      <td>-0.429290</td>\n",
       "      <td>0.583155</td>\n",
       "      <td>0.139178</td>\n",
       "      <td>FKL</td>\n",
       "    </tr>\n",
       "    <tr>\n",
       "      <th>11</th>\n",
       "      <td>3.130463</td>\n",
       "      <td>-4.844462</td>\n",
       "      <td>3.410512</td>\n",
       "      <td>0.073222</td>\n",
       "      <td>0.020739</td>\n",
       "      <td>0.031806</td>\n",
       "      <td>190.830029</td>\n",
       "      <td>43.258321</td>\n",
       "      <td>25.041274</td>\n",
       "      <td>2.739260</td>\n",
       "      <td>...</td>\n",
       "      <td>1.282260</td>\n",
       "      <td>0.231411</td>\n",
       "      <td>0.105911</td>\n",
       "      <td>2.182868</td>\n",
       "      <td>0.504001</td>\n",
       "      <td>0.690404</td>\n",
       "      <td>-0.412749</td>\n",
       "      <td>0.670776</td>\n",
       "      <td>0.244634</td>\n",
       "      <td>FKL</td>\n",
       "    </tr>\n",
       "    <tr>\n",
       "      <th>12</th>\n",
       "      <td>3.394314</td>\n",
       "      <td>-4.199008</td>\n",
       "      <td>3.941700</td>\n",
       "      <td>0.330295</td>\n",
       "      <td>0.242463</td>\n",
       "      <td>-0.196230</td>\n",
       "      <td>186.692943</td>\n",
       "      <td>46.580507</td>\n",
       "      <td>24.947655</td>\n",
       "      <td>3.231775</td>\n",
       "      <td>...</td>\n",
       "      <td>2.911182</td>\n",
       "      <td>0.222246</td>\n",
       "      <td>0.176563</td>\n",
       "      <td>2.286770</td>\n",
       "      <td>2.997727</td>\n",
       "      <td>-1.570989</td>\n",
       "      <td>-0.395210</td>\n",
       "      <td>0.519180</td>\n",
       "      <td>-0.091615</td>\n",
       "      <td>FKL</td>\n",
       "    </tr>\n",
       "    <tr>\n",
       "      <th>13</th>\n",
       "      <td>-1.809208</td>\n",
       "      <td>-0.887752</td>\n",
       "      <td>2.452408</td>\n",
       "      <td>0.225939</td>\n",
       "      <td>0.039258</td>\n",
       "      <td>-0.028823</td>\n",
       "      <td>209.313287</td>\n",
       "      <td>-13.439461</td>\n",
       "      <td>-20.166480</td>\n",
       "      <td>-1.096925</td>\n",
       "      <td>...</td>\n",
       "      <td>-0.307984</td>\n",
       "      <td>-0.115871</td>\n",
       "      <td>-1.197003</td>\n",
       "      <td>0.536041</td>\n",
       "      <td>2.166255</td>\n",
       "      <td>-2.240952</td>\n",
       "      <td>0.428577</td>\n",
       "      <td>-0.475332</td>\n",
       "      <td>0.263209</td>\n",
       "      <td>BSC</td>\n",
       "    </tr>\n",
       "    <tr>\n",
       "      <th>14</th>\n",
       "      <td>-2.045953</td>\n",
       "      <td>-0.027668</td>\n",
       "      <td>3.228683</td>\n",
       "      <td>0.172345</td>\n",
       "      <td>0.016901</td>\n",
       "      <td>-0.066717</td>\n",
       "      <td>212.980881</td>\n",
       "      <td>-7.099508</td>\n",
       "      <td>-18.273310</td>\n",
       "      <td>-2.321476</td>\n",
       "      <td>...</td>\n",
       "      <td>0.028527</td>\n",
       "      <td>-0.349341</td>\n",
       "      <td>-0.855164</td>\n",
       "      <td>0.540479</td>\n",
       "      <td>1.103633</td>\n",
       "      <td>-2.026263</td>\n",
       "      <td>0.089160</td>\n",
       "      <td>-0.158351</td>\n",
       "      <td>0.361638</td>\n",
       "      <td>BSC</td>\n",
       "    </tr>\n",
       "    <tr>\n",
       "      <th>15</th>\n",
       "      <td>-2.369002</td>\n",
       "      <td>0.101412</td>\n",
       "      <td>2.877804</td>\n",
       "      <td>0.204711</td>\n",
       "      <td>0.110892</td>\n",
       "      <td>0.064324</td>\n",
       "      <td>210.301148</td>\n",
       "      <td>-10.558731</td>\n",
       "      <td>-17.556300</td>\n",
       "      <td>-4.101405</td>\n",
       "      <td>...</td>\n",
       "      <td>0.206047</td>\n",
       "      <td>-0.486609</td>\n",
       "      <td>-1.340932</td>\n",
       "      <td>2.318158</td>\n",
       "      <td>2.506846</td>\n",
       "      <td>3.133632</td>\n",
       "      <td>0.545289</td>\n",
       "      <td>-0.242814</td>\n",
       "      <td>0.235095</td>\n",
       "      <td>BSC</td>\n",
       "    </tr>\n",
       "    <tr>\n",
       "      <th>16</th>\n",
       "      <td>-1.533288</td>\n",
       "      <td>-1.210096</td>\n",
       "      <td>2.340542</td>\n",
       "      <td>0.231783</td>\n",
       "      <td>0.001588</td>\n",
       "      <td>-0.010527</td>\n",
       "      <td>213.586358</td>\n",
       "      <td>-3.701931</td>\n",
       "      <td>-16.645205</td>\n",
       "      <td>-0.563458</td>\n",
       "      <td>...</td>\n",
       "      <td>-0.282203</td>\n",
       "      <td>-0.061514</td>\n",
       "      <td>-1.167026</td>\n",
       "      <td>1.305925</td>\n",
       "      <td>1.194578</td>\n",
       "      <td>0.140852</td>\n",
       "      <td>-0.049805</td>\n",
       "      <td>-0.533625</td>\n",
       "      <td>0.323000</td>\n",
       "      <td>BSC</td>\n",
       "    </tr>\n",
       "    <tr>\n",
       "      <th>17</th>\n",
       "      <td>-1.818022</td>\n",
       "      <td>-0.338274</td>\n",
       "      <td>3.008685</td>\n",
       "      <td>-0.134594</td>\n",
       "      <td>0.064487</td>\n",
       "      <td>-0.037711</td>\n",
       "      <td>211.667526</td>\n",
       "      <td>-5.626022</td>\n",
       "      <td>-18.585252</td>\n",
       "      <td>-2.747642</td>\n",
       "      <td>...</td>\n",
       "      <td>0.055182</td>\n",
       "      <td>-0.170051</td>\n",
       "      <td>-0.607956</td>\n",
       "      <td>-0.554950</td>\n",
       "      <td>2.598664</td>\n",
       "      <td>-0.624604</td>\n",
       "      <td>0.057820</td>\n",
       "      <td>-0.129331</td>\n",
       "      <td>0.614387</td>\n",
       "      <td>BSC</td>\n",
       "    </tr>\n",
       "    <tr>\n",
       "      <th>18</th>\n",
       "      <td>-4.636952</td>\n",
       "      <td>-3.785676</td>\n",
       "      <td>2.641055</td>\n",
       "      <td>0.035919</td>\n",
       "      <td>0.236527</td>\n",
       "      <td>0.173862</td>\n",
       "      <td>250.432180</td>\n",
       "      <td>25.707799</td>\n",
       "      <td>-46.975882</td>\n",
       "      <td>-4.219702</td>\n",
       "      <td>...</td>\n",
       "      <td>0.416038</td>\n",
       "      <td>-0.097486</td>\n",
       "      <td>1.077968</td>\n",
       "      <td>1.859995</td>\n",
       "      <td>1.046291</td>\n",
       "      <td>0.412776</td>\n",
       "      <td>0.144387</td>\n",
       "      <td>0.920462</td>\n",
       "      <td>0.784395</td>\n",
       "      <td>SDL</td>\n",
       "    </tr>\n",
       "    <tr>\n",
       "      <th>19</th>\n",
       "      <td>-6.354472</td>\n",
       "      <td>-4.102494</td>\n",
       "      <td>2.003932</td>\n",
       "      <td>-0.049419</td>\n",
       "      <td>-0.072113</td>\n",
       "      <td>-0.137414</td>\n",
       "      <td>255.407376</td>\n",
       "      <td>28.645446</td>\n",
       "      <td>-49.793370</td>\n",
       "      <td>-9.094816</td>\n",
       "      <td>...</td>\n",
       "      <td>-0.319431</td>\n",
       "      <td>0.816383</td>\n",
       "      <td>2.521553</td>\n",
       "      <td>-2.965650</td>\n",
       "      <td>-4.187170</td>\n",
       "      <td>-2.833719</td>\n",
       "      <td>0.281835</td>\n",
       "      <td>0.749783</td>\n",
       "      <td>1.012851</td>\n",
       "      <td>SDL</td>\n",
       "    </tr>\n",
       "  </tbody>\n",
       "</table>\n",
       "<p>20 rows × 64 columns</p>\n",
       "</div>"
      ],
      "text/plain": [
       "        mean                                                                \\\n",
       "       acc_x     acc_y     acc_z    gyro_x    gyro_y    gyro_z     azimuth   \n",
       "0   2.759072 -5.946145  3.503745  0.211370  0.406551 -0.020159  148.281250   \n",
       "1   3.020274 -7.202230  3.171492  0.249121 -0.300159 -0.092678  150.274027   \n",
       "2   2.117222 -6.728850  2.317374  0.237362  0.104214 -0.153337  149.272751   \n",
       "3   2.671019 -6.328791  3.051960 -0.096792  0.488896  0.111076  148.908138   \n",
       "4   2.594136 -7.331604  2.650390  0.366010  0.098685 -0.494994  149.030291   \n",
       "5   4.310217 -5.479736  3.916674  0.283635 -0.184023  0.090001  149.080027   \n",
       "6   1.722456 -7.052262  2.759202  0.119536  0.163916 -0.061779  149.713510   \n",
       "7   2.193535 -6.566452  1.910903  0.242412 -0.156819 -0.099215  151.123795   \n",
       "8   2.298473 -7.213874  2.375379  0.107410 -0.041651 -0.083383  150.224048   \n",
       "9   2.714751 -6.683873  2.841920  0.171052 -0.199702 -0.133841  150.018884   \n",
       "10  2.751297 -4.923539  3.213244  0.089868  0.152523 -0.141191  187.477536   \n",
       "11  3.130463 -4.844462  3.410512  0.073222  0.020739  0.031806  190.830029   \n",
       "12  3.394314 -4.199008  3.941700  0.330295  0.242463 -0.196230  186.692943   \n",
       "13 -1.809208 -0.887752  2.452408  0.225939  0.039258 -0.028823  209.313287   \n",
       "14 -2.045953 -0.027668  3.228683  0.172345  0.016901 -0.066717  212.980881   \n",
       "15 -2.369002  0.101412  2.877804  0.204711  0.110892  0.064324  210.301148   \n",
       "16 -1.533288 -1.210096  2.340542  0.231783  0.001588 -0.010527  213.586358   \n",
       "17 -1.818022 -0.338274  3.008685 -0.134594  0.064487 -0.037711  211.667526   \n",
       "18 -4.636952 -3.785676  2.641055  0.035919  0.236527  0.173862  250.432180   \n",
       "19 -6.354472 -4.102494  2.003932 -0.049419 -0.072113 -0.137414  255.407376   \n",
       "\n",
       "                            median  ...       skew                      \\\n",
       "        pitch       roll     acc_x  ...      acc_x     acc_y     acc_z   \n",
       "0   50.541142  22.811359  3.454566  ...   0.079908  0.609706  0.287229   \n",
       "1   56.425775  21.336730  1.099481  ...   1.622343  0.228738  1.088346   \n",
       "2   56.585561  21.491008 -0.111673  ...   0.176086  0.073096  0.213324   \n",
       "3   56.761798  21.142351  2.302552  ...   0.655683  2.689447 -0.147705   \n",
       "4   60.522922  19.910041  0.874460  ...   1.946567 -0.296174  0.867871   \n",
       "5   51.096835  23.812173  5.289357  ...   1.271623  1.221213  0.432883   \n",
       "6   57.835068  19.983125 -0.051632  ...  -1.335569  0.129875  0.611586   \n",
       "7   59.698064  20.555553  0.337806  ...   0.695092  2.617180  0.366257   \n",
       "8   61.379152  19.614184  0.467746  ...   0.241929  0.194620  0.225371   \n",
       "9   60.710677  17.813266  2.956287  ...  -0.280233 -0.205038 -0.037737   \n",
       "10  48.255658  23.094247  1.908456  ...  -0.035306 -0.013176 -0.111047   \n",
       "11  43.258321  25.041274  2.739260  ...   1.282260  0.231411  0.105911   \n",
       "12  46.580507  24.947655  3.231775  ...   2.911182  0.222246  0.176563   \n",
       "13 -13.439461 -20.166480 -1.096925  ...  -0.307984 -0.115871 -1.197003   \n",
       "14  -7.099508 -18.273310 -2.321476  ...   0.028527 -0.349341 -0.855164   \n",
       "15 -10.558731 -17.556300 -4.101405  ...   0.206047 -0.486609 -1.340932   \n",
       "16  -3.701931 -16.645205 -0.563458  ...  -0.282203 -0.061514 -1.167026   \n",
       "17  -5.626022 -18.585252 -2.747642  ...   0.055182 -0.170051 -0.607956   \n",
       "18  25.707799 -46.975882 -4.219702  ...   0.416038 -0.097486  1.077968   \n",
       "19  28.645446 -49.793370 -9.094816  ...  -0.319431  0.816383  2.521553   \n",
       "\n",
       "                                                               label  \n",
       "      gyro_x    gyro_y    gyro_z   azimuth     pitch      roll        \n",
       "0   2.754278  2.342445  1.353460 -0.256434  0.882517 -0.471886   FOL  \n",
       "1   2.936139 -3.874773  1.092403 -0.509952  0.609454 -0.500034   FOL  \n",
       "2   2.205060  4.674954 -2.556698 -0.806731  0.511565 -0.760922   FOL  \n",
       "3  -4.297621  4.679743  5.239328 -0.211842  0.479247 -0.556566   FOL  \n",
       "4   2.372118  4.622237 -5.007633 -0.466572  0.209130 -0.233215   FOL  \n",
       "5   3.592997 -0.896729  1.277319 -0.207115  0.985446 -0.822117   FOL  \n",
       "6   2.915600  3.360706 -3.341855 -0.539731  0.511467 -0.503506   FOL  \n",
       "7   2.301095 -4.071421  1.727441 -1.056995  0.357082 -0.282259   FOL  \n",
       "8   2.395483  2.605925 -2.433596 -0.864884  0.240009 -0.179939   FOL  \n",
       "9   1.646332 -3.208558 -1.354844 -0.936420  0.359664 -0.525579   FOL  \n",
       "10  3.965887  3.400124 -3.350825 -0.429290  0.583155  0.139178   FKL  \n",
       "11  2.182868  0.504001  0.690404 -0.412749  0.670776  0.244634   FKL  \n",
       "12  2.286770  2.997727 -1.570989 -0.395210  0.519180 -0.091615   FKL  \n",
       "13  0.536041  2.166255 -2.240952  0.428577 -0.475332  0.263209   BSC  \n",
       "14  0.540479  1.103633 -2.026263  0.089160 -0.158351  0.361638   BSC  \n",
       "15  2.318158  2.506846  3.133632  0.545289 -0.242814  0.235095   BSC  \n",
       "16  1.305925  1.194578  0.140852 -0.049805 -0.533625  0.323000   BSC  \n",
       "17 -0.554950  2.598664 -0.624604  0.057820 -0.129331  0.614387   BSC  \n",
       "18  1.859995  1.046291  0.412776  0.144387  0.920462  0.784395   SDL  \n",
       "19 -2.965650 -4.187170 -2.833719  0.281835  0.749783  1.012851   SDL  \n",
       "\n",
       "[20 rows x 64 columns]"
      ]
     },
     "execution_count": 22,
     "metadata": {},
     "output_type": "execute_result"
    }
   ],
   "source": [
    "subsample_4_types(dist={'BSC': 5, 'FKL': 3, 'FOL': 10, 'SDL': 2}, trials=[2])"
   ]
  },
  {
   "cell_type": "markdown",
   "metadata": {},
   "source": [
    "### Example of training a SVC"
   ]
  },
  {
   "cell_type": "code",
   "execution_count": 23,
   "metadata": {
    "collapsed": false
   },
   "outputs": [
    {
     "data": {
      "text/plain": [
       "0.98750000000000004"
      ]
     },
     "execution_count": 23,
     "metadata": {},
     "output_type": "execute_result"
    }
   ],
   "source": [
    "df = subsample_4_types(user=1, trials=[3])\n",
    "X1, Y1 = get_normalized_XY(df)\n",
    "class_svc.fit(X1,Y1)\n",
    "class_svc.score(X1,Y1)"
   ]
  },
  {
   "cell_type": "code",
   "execution_count": 24,
   "metadata": {
    "collapsed": true
   },
   "outputs": [],
   "source": [
    "index = df.columns"
   ]
  },
  {
   "cell_type": "markdown",
   "metadata": {},
   "source": [
    "## Create a dataset"
   ]
  },
  {
   "cell_type": "code",
   "execution_count": 25,
   "metadata": {
    "collapsed": true
   },
   "outputs": [],
   "source": [
    "class Dataset():\n",
    "    def __init__(self, user, df_train, df_test):\n",
    "        self.user = user\n",
    "        self.index = df_train.columns\n",
    "        # Extract X, Y and normalize\n",
    "        self.X_train, self.Y_train = get_normalized_XY(df_train)\n",
    "        self.X_test, self.Y_test = get_normalized_XY(df_test)\n",
    "\n",
    "    def test_to_dataframe(self):\n",
    "        df = pd.DataFrame(self.X_test)\n",
    "        df['label'] = self.Y_test\n",
    "        df.columns = self.index\n",
    "        return df\n",
    "    \n",
    "    def train_to_dataframe(self):\n",
    "        df = pd.DataFrame(self.X_train)\n",
    "        df['label'] = self.Y_train\n",
    "        df.columns = self.index\n",
    "        return df\n",
    "    \n",
    "    def save(self, dest_dir):\n",
    "        self.train_to_dataframe().to_csv(os.path.join(dest_dir,\"user{}_train.csv\".format(self.user)))\n",
    "        self.test_to_dataframe().to_csv(os.path.join(dest_dir,\"user{}_test.csv\".format(self.user)))\n",
    "        \n",
    "    def __repr__(self):\n",
    "        return \"user {}: train size is {}, test size is {}\".format(self.user, len(self.X_train), len(self.X_test))"
   ]
  },
  {
   "cell_type": "code",
   "execution_count": 26,
   "metadata": {
    "collapsed": false
   },
   "outputs": [],
   "source": [
    "def create_dataset(low=2, high=10, nb_test=20):\n",
    "    \"\"\"Create a dataset with simple options, return 4 dicts users->train/test samples of descriptions and class\"\"\"\n",
    "    datasets = list()\n",
    "\n",
    "    for user in USERS:\n",
    "        try: \n",
    "            nb_train = np.random.randint(low,high)\n",
    "            # sample train and test\n",
    "            df_train = subsample_4_types(user=user, nb=nb_train, trials=[1,2])\n",
    "            df_test = subsample_4_types(user=user, nb=nb_test, trials=[3])\n",
    "            # keep everything\n",
    "            dataset=Dataset(user, df_train, df_test)\n",
    "            datasets.append(dataset)\n",
    "            print(dataset)\n",
    "        except (FileNotFoundError, ValueError) as detail :\n",
    "            print('Problem with user {}:  {}'.format(user, detail) )\n",
    "    return datasets"
   ]
  },
  {
   "cell_type": "code",
   "execution_count": 27,
   "metadata": {
    "collapsed": false
   },
   "outputs": [
    {
     "name": "stdout",
     "output_type": "stream",
     "text": [
      "user 1: train size is 72, test size is 80\n",
      "user 2: train size is 40, test size is 80\n",
      "Problem with user 3:  File b'../datasets/MobiAct_Dataset_v2.0/Annotated Data/BSC/BSC_3_2_annotated.csv' does not exist\n",
      "user 4: train size is 72, test size is 80\n",
      "user 5: train size is 48, test size is 80\n",
      "user 6: train size is 48, test size is 80\n",
      "user 7: train size is 72, test size is 80\n",
      "user 8: train size is 56, test size is 80\n",
      "user 9: train size is 16, test size is 80\n",
      "user 10: train size is 16, test size is 80\n",
      "user 11: train size is 16, test size is 80\n",
      "user 12: train size is 72, test size is 80\n",
      "user 13: train size is 16, test size is 80\n",
      "user 14: train size is 72, test size is 80\n",
      "user 15: train size is 32, test size is 80\n",
      "user 16: train size is 32, test size is 80\n",
      "user 17: train size is 72, test size is 80\n",
      "user 18: train size is 56, test size is 80\n",
      "user 19: train size is 48, test size is 80\n",
      "user 20: train size is 48, test size is 80\n",
      "user 21: train size is 72, test size is 80\n",
      "user 22: train size is 64, test size is 80\n",
      "user 23: train size is 24, test size is 80\n",
      "Problem with user 24:  File b'../datasets/MobiAct_Dataset_v2.0/Annotated Data/FOL/FOL_24_1_annotated.csv' does not exist\n",
      "user 25: train size is 56, test size is 80\n",
      "user 26: train size is 48, test size is 80\n",
      "user 27: train size is 16, test size is 80\n",
      "user 28: train size is 64, test size is 80\n",
      "user 29: train size is 24, test size is 80\n",
      "user 30: train size is 72, test size is 80\n",
      "user 31: train size is 40, test size is 80\n",
      "user 32: train size is 40, test size is 80\n",
      "user 33: train size is 72, test size is 80\n",
      "user 34: train size is 56, test size is 80\n",
      "user 35: train size is 72, test size is 80\n",
      "user 36: train size is 64, test size is 80\n",
      "user 37: train size is 40, test size is 80\n",
      "user 38: train size is 64, test size is 80\n",
      "Problem with user 39:  Cannot take a larger sample than population when 'replace=False'\n",
      "user 40: train size is 16, test size is 80\n",
      "Problem with user 41:  File b'../datasets/MobiAct_Dataset_v2.0/Annotated Data/FOL/FOL_41_1_annotated.csv' does not exist\n",
      "user 42: train size is 16, test size is 80\n",
      "user 43: train size is 56, test size is 80\n",
      "user 44: train size is 16, test size is 80\n",
      "user 45: train size is 32, test size is 80\n",
      "user 46: train size is 24, test size is 80\n",
      "user 47: train size is 72, test size is 80\n",
      "user 48: train size is 72, test size is 80\n",
      "user 49: train size is 40, test size is 80\n",
      "Problem with user 50:  File b'../datasets/MobiAct_Dataset_v2.0/Annotated Data/FOL/FOL_50_1_annotated.csv' does not exist\n",
      "user 51: train size is 72, test size is 80\n",
      "user 52: train size is 40, test size is 80\n",
      "user 53: train size is 16, test size is 80\n",
      "user 54: train size is 16, test size is 80\n",
      "user 55: train size is 24, test size is 80\n",
      "user 56: train size is 32, test size is 80\n",
      "user 57: train size is 16, test size is 80\n",
      "user 58: train size is 48, test size is 80\n",
      "user 59: train size is 24, test size is 80\n",
      "user 60: train size is 48, test size is 80\n",
      "user 61: train size is 64, test size is 80\n",
      "Problem with user 62:  Cannot take a larger sample than population when 'replace=False'\n",
      "user 63: train size is 72, test size is 80\n",
      "user 64: train size is 72, test size is 80\n",
      "user 65: train size is 64, test size is 80\n",
      "user 66: train size is 56, test size is 80\n",
      "user 67: train size is 72, test size is 80\n"
     ]
    }
   ],
   "source": [
    "datasets = create_dataset()"
   ]
  },
  {
   "cell_type": "markdown",
   "metadata": {},
   "source": [
    "## Perfs with a linear SVC"
   ]
  },
  {
   "cell_type": "markdown",
   "metadata": {},
   "source": [
    "### Local models"
   ]
  },
  {
   "cell_type": "code",
   "execution_count": 28,
   "metadata": {
    "collapsed": false
   },
   "outputs": [
    {
     "name": "stdout",
     "output_type": "stream",
     "text": [
      "user 1, train:1.0; test: 0.85\n",
      "user 2, train:0.975; test: 0.8875\n",
      "user 4, train:1.0; test: 0.9\n",
      "user 5, train:1.0; test: 0.95\n",
      "user 6, train:1.0; test: 0.7125\n",
      "user 7, train:1.0; test: 0.725\n",
      "user 8, train:1.0; test: 0.8375\n",
      "user 9, train:1.0; test: 0.85\n",
      "user 10, train:1.0; test: 0.7375\n",
      "user 11, train:1.0; test: 0.825\n",
      "user 12, train:1.0; test: 0.75\n",
      "user 13, train:1.0; test: 0.8375\n",
      "user 14, train:1.0; test: 1.0\n",
      "user 15, train:1.0; test: 0.8125\n",
      "user 16, train:1.0; test: 0.825\n",
      "user 17, train:1.0; test: 0.8875\n",
      "user 18, train:1.0; test: 0.75\n",
      "user 19, train:1.0; test: 0.75\n",
      "user 20, train:1.0; test: 0.7\n",
      "user 21, train:1.0; test: 0.55\n",
      "user 22, train:1.0; test: 0.6625\n",
      "user 23, train:1.0; test: 0.5875\n",
      "user 25, train:1.0; test: 1.0\n",
      "user 26, train:1.0; test: 0.8\n",
      "user 27, train:1.0; test: 0.7625\n",
      "user 28, train:1.0; test: 0.675\n",
      "user 29, train:1.0; test: 0.7625\n",
      "user 30, train:1.0; test: 0.9125\n",
      "user 31, train:1.0; test: 0.5125\n",
      "user 32, train:1.0; test: 0.7875\n",
      "user 33, train:1.0; test: 0.975\n",
      "user 34, train:1.0; test: 0.925\n",
      "user 35, train:1.0; test: 0.5\n",
      "user 36, train:1.0; test: 0.75\n",
      "user 37, train:1.0; test: 0.9125\n",
      "user 38, train:1.0; test: 0.9875\n",
      "user 40, train:1.0; test: 0.85\n",
      "user 42, train:1.0; test: 0.9125\n",
      "user 43, train:1.0; test: 0.75\n",
      "user 44, train:1.0; test: 0.8875\n",
      "user 45, train:1.0; test: 1.0\n",
      "user 46, train:1.0; test: 0.725\n",
      "user 47, train:1.0; test: 0.975\n",
      "user 48, train:1.0; test: 0.9875\n",
      "user 49, train:1.0; test: 0.575\n",
      "user 51, train:1.0; test: 0.85\n",
      "user 52, train:1.0; test: 0.5\n",
      "user 53, train:1.0; test: 0.8125\n",
      "user 54, train:1.0; test: 0.75\n",
      "user 55, train:1.0; test: 0.75\n",
      "user 56, train:1.0; test: 0.8625\n",
      "user 57, train:1.0; test: 0.575\n",
      "user 58, train:1.0; test: 0.9125\n",
      "user 59, train:1.0; test: 0.5875\n",
      "user 60, train:1.0; test: 0.7375\n",
      "user 61, train:1.0; test: 1.0\n",
      "user 63, train:1.0; test: 1.0\n",
      "user 64, train:1.0; test: 1.0\n",
      "user 65, train:1.0; test: 0.7625\n",
      "user 66, train:1.0; test: 0.9625\n",
      "user 67, train:1.0; test: 0.5625\n"
     ]
    }
   ],
   "source": [
    "class_svc = SVC(kernel=\"linear\")\n",
    "allX_train = np.empty((0, 63))\n",
    "allY_train = pd.Series()\n",
    "\n",
    "for dataset in datasets:\n",
    "    try: \n",
    "        # train\n",
    "        class_svc.fit(dataset.X_train, dataset.Y_train)\n",
    "        train_acc = class_svc.score(dataset.X_train, dataset.Y_train)\n",
    "        # test\n",
    "        test_acc = class_svc.score(dataset.X_test, dataset.Y_test)\n",
    "        print(\"user {}, train:{}; test: {}\".format(dataset.user,  train_acc, test_acc))\n",
    "        # gather the train datasets for a global model\n",
    "        allX_train = np.concatenate((allX_train, dataset.X_train))\n",
    "        allY_train = allY_train.append(dataset.Y_train)       \n",
    "    except:\n",
    "        print('user {}: problem'.format(dataset.user) )"
   ]
  },
  {
   "cell_type": "markdown",
   "metadata": {},
   "source": [
    "### Global model"
   ]
  },
  {
   "cell_type": "code",
   "execution_count": 29,
   "metadata": {
    "collapsed": false
   },
   "outputs": [
    {
     "name": "stdout",
     "output_type": "stream",
     "text": [
      "train:  0.801880222841\n",
      "test for user 1: 0.6375\n",
      "test for user 2: 0.65\n",
      "test for user 4: 0.625\n",
      "test for user 5: 0.65\n",
      "test for user 6: 0.75\n",
      "test for user 7: 0.775\n",
      "test for user 8: 0.6125\n",
      "test for user 9: 0.675\n",
      "test for user 10: 0.3375\n",
      "test for user 11: 0.825\n",
      "test for user 12: 0.8875\n",
      "test for user 13: 0.725\n",
      "test for user 14: 0.9375\n",
      "test for user 15: 0.175\n",
      "test for user 16: 0.8375\n",
      "test for user 17: 0.925\n",
      "test for user 18: 0.7125\n",
      "test for user 19: 0.7875\n",
      "test for user 20: 0.825\n",
      "test for user 21: 0.7625\n",
      "test for user 22: 0.725\n",
      "test for user 23: 0.4375\n",
      "test for user 25: 0.925\n",
      "test for user 26: 0.3\n",
      "test for user 27: 0.425\n",
      "test for user 28: 0.5\n",
      "test for user 29: 0.6625\n",
      "test for user 30: 0.9125\n",
      "test for user 31: 0.9\n",
      "test for user 32: 0.925\n",
      "test for user 33: 0.7\n",
      "test for user 34: 0.7\n",
      "test for user 35: 0.5125\n",
      "test for user 36: 0.775\n",
      "test for user 37: 0.8375\n",
      "test for user 38: 0.825\n",
      "test for user 40: 0.8\n",
      "test for user 42: 0.8875\n",
      "test for user 43: 0.7375\n",
      "test for user 44: 0.7375\n",
      "test for user 45: 0.95\n",
      "test for user 46: 0.475\n",
      "test for user 47: 0.775\n",
      "test for user 48: 0.7875\n",
      "test for user 49: 0.5375\n",
      "test for user 51: 0.6375\n",
      "test for user 52: 0.6875\n",
      "test for user 53: 0.65\n",
      "test for user 54: 0.8375\n",
      "test for user 55: 0.7375\n",
      "test for user 56: 0.9125\n",
      "test for user 57: 0.675\n",
      "test for user 58: 0.7625\n",
      "test for user 59: 0.8375\n",
      "test for user 60: 0.7875\n",
      "test for user 61: 0.925\n",
      "test for user 63: 0.85\n",
      "test for user 64: 0.95\n",
      "test for user 65: 0.85\n",
      "test for user 66: 0.55\n",
      "test for user 67: 0.6875\n"
     ]
    }
   ],
   "source": [
    "class_svc.fit(allX_train, allY_train)\n",
    "global_train_score = class_svc.score(allX_train, allY_train)\n",
    "print(\"train: \", global_train_score)\n",
    "for dataset in datasets: \n",
    "    try:\n",
    "        global_test_score = class_svc.score(dataset.X_test, dataset.Y_test)\n",
    "        print(\"test for user {}: {}\".format(dataset.user, global_test_score))\n",
    "    except:\n",
    "        print('user {}: problem'.format(dataset.user))"
   ]
  },
  {
   "cell_type": "markdown",
   "metadata": {},
   "source": [
    "# Save the dataset"
   ]
  },
  {
   "cell_type": "code",
   "execution_count": 30,
   "metadata": {
    "collapsed": true
   },
   "outputs": [],
   "source": [
    "import sys\n",
    "import os\n",
    "import shutil"
   ]
  },
  {
   "cell_type": "code",
   "execution_count": 31,
   "metadata": {
    "collapsed": false
   },
   "outputs": [],
   "source": [
    "dest_dir = \"../datasets/Mobi_Generated\"\n",
    "if os.path.exists(dest_dir):\n",
    "    shutil.rmtree(dest_dir)\n",
    "os.makedirs(dest_dir)\n",
    "\n",
    "for dataset in datasets:\n",
    "    dataset.save(dest_dir)"
   ]
  }
 ],
 "metadata": {
  "kernelspec": {
   "display_name": "Python 3",
   "language": "python",
   "name": "python3"
  },
  "language_info": {
   "codemirror_mode": {
    "name": "ipython",
    "version": 3
   },
   "file_extension": ".py",
   "mimetype": "text/x-python",
   "name": "python",
   "nbconvert_exporter": "python",
   "pygments_lexer": "ipython3",
   "version": "3.6.3"
  }
 },
 "nbformat": 4,
 "nbformat_minor": 2
}
