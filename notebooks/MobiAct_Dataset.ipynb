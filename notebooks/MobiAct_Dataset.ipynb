{
 "cells": [
  {
   "cell_type": "code",
   "execution_count": 1,
   "metadata": {
    "collapsed": false
   },
   "outputs": [],
   "source": [
    "import numpy as np\n",
    "import pandas as pd\n",
    "from sklearn import preprocessing\n",
    "from sklearn.metrics.pairwise import pairwise_distances\n",
    "from sklearn.svm import SVC\n",
    "import os.path\n",
    "\n",
    "norm = preprocessing.MinMaxScaler()"
   ]
  },
  {
   "cell_type": "markdown",
   "metadata": {},
   "source": [
    "# Users"
   ]
  },
  {
   "cell_type": "markdown",
   "metadata": {},
   "source": [
    "There are missing values for the gender (represented as '-'). I normalize the columns and compute the distance matrix.\n"
   ]
  },
  {
   "cell_type": "code",
   "execution_count": 2,
   "metadata": {
    "collapsed": false
   },
   "outputs": [
    {
     "data": {
      "text/html": [
       "<div>\n",
       "<table border=\"1\" class=\"dataframe\">\n",
       "  <thead>\n",
       "    <tr style=\"text-align: right;\">\n",
       "      <th></th>\n",
       "      <th>Age</th>\n",
       "      <th>Height</th>\n",
       "      <th>Weight</th>\n",
       "      <th>Gender</th>\n",
       "    </tr>\n",
       "  </thead>\n",
       "  <tbody>\n",
       "    <tr>\n",
       "      <th>0</th>\n",
       "      <td>32</td>\n",
       "      <td>180</td>\n",
       "      <td>85</td>\n",
       "      <td>1</td>\n",
       "    </tr>\n",
       "    <tr>\n",
       "      <th>1</th>\n",
       "      <td>26</td>\n",
       "      <td>169</td>\n",
       "      <td>64</td>\n",
       "      <td>1</td>\n",
       "    </tr>\n",
       "    <tr>\n",
       "      <th>2</th>\n",
       "      <td>26</td>\n",
       "      <td>164</td>\n",
       "      <td>55</td>\n",
       "      <td>0</td>\n",
       "    </tr>\n",
       "    <tr>\n",
       "      <th>3</th>\n",
       "      <td>32</td>\n",
       "      <td>186</td>\n",
       "      <td>93</td>\n",
       "      <td>1</td>\n",
       "    </tr>\n",
       "    <tr>\n",
       "      <th>4</th>\n",
       "      <td>36</td>\n",
       "      <td>160</td>\n",
       "      <td>50</td>\n",
       "      <td>0</td>\n",
       "    </tr>\n",
       "  </tbody>\n",
       "</table>\n",
       "</div>"
      ],
      "text/plain": [
       "   Age  Height  Weight  Gender\n",
       "0   32     180      85       1\n",
       "1   26     169      64       1\n",
       "2   26     164      55       0\n",
       "3   32     186      93       1\n",
       "4   36     160      50       0"
      ]
     },
     "execution_count": 2,
     "metadata": {},
     "output_type": "execute_result"
    }
   ],
   "source": [
    "USER_FILE = \"../datasets/Mobi_Users.csv\"\n",
    "\n",
    "users = pd.read_csv(USER_FILE,usecols=(3, 4, 5, 6))\n",
    "users.replace(('M', 'F', '-'),(1,0,0.5), inplace=True)\n",
    "users.head()"
   ]
  },
  {
   "cell_type": "code",
   "execution_count": 35,
   "metadata": {
    "collapsed": false
   },
   "outputs": [
    {
     "name": "stdout",
     "output_type": "stream",
     "text": [
      "[[ 0.          0.48801458  1.20084794 ...,  0.46405012  0.57991928\n",
      "   0.42099116]\n",
      " [ 0.48801458  0.          1.01830191 ...,  0.73086769  0.7702339\n",
      "   0.33609214]\n",
      " [ 1.20084794  1.01830191  0.         ...,  1.30824864  1.37692169\n",
      "   1.11835282]\n",
      " ..., \n",
      " [ 0.46405012  0.73086769  1.30824864 ...,  0.          1.01956519\n",
      "   0.83684588]\n",
      " [ 0.57991928  0.7702339   1.37692169 ...,  1.01956519  0.          0.45005529]\n",
      " [ 0.42099116  0.33609214  1.11835282 ...,  0.83684588  0.45005529  0.        ]] (67, 67)\n"
     ]
    }
   ],
   "source": [
    "min_max_scaler = preprocessing.MinMaxScaler()\n",
    "scaled_users = min_max_scaler.fit_transform(users[['Age', 'Height', 'Weight', 'Gender']])\n",
    "user_distances = pairwise_distances(scaled_users)\n",
    "print(user_distances, user_distances.shape)"
   ]
  },
  {
   "cell_type": "markdown",
   "metadata": {},
   "source": [
    "# Data"
   ]
  },
  {
   "cell_type": "markdown",
   "metadata": {},
   "source": [
    "Using the 'fall' data: \n",
    "\n",
    "    | 10 | FOL   | Forward-lying      | 3      | 10s      | Fall Forward from standing, use of hands to dampen fall |\n",
    "    | 11 | FKL   | Front-knees-lying  | 3      | 10s      | Fall forward from standing, first impact on knees       |\n",
    "    | 12 | BSC   | Back-sitting-chair | 3      | 10s      | Fall backward while trying to sit on a chair            |\n",
    "    | 13 | SDL   | Sideward-lying     | 3      | 10s      | Fall sidewards from standing, bending legs              |"
   ]
  },
  {
   "cell_type": "markdown",
   "metadata": {},
   "source": [
    "Seems that there are 3 files per user. Maybe for train/test/valid"
   ]
  },
  {
   "cell_type": "code",
   "execution_count": 4,
   "metadata": {
    "collapsed": false
   },
   "outputs": [],
   "source": [
    "MOBI_PATH = \"../datasets/MobiAct_Dataset_v2.0/Annotated Data/\"\n",
    "FALLS = (\"FOL\", \"FKL\", \"BSC\", \"SDL\")\n",
    "USERS = range(1,68) "
   ]
  },
  {
   "cell_type": "code",
   "execution_count": 5,
   "metadata": {
    "collapsed": false
   },
   "outputs": [],
   "source": [
    "def get_sample(user_nbr=1, fall=\"FOL\", trial=1):\n",
    "    path = MOBI_PATH+fall+'/'+fall+'_'+str(user_nbr)+'_'+str(trial)+'_annotated.csv'\n",
    "    data = pd.read_csv(path, usecols=range(2, 12)) # I skipp the timestamps (ie identifiers)\n",
    "    return data.iloc[:,:-1], data.iloc[:,-1] "
   ]
  },
  {
   "cell_type": "markdown",
   "metadata": {},
   "source": [
    "## Example for user 1, type FOL"
   ]
  },
  {
   "cell_type": "code",
   "execution_count": 6,
   "metadata": {
    "collapsed": false
   },
   "outputs": [],
   "source": [
    "X, Y = get_sample()"
   ]
  },
  {
   "cell_type": "code",
   "execution_count": 7,
   "metadata": {
    "collapsed": false
   },
   "outputs": [
    {
     "data": {
      "text/plain": [
       "0    STD\n",
       "1    STD\n",
       "2    STD\n",
       "3    STD\n",
       "4    STD\n",
       "Name: label, dtype: object"
      ]
     },
     "execution_count": 7,
     "metadata": {},
     "output_type": "execute_result"
    }
   ],
   "source": [
    "Y.head()"
   ]
  },
  {
   "cell_type": "markdown",
   "metadata": {},
   "source": [
    "## tentative de classif par timestamp, juste pour vérifier\n",
    "\n",
    "(un example correspond à un relevé à un instant, c'est un item dans la série...)"
   ]
  },
  {
   "cell_type": "code",
   "execution_count": 8,
   "metadata": {
    "collapsed": false
   },
   "outputs": [
    {
     "data": {
      "text/plain": [
       "0.99949315762797775"
      ]
     },
     "execution_count": 8,
     "metadata": {},
     "output_type": "execute_result"
    }
   ],
   "source": [
    "class_svc = SVC()\n",
    "class_svc.fit(X,Y)\n",
    "class_svc.score(X,Y)"
   ]
  },
  {
   "cell_type": "code",
   "execution_count": 9,
   "metadata": {
    "collapsed": false
   },
   "outputs": [
    {
     "data": {
      "text/plain": [
       "(0.24632539280283833, 0.27456940222897669)"
      ]
     },
     "execution_count": 9,
     "metadata": {},
     "output_type": "execute_result"
    }
   ],
   "source": [
    "class_svc.score(*get_sample(trial=2)), class_svc.score(*get_sample(trial=3)) "
   ]
  },
  {
   "cell_type": "markdown",
   "metadata": {
    "collapsed": false
   },
   "source": [
    "## Let's subsample \n",
    "\n",
    "On prend aléatoirement uniformément 30 items dans [STD], dans [LYI], et 30 items dans [STD,FOL,LYI].\n",
    "On calcule, min, max, median, mean, kurtosis, skew"
   ]
  },
  {
   "cell_type": "code",
   "execution_count": 10,
   "metadata": {
    "collapsed": false
   },
   "outputs": [],
   "source": [
    "def subsample_one(data, list_index, part=\"STD\", subsize=30): \n",
    "    r = np.random.choice(list_index[part], subsize, replace=False)\n",
    "    sub = data.iloc[r]\n",
    "    df = pd.DataFrame(pd.concat([sub.mean(), sub.median(), sub.std(), sub.min(), sub.max(), sub.kurtosis(), sub.skew()], \n",
    "                                keys=[\"mean\", \"median\", \"std\", \"min\", \"max\", \"kurtosis\", \"skew\"])).transpose()\n",
    "    df.insert(len(df.columns), \"label\", part)\n",
    "    return df"
   ]
  },
  {
   "cell_type": "code",
   "execution_count": 11,
   "metadata": {
    "collapsed": false
   },
   "outputs": [
    {
     "data": {
      "text/html": [
       "<div>\n",
       "<table border=\"1\" class=\"dataframe\">\n",
       "  <thead>\n",
       "    <tr>\n",
       "      <th></th>\n",
       "      <th colspan=\"9\" halign=\"left\">mean</th>\n",
       "      <th>median</th>\n",
       "      <th>...</th>\n",
       "      <th colspan=\"9\" halign=\"left\">skew</th>\n",
       "      <th>label</th>\n",
       "    </tr>\n",
       "    <tr>\n",
       "      <th></th>\n",
       "      <th>acc_x</th>\n",
       "      <th>acc_y</th>\n",
       "      <th>acc_z</th>\n",
       "      <th>gyro_x</th>\n",
       "      <th>gyro_y</th>\n",
       "      <th>gyro_z</th>\n",
       "      <th>azimuth</th>\n",
       "      <th>pitch</th>\n",
       "      <th>roll</th>\n",
       "      <th>acc_x</th>\n",
       "      <th>...</th>\n",
       "      <th>acc_x</th>\n",
       "      <th>acc_y</th>\n",
       "      <th>acc_z</th>\n",
       "      <th>gyro_x</th>\n",
       "      <th>gyro_y</th>\n",
       "      <th>gyro_z</th>\n",
       "      <th>azimuth</th>\n",
       "      <th>pitch</th>\n",
       "      <th>roll</th>\n",
       "      <th></th>\n",
       "    </tr>\n",
       "  </thead>\n",
       "  <tbody>\n",
       "    <tr>\n",
       "      <th>0</th>\n",
       "      <td>0.919164</td>\n",
       "      <td>-9.569818</td>\n",
       "      <td>-1.321126</td>\n",
       "      <td>0.0011</td>\n",
       "      <td>0.01179</td>\n",
       "      <td>0.017349</td>\n",
       "      <td>13.760168</td>\n",
       "      <td>23.869664</td>\n",
       "      <td>-35.173564</td>\n",
       "      <td>0.972631</td>\n",
       "      <td>...</td>\n",
       "      <td>-0.563818</td>\n",
       "      <td>-1.574362</td>\n",
       "      <td>0.383674</td>\n",
       "      <td>-0.371411</td>\n",
       "      <td>0.709066</td>\n",
       "      <td>0.872427</td>\n",
       "      <td>-0.64966</td>\n",
       "      <td>-0.355123</td>\n",
       "      <td>-0.252366</td>\n",
       "      <td>STD</td>\n",
       "    </tr>\n",
       "  </tbody>\n",
       "</table>\n",
       "<p>1 rows × 64 columns</p>\n",
       "</div>"
      ],
      "text/plain": [
       "       mean                                                            \\\n",
       "      acc_x     acc_y     acc_z  gyro_x   gyro_y    gyro_z    azimuth   \n",
       "0  0.919164 -9.569818 -1.321126  0.0011  0.01179  0.017349  13.760168   \n",
       "\n",
       "                           median  ...       skew                      \\\n",
       "       pitch       roll     acc_x  ...      acc_x     acc_y     acc_z   \n",
       "0  23.869664 -35.173564  0.972631  ...  -0.563818 -1.574362  0.383674   \n",
       "\n",
       "                                                             label  \n",
       "     gyro_x    gyro_y    gyro_z  azimuth     pitch      roll        \n",
       "0 -0.371411  0.709066  0.872427 -0.64966 -0.355123 -0.252366   STD  \n",
       "\n",
       "[1 rows x 64 columns]"
      ]
     },
     "execution_count": 11,
     "metadata": {},
     "output_type": "execute_result"
    }
   ],
   "source": [
    "list_index = dict()\n",
    "parts = (\"STD\", \"FOL\", \"LYI\")\n",
    "for p in parts:\n",
    "    list_index[p] = np.argwhere(Y==p)[:,0]\n",
    "subsample_one(X, list_index)"
   ]
  },
  {
   "cell_type": "code",
   "execution_count": 12,
   "metadata": {
    "collapsed": false
   },
   "outputs": [],
   "source": [
    "def subsample_one_mixed(data, list_index, parts=(\"STD\", \"FOL\", \"LYI\"), subsize=30):\n",
    "    sub = pd.DataFrame()\n",
    "    for part in parts:\n",
    "        r = np.random.choice(list_index[part], subsize//3, replace=False)\n",
    "        sub = sub.append(data.iloc[r])\n",
    "    df = pd.DataFrame(pd.concat([sub.mean(), sub.median(), sub.std(), sub.min(), sub.max(), sub.kurtosis(), sub.skew()], \n",
    "                                keys=[\"mean\", \"median\", \"std\", \"min\", \"max\", \"kurtosis\", \"skew\"])).transpose()\n",
    "    df.insert(len(df.columns), \"label\", parts[1])\n",
    "    return df"
   ]
  },
  {
   "cell_type": "code",
   "execution_count": 13,
   "metadata": {
    "collapsed": false
   },
   "outputs": [],
   "source": [
    "def subsample_3_status(X, Y,nb=20, part=\"FOL\", subsize=30):\n",
    "    \"\"\" Subsample and compute stats in each part of the fall. Label each subsample with STD, LYI or the fall type. \n",
    "    For the fall type we take 1/3 of STD, 1/3 of LYI and 1/3 of the fall type. \n",
    "    \"\"\"\n",
    "    list_index = dict()\n",
    "    df = pd.DataFrame()\n",
    "    parts = (\"STD\", part, \"LYI\")\n",
    "    for p in parts:\n",
    "        list_index[p] = np.argwhere(Y==p)[:,0]\n",
    "    for n in range(nb):\n",
    "        df = df.append(subsample_one(X, list_index, parts[0], subsize), ignore_index=True)\n",
    "        df = df.append(subsample_one(X, list_index, parts[2], subsize), ignore_index=True)\n",
    "        df = df.append(subsample_one_mixed(X, list_index, parts, subsize), ignore_index=True)\n",
    "    return df"
   ]
  },
  {
   "cell_type": "code",
   "execution_count": 14,
   "metadata": {
    "collapsed": false
   },
   "outputs": [
    {
     "data": {
      "text/html": [
       "<div>\n",
       "<table border=\"1\" class=\"dataframe\">\n",
       "  <thead>\n",
       "    <tr>\n",
       "      <th></th>\n",
       "      <th colspan=\"9\" halign=\"left\">mean</th>\n",
       "      <th>median</th>\n",
       "      <th>...</th>\n",
       "      <th colspan=\"9\" halign=\"left\">skew</th>\n",
       "      <th>label</th>\n",
       "    </tr>\n",
       "    <tr>\n",
       "      <th></th>\n",
       "      <th>acc_x</th>\n",
       "      <th>acc_y</th>\n",
       "      <th>acc_z</th>\n",
       "      <th>gyro_x</th>\n",
       "      <th>gyro_y</th>\n",
       "      <th>gyro_z</th>\n",
       "      <th>azimuth</th>\n",
       "      <th>pitch</th>\n",
       "      <th>roll</th>\n",
       "      <th>acc_x</th>\n",
       "      <th>...</th>\n",
       "      <th>acc_x</th>\n",
       "      <th>acc_y</th>\n",
       "      <th>acc_z</th>\n",
       "      <th>gyro_x</th>\n",
       "      <th>gyro_y</th>\n",
       "      <th>gyro_z</th>\n",
       "      <th>azimuth</th>\n",
       "      <th>pitch</th>\n",
       "      <th>roll</th>\n",
       "      <th></th>\n",
       "    </tr>\n",
       "  </thead>\n",
       "  <tbody>\n",
       "    <tr>\n",
       "      <th>0</th>\n",
       "      <td>0.941180</td>\n",
       "      <td>-9.546622</td>\n",
       "      <td>-1.328299</td>\n",
       "      <td>0.005498</td>\n",
       "      <td>0.024048</td>\n",
       "      <td>0.020769</td>\n",
       "      <td>13.856541</td>\n",
       "      <td>23.979287</td>\n",
       "      <td>-35.030134</td>\n",
       "      <td>0.979010</td>\n",
       "      <td>...</td>\n",
       "      <td>-0.887653</td>\n",
       "      <td>-2.040978</td>\n",
       "      <td>0.310637</td>\n",
       "      <td>-0.770870</td>\n",
       "      <td>0.216988</td>\n",
       "      <td>0.542839</td>\n",
       "      <td>-0.974530</td>\n",
       "      <td>-0.609662</td>\n",
       "      <td>-0.483729</td>\n",
       "      <td>STD</td>\n",
       "    </tr>\n",
       "    <tr>\n",
       "      <th>1</th>\n",
       "      <td>7.907255</td>\n",
       "      <td>-1.236840</td>\n",
       "      <td>5.418122</td>\n",
       "      <td>0.001975</td>\n",
       "      <td>0.005152</td>\n",
       "      <td>0.010527</td>\n",
       "      <td>186.918277</td>\n",
       "      <td>6.819188</td>\n",
       "      <td>54.713996</td>\n",
       "      <td>7.911761</td>\n",
       "      <td>...</td>\n",
       "      <td>0.391279</td>\n",
       "      <td>0.296913</td>\n",
       "      <td>-0.271146</td>\n",
       "      <td>0.451346</td>\n",
       "      <td>-0.266559</td>\n",
       "      <td>-0.483228</td>\n",
       "      <td>-1.839624</td>\n",
       "      <td>-0.473636</td>\n",
       "      <td>-3.153487</td>\n",
       "      <td>LYI</td>\n",
       "    </tr>\n",
       "    <tr>\n",
       "      <th>2</th>\n",
       "      <td>3.918613</td>\n",
       "      <td>-5.621086</td>\n",
       "      <td>1.624355</td>\n",
       "      <td>0.281253</td>\n",
       "      <td>0.100111</td>\n",
       "      <td>-0.112939</td>\n",
       "      <td>98.955584</td>\n",
       "      <td>21.803360</td>\n",
       "      <td>8.694206</td>\n",
       "      <td>1.679729</td>\n",
       "      <td>...</td>\n",
       "      <td>0.358517</td>\n",
       "      <td>1.383899</td>\n",
       "      <td>0.271981</td>\n",
       "      <td>2.562237</td>\n",
       "      <td>5.195564</td>\n",
       "      <td>-0.778506</td>\n",
       "      <td>-0.006894</td>\n",
       "      <td>1.256155</td>\n",
       "      <td>0.091516</td>\n",
       "      <td>FOL</td>\n",
       "    </tr>\n",
       "    <tr>\n",
       "      <th>3</th>\n",
       "      <td>0.934886</td>\n",
       "      <td>-9.548511</td>\n",
       "      <td>-1.328098</td>\n",
       "      <td>0.004378</td>\n",
       "      <td>0.016840</td>\n",
       "      <td>0.023478</td>\n",
       "      <td>13.982088</td>\n",
       "      <td>24.173447</td>\n",
       "      <td>-34.776579</td>\n",
       "      <td>0.981044</td>\n",
       "      <td>...</td>\n",
       "      <td>-0.852279</td>\n",
       "      <td>-2.067043</td>\n",
       "      <td>0.408989</td>\n",
       "      <td>-2.285107</td>\n",
       "      <td>0.436736</td>\n",
       "      <td>0.250193</td>\n",
       "      <td>-1.170020</td>\n",
       "      <td>-0.710373</td>\n",
       "      <td>-0.549359</td>\n",
       "      <td>STD</td>\n",
       "    </tr>\n",
       "    <tr>\n",
       "      <th>4</th>\n",
       "      <td>7.907037</td>\n",
       "      <td>-1.220354</td>\n",
       "      <td>5.418479</td>\n",
       "      <td>-0.001038</td>\n",
       "      <td>0.000570</td>\n",
       "      <td>0.008206</td>\n",
       "      <td>185.876647</td>\n",
       "      <td>6.845664</td>\n",
       "      <td>54.413449</td>\n",
       "      <td>7.904068</td>\n",
       "      <td>...</td>\n",
       "      <td>1.052608</td>\n",
       "      <td>-1.124738</td>\n",
       "      <td>-1.505770</td>\n",
       "      <td>0.085253</td>\n",
       "      <td>-2.035886</td>\n",
       "      <td>-1.388470</td>\n",
       "      <td>-3.469223</td>\n",
       "      <td>-0.324084</td>\n",
       "      <td>-3.385238</td>\n",
       "      <td>LYI</td>\n",
       "    </tr>\n",
       "  </tbody>\n",
       "</table>\n",
       "<p>5 rows × 64 columns</p>\n",
       "</div>"
      ],
      "text/plain": [
       "       mean                                                                \\\n",
       "      acc_x     acc_y     acc_z    gyro_x    gyro_y    gyro_z     azimuth   \n",
       "0  0.941180 -9.546622 -1.328299  0.005498  0.024048  0.020769   13.856541   \n",
       "1  7.907255 -1.236840  5.418122  0.001975  0.005152  0.010527  186.918277   \n",
       "2  3.918613 -5.621086  1.624355  0.281253  0.100111 -0.112939   98.955584   \n",
       "3  0.934886 -9.548511 -1.328098  0.004378  0.016840  0.023478   13.982088   \n",
       "4  7.907037 -1.220354  5.418479 -0.001038  0.000570  0.008206  185.876647   \n",
       "\n",
       "                           median  ...       skew                      \\\n",
       "       pitch       roll     acc_x  ...      acc_x     acc_y     acc_z   \n",
       "0  23.979287 -35.030134  0.979010  ...  -0.887653 -2.040978  0.310637   \n",
       "1   6.819188  54.713996  7.911761  ...   0.391279  0.296913 -0.271146   \n",
       "2  21.803360   8.694206  1.679729  ...   0.358517  1.383899  0.271981   \n",
       "3  24.173447 -34.776579  0.981044  ...  -0.852279 -2.067043  0.408989   \n",
       "4   6.845664  54.413449  7.904068  ...   1.052608 -1.124738 -1.505770   \n",
       "\n",
       "                                                              label  \n",
       "     gyro_x    gyro_y    gyro_z   azimuth     pitch      roll        \n",
       "0 -0.770870  0.216988  0.542839 -0.974530 -0.609662 -0.483729   STD  \n",
       "1  0.451346 -0.266559 -0.483228 -1.839624 -0.473636 -3.153487   LYI  \n",
       "2  2.562237  5.195564 -0.778506 -0.006894  1.256155  0.091516   FOL  \n",
       "3 -2.285107  0.436736  0.250193 -1.170020 -0.710373 -0.549359   STD  \n",
       "4  0.085253 -2.035886 -1.388470 -3.469223 -0.324084 -3.385238   LYI  \n",
       "\n",
       "[5 rows x 64 columns]"
      ]
     },
     "execution_count": 14,
     "metadata": {},
     "output_type": "execute_result"
    }
   ],
   "source": [
    "df = subsample_3_status(X, Y, nb=10)\n",
    "df.head()"
   ]
  },
  {
   "cell_type": "markdown",
   "metadata": {},
   "source": [
    "### Learn a SVC without normalization"
   ]
  },
  {
   "cell_type": "code",
   "execution_count": 15,
   "metadata": {
    "collapsed": false
   },
   "outputs": [
    {
     "data": {
      "text/plain": [
       "1.0"
      ]
     },
     "execution_count": 15,
     "metadata": {},
     "output_type": "execute_result"
    }
   ],
   "source": [
    "class_svc = SVC()\n",
    "X1, Y1 = df.iloc[:,:-1], df.iloc[:,-1] \n",
    "class_svc.fit(X1,Y1)\n",
    "class_svc.score(X1,Y1)"
   ]
  },
  {
   "cell_type": "code",
   "execution_count": 16,
   "metadata": {
    "collapsed": false
   },
   "outputs": [
    {
     "data": {
      "text/plain": [
       "0.83333333333333337"
      ]
     },
     "execution_count": 16,
     "metadata": {},
     "output_type": "execute_result"
    }
   ],
   "source": [
    "df = subsample_3_status(X, Y, subsize=9)\n",
    "X1, Y1 = df.iloc[:,:-1], df.iloc[:,-1] \n",
    "class_svc.score(X1,Y1)"
   ]
  },
  {
   "cell_type": "code",
   "execution_count": 17,
   "metadata": {
    "collapsed": false
   },
   "outputs": [
    {
     "data": {
      "text/plain": [
       "0.33333333333333331"
      ]
     },
     "execution_count": 17,
     "metadata": {},
     "output_type": "execute_result"
    }
   ],
   "source": [
    "df = subsample_3_status(*get_sample(trial=2), subsize=30)\n",
    "X1, Y1 = df.iloc[:,:-1], df.iloc[:,-1] \n",
    "class_svc.score(X1,Y1)"
   ]
  },
  {
   "cell_type": "markdown",
   "metadata": {},
   "source": [
    "### Normalize"
   ]
  },
  {
   "cell_type": "code",
   "execution_count": 18,
   "metadata": {
    "collapsed": true
   },
   "outputs": [],
   "source": [
    "def get_normalized_XY(df):\n",
    "    X, Y = df.iloc[:,:-1], df.iloc[:,-1] \n",
    "    X = norm.fit_transform(X)\n",
    "    return X,Y"
   ]
  },
  {
   "cell_type": "code",
   "execution_count": 19,
   "metadata": {
    "collapsed": false
   },
   "outputs": [
    {
     "data": {
      "text/plain": [
       "1.0"
      ]
     },
     "execution_count": 19,
     "metadata": {},
     "output_type": "execute_result"
    }
   ],
   "source": [
    "norm = preprocessing.MinMaxScaler()\n",
    "class_svc = SVC()\n",
    "\n",
    "df = subsample_3_status(*get_sample(), nb=10)\n",
    "X1, Y1 = get_normalized_XY(df)\n",
    "X1_scaled = norm.fit_transform(X1)\n",
    "class_svc.fit(X1,Y1)\n",
    "class_svc.score(X1,Y1)"
   ]
  },
  {
   "cell_type": "code",
   "execution_count": 20,
   "metadata": {
    "collapsed": false
   },
   "outputs": [
    {
     "data": {
      "text/plain": [
       "1.0"
      ]
     },
     "execution_count": 20,
     "metadata": {},
     "output_type": "execute_result"
    }
   ],
   "source": [
    "df = subsample_3_status(*get_sample(trial=2), nb=10)\n",
    "X1, Y1 = get_normalized_XY(df)\n",
    "class_svc.fit(X1,Y1)\n",
    "class_svc.score(X1,Y1)"
   ]
  },
  {
   "cell_type": "markdown",
   "metadata": {},
   "source": [
    "## Sub-sampling for different fall types"
   ]
  },
  {
   "cell_type": "code",
   "execution_count": 21,
   "metadata": {
    "collapsed": true
   },
   "outputs": [],
   "source": [
    "def subsample_4_types(user=1, nb=20, subsize=30, trials=[1,2], dist=None):\n",
    "    \"\"\" nb is the number of times we subsample in one trial; subsize is the size of the subsample we draw, \n",
    "    dist is the number of each class in each trial\"\"\"\n",
    "    df = pd.DataFrame()\n",
    "    if dist is None:\n",
    "        dist = {f:nb for f in FALLS}\n",
    "        \n",
    "    for fall in FALLS:\n",
    "        for trial in trials:\n",
    "            X, Y = get_sample(user_nbr=user, fall=fall, trial=trial)\n",
    "            \n",
    "            list_index = dict()\n",
    "            parts = (\"STD\", fall, \"LYI\")\n",
    "            for p in parts:\n",
    "                list_index[p] = np.argwhere(Y==p)[:,0]\n",
    "            for n in range(dist[fall]):\n",
    "                df = df.append(subsample_one_mixed(X, list_index, parts, subsize), ignore_index=True)\n",
    "    return df    "
   ]
  },
  {
   "cell_type": "markdown",
   "metadata": {},
   "source": [
    "### Example of Sub-sampling"
   ]
  },
  {
   "cell_type": "code",
   "execution_count": 22,
   "metadata": {
    "collapsed": false
   },
   "outputs": [
    {
     "data": {
      "text/html": [
       "<div>\n",
       "<table border=\"1\" class=\"dataframe\">\n",
       "  <thead>\n",
       "    <tr>\n",
       "      <th></th>\n",
       "      <th colspan=\"9\" halign=\"left\">mean</th>\n",
       "      <th>median</th>\n",
       "      <th>...</th>\n",
       "      <th colspan=\"9\" halign=\"left\">skew</th>\n",
       "      <th>label</th>\n",
       "    </tr>\n",
       "    <tr>\n",
       "      <th></th>\n",
       "      <th>acc_x</th>\n",
       "      <th>acc_y</th>\n",
       "      <th>acc_z</th>\n",
       "      <th>gyro_x</th>\n",
       "      <th>gyro_y</th>\n",
       "      <th>gyro_z</th>\n",
       "      <th>azimuth</th>\n",
       "      <th>pitch</th>\n",
       "      <th>roll</th>\n",
       "      <th>acc_x</th>\n",
       "      <th>...</th>\n",
       "      <th>acc_x</th>\n",
       "      <th>acc_y</th>\n",
       "      <th>acc_z</th>\n",
       "      <th>gyro_x</th>\n",
       "      <th>gyro_y</th>\n",
       "      <th>gyro_z</th>\n",
       "      <th>azimuth</th>\n",
       "      <th>pitch</th>\n",
       "      <th>roll</th>\n",
       "      <th></th>\n",
       "    </tr>\n",
       "  </thead>\n",
       "  <tbody>\n",
       "    <tr>\n",
       "      <th>0</th>\n",
       "      <td>2.417769</td>\n",
       "      <td>-6.766409</td>\n",
       "      <td>2.411367</td>\n",
       "      <td>0.319136</td>\n",
       "      <td>-0.179778</td>\n",
       "      <td>-0.104122</td>\n",
       "      <td>149.778264</td>\n",
       "      <td>61.775766</td>\n",
       "      <td>20.512962</td>\n",
       "      <td>1.085269</td>\n",
       "      <td>...</td>\n",
       "      <td>0.811425</td>\n",
       "      <td>1.627184</td>\n",
       "      <td>0.465924</td>\n",
       "      <td>1.807543</td>\n",
       "      <td>-5.337519</td>\n",
       "      <td>2.198007</td>\n",
       "      <td>-0.792501</td>\n",
       "      <td>0.161094</td>\n",
       "      <td>-0.358403</td>\n",
       "      <td>FOL</td>\n",
       "    </tr>\n",
       "    <tr>\n",
       "      <th>1</th>\n",
       "      <td>2.841081</td>\n",
       "      <td>-6.733122</td>\n",
       "      <td>2.650262</td>\n",
       "      <td>0.085796</td>\n",
       "      <td>-0.425844</td>\n",
       "      <td>-0.001466</td>\n",
       "      <td>150.278212</td>\n",
       "      <td>60.846959</td>\n",
       "      <td>19.379401</td>\n",
       "      <td>1.013027</td>\n",
       "      <td>...</td>\n",
       "      <td>1.112698</td>\n",
       "      <td>2.677507</td>\n",
       "      <td>1.076879</td>\n",
       "      <td>-1.969963</td>\n",
       "      <td>-3.229971</td>\n",
       "      <td>3.256590</td>\n",
       "      <td>-0.549405</td>\n",
       "      <td>0.257676</td>\n",
       "      <td>-0.200091</td>\n",
       "      <td>FOL</td>\n",
       "    </tr>\n",
       "    <tr>\n",
       "      <th>2</th>\n",
       "      <td>1.911701</td>\n",
       "      <td>-6.914617</td>\n",
       "      <td>1.823448</td>\n",
       "      <td>0.240233</td>\n",
       "      <td>-0.016096</td>\n",
       "      <td>-0.173262</td>\n",
       "      <td>151.615597</td>\n",
       "      <td>67.117608</td>\n",
       "      <td>16.238051</td>\n",
       "      <td>0.149010</td>\n",
       "      <td>...</td>\n",
       "      <td>0.442433</td>\n",
       "      <td>1.840719</td>\n",
       "      <td>0.526481</td>\n",
       "      <td>2.072188</td>\n",
       "      <td>1.629123</td>\n",
       "      <td>-3.205227</td>\n",
       "      <td>-0.828290</td>\n",
       "      <td>-0.096573</td>\n",
       "      <td>0.150870</td>\n",
       "      <td>FOL</td>\n",
       "    </tr>\n",
       "    <tr>\n",
       "      <th>3</th>\n",
       "      <td>1.897248</td>\n",
       "      <td>-7.162989</td>\n",
       "      <td>2.353869</td>\n",
       "      <td>0.102208</td>\n",
       "      <td>0.147778</td>\n",
       "      <td>-0.080858</td>\n",
       "      <td>149.299356</td>\n",
       "      <td>63.258369</td>\n",
       "      <td>16.757289</td>\n",
       "      <td>-0.112374</td>\n",
       "      <td>...</td>\n",
       "      <td>0.512223</td>\n",
       "      <td>0.333992</td>\n",
       "      <td>0.889924</td>\n",
       "      <td>4.656484</td>\n",
       "      <td>3.603439</td>\n",
       "      <td>-2.797340</td>\n",
       "      <td>-0.634726</td>\n",
       "      <td>0.202080</td>\n",
       "      <td>-0.441303</td>\n",
       "      <td>FOL</td>\n",
       "    </tr>\n",
       "    <tr>\n",
       "      <th>4</th>\n",
       "      <td>2.350564</td>\n",
       "      <td>-6.505378</td>\n",
       "      <td>3.550471</td>\n",
       "      <td>0.150578</td>\n",
       "      <td>0.091630</td>\n",
       "      <td>-0.203235</td>\n",
       "      <td>151.074324</td>\n",
       "      <td>53.772739</td>\n",
       "      <td>21.509066</td>\n",
       "      <td>0.656926</td>\n",
       "      <td>...</td>\n",
       "      <td>0.675723</td>\n",
       "      <td>0.088804</td>\n",
       "      <td>0.879518</td>\n",
       "      <td>-0.139841</td>\n",
       "      <td>-0.316576</td>\n",
       "      <td>-3.977278</td>\n",
       "      <td>-0.345850</td>\n",
       "      <td>0.666410</td>\n",
       "      <td>-0.468806</td>\n",
       "      <td>FOL</td>\n",
       "    </tr>\n",
       "    <tr>\n",
       "      <th>5</th>\n",
       "      <td>3.160041</td>\n",
       "      <td>-6.160636</td>\n",
       "      <td>3.163346</td>\n",
       "      <td>0.180063</td>\n",
       "      <td>0.192443</td>\n",
       "      <td>0.209527</td>\n",
       "      <td>150.203621</td>\n",
       "      <td>51.951200</td>\n",
       "      <td>21.460311</td>\n",
       "      <td>5.158830</td>\n",
       "      <td>...</td>\n",
       "      <td>0.265926</td>\n",
       "      <td>0.692144</td>\n",
       "      <td>0.215038</td>\n",
       "      <td>3.270778</td>\n",
       "      <td>2.197504</td>\n",
       "      <td>1.688950</td>\n",
       "      <td>-0.331245</td>\n",
       "      <td>0.890455</td>\n",
       "      <td>-0.348644</td>\n",
       "      <td>FOL</td>\n",
       "    </tr>\n",
       "    <tr>\n",
       "      <th>6</th>\n",
       "      <td>3.295353</td>\n",
       "      <td>-5.505698</td>\n",
       "      <td>3.344009</td>\n",
       "      <td>0.124566</td>\n",
       "      <td>-0.360970</td>\n",
       "      <td>0.164832</td>\n",
       "      <td>152.245658</td>\n",
       "      <td>56.854619</td>\n",
       "      <td>20.781388</td>\n",
       "      <td>1.331290</td>\n",
       "      <td>...</td>\n",
       "      <td>1.084582</td>\n",
       "      <td>2.657309</td>\n",
       "      <td>0.846303</td>\n",
       "      <td>1.960900</td>\n",
       "      <td>-3.452615</td>\n",
       "      <td>1.659879</td>\n",
       "      <td>-0.986860</td>\n",
       "      <td>0.552457</td>\n",
       "      <td>-0.305758</td>\n",
       "      <td>FOL</td>\n",
       "    </tr>\n",
       "    <tr>\n",
       "      <th>7</th>\n",
       "      <td>2.195803</td>\n",
       "      <td>-6.863329</td>\n",
       "      <td>2.221650</td>\n",
       "      <td>0.307174</td>\n",
       "      <td>-0.064864</td>\n",
       "      <td>-0.221754</td>\n",
       "      <td>149.884201</td>\n",
       "      <td>56.627907</td>\n",
       "      <td>22.083405</td>\n",
       "      <td>0.267886</td>\n",
       "      <td>...</td>\n",
       "      <td>0.195628</td>\n",
       "      <td>0.019527</td>\n",
       "      <td>0.192137</td>\n",
       "      <td>1.587318</td>\n",
       "      <td>-1.799336</td>\n",
       "      <td>-1.760221</td>\n",
       "      <td>-0.771836</td>\n",
       "      <td>0.508195</td>\n",
       "      <td>-0.437058</td>\n",
       "      <td>FOL</td>\n",
       "    </tr>\n",
       "    <tr>\n",
       "      <th>8</th>\n",
       "      <td>2.582918</td>\n",
       "      <td>-6.994193</td>\n",
       "      <td>2.697426</td>\n",
       "      <td>0.133423</td>\n",
       "      <td>0.309698</td>\n",
       "      <td>-0.007208</td>\n",
       "      <td>150.685173</td>\n",
       "      <td>59.943063</td>\n",
       "      <td>19.288840</td>\n",
       "      <td>0.540423</td>\n",
       "      <td>...</td>\n",
       "      <td>1.327835</td>\n",
       "      <td>0.129920</td>\n",
       "      <td>0.848411</td>\n",
       "      <td>2.910142</td>\n",
       "      <td>3.585556</td>\n",
       "      <td>4.083563</td>\n",
       "      <td>-0.491218</td>\n",
       "      <td>0.372864</td>\n",
       "      <td>-0.352530</td>\n",
       "      <td>FOL</td>\n",
       "    </tr>\n",
       "    <tr>\n",
       "      <th>9</th>\n",
       "      <td>2.202520</td>\n",
       "      <td>-6.629602</td>\n",
       "      <td>2.552903</td>\n",
       "      <td>-0.022531</td>\n",
       "      <td>0.046752</td>\n",
       "      <td>-0.064558</td>\n",
       "      <td>149.737852</td>\n",
       "      <td>53.304947</td>\n",
       "      <td>23.392294</td>\n",
       "      <td>0.913135</td>\n",
       "      <td>...</td>\n",
       "      <td>-0.427315</td>\n",
       "      <td>0.132049</td>\n",
       "      <td>0.110487</td>\n",
       "      <td>-3.138004</td>\n",
       "      <td>3.940437</td>\n",
       "      <td>-4.671779</td>\n",
       "      <td>-0.696111</td>\n",
       "      <td>0.849191</td>\n",
       "      <td>-0.670695</td>\n",
       "      <td>FOL</td>\n",
       "    </tr>\n",
       "    <tr>\n",
       "      <th>10</th>\n",
       "      <td>3.184081</td>\n",
       "      <td>-4.555811</td>\n",
       "      <td>4.018705</td>\n",
       "      <td>0.139532</td>\n",
       "      <td>0.165361</td>\n",
       "      <td>-0.165463</td>\n",
       "      <td>188.000377</td>\n",
       "      <td>46.986476</td>\n",
       "      <td>23.489411</td>\n",
       "      <td>4.187822</td>\n",
       "      <td>...</td>\n",
       "      <td>0.773116</td>\n",
       "      <td>-0.358814</td>\n",
       "      <td>-0.256864</td>\n",
       "      <td>2.971693</td>\n",
       "      <td>2.476232</td>\n",
       "      <td>-2.809831</td>\n",
       "      <td>-0.505730</td>\n",
       "      <td>0.674598</td>\n",
       "      <td>-0.396046</td>\n",
       "      <td>FKL</td>\n",
       "    </tr>\n",
       "    <tr>\n",
       "      <th>11</th>\n",
       "      <td>3.470556</td>\n",
       "      <td>-4.530580</td>\n",
       "      <td>4.262461</td>\n",
       "      <td>0.028823</td>\n",
       "      <td>0.019415</td>\n",
       "      <td>-0.045988</td>\n",
       "      <td>188.476312</td>\n",
       "      <td>43.697915</td>\n",
       "      <td>24.027565</td>\n",
       "      <td>4.332175</td>\n",
       "      <td>...</td>\n",
       "      <td>0.881510</td>\n",
       "      <td>-0.159150</td>\n",
       "      <td>-0.287235</td>\n",
       "      <td>3.602567</td>\n",
       "      <td>0.800851</td>\n",
       "      <td>-5.264644</td>\n",
       "      <td>-0.324849</td>\n",
       "      <td>0.660689</td>\n",
       "      <td>-0.153597</td>\n",
       "      <td>FKL</td>\n",
       "    </tr>\n",
       "    <tr>\n",
       "      <th>12</th>\n",
       "      <td>3.105937</td>\n",
       "      <td>-5.082725</td>\n",
       "      <td>3.658911</td>\n",
       "      <td>-0.017033</td>\n",
       "      <td>-0.022694</td>\n",
       "      <td>-0.069690</td>\n",
       "      <td>188.197577</td>\n",
       "      <td>48.649360</td>\n",
       "      <td>22.186269</td>\n",
       "      <td>2.938334</td>\n",
       "      <td>...</td>\n",
       "      <td>0.548524</td>\n",
       "      <td>0.147047</td>\n",
       "      <td>-0.023042</td>\n",
       "      <td>3.890746</td>\n",
       "      <td>-1.248175</td>\n",
       "      <td>-3.730870</td>\n",
       "      <td>-0.594969</td>\n",
       "      <td>0.647644</td>\n",
       "      <td>-0.229657</td>\n",
       "      <td>FKL</td>\n",
       "    </tr>\n",
       "    <tr>\n",
       "      <th>13</th>\n",
       "      <td>-1.613041</td>\n",
       "      <td>-1.589591</td>\n",
       "      <td>3.005968</td>\n",
       "      <td>0.320826</td>\n",
       "      <td>0.114385</td>\n",
       "      <td>0.048319</td>\n",
       "      <td>214.503517</td>\n",
       "      <td>3.679740</td>\n",
       "      <td>-16.838855</td>\n",
       "      <td>0.175014</td>\n",
       "      <td>...</td>\n",
       "      <td>-0.242654</td>\n",
       "      <td>-0.022852</td>\n",
       "      <td>-0.978689</td>\n",
       "      <td>1.825024</td>\n",
       "      <td>3.163905</td>\n",
       "      <td>4.668599</td>\n",
       "      <td>-0.029959</td>\n",
       "      <td>-0.371986</td>\n",
       "      <td>0.295465</td>\n",
       "      <td>BSC</td>\n",
       "    </tr>\n",
       "    <tr>\n",
       "      <th>14</th>\n",
       "      <td>-2.049104</td>\n",
       "      <td>-0.239524</td>\n",
       "      <td>2.958268</td>\n",
       "      <td>0.080746</td>\n",
       "      <td>0.051292</td>\n",
       "      <td>-0.002708</td>\n",
       "      <td>210.576780</td>\n",
       "      <td>-8.890965</td>\n",
       "      <td>-18.923590</td>\n",
       "      <td>-1.985193</td>\n",
       "      <td>...</td>\n",
       "      <td>-0.039479</td>\n",
       "      <td>-0.333934</td>\n",
       "      <td>-1.071591</td>\n",
       "      <td>-0.564336</td>\n",
       "      <td>3.411974</td>\n",
       "      <td>-2.567854</td>\n",
       "      <td>0.406919</td>\n",
       "      <td>-0.272964</td>\n",
       "      <td>0.559609</td>\n",
       "      <td>BSC</td>\n",
       "    </tr>\n",
       "    <tr>\n",
       "      <th>15</th>\n",
       "      <td>-1.723523</td>\n",
       "      <td>-1.178425</td>\n",
       "      <td>2.260339</td>\n",
       "      <td>0.230887</td>\n",
       "      <td>0.045459</td>\n",
       "      <td>0.029210</td>\n",
       "      <td>210.131461</td>\n",
       "      <td>-10.001115</td>\n",
       "      <td>-21.655995</td>\n",
       "      <td>-0.533085</td>\n",
       "      <td>...</td>\n",
       "      <td>-0.135757</td>\n",
       "      <td>-0.081261</td>\n",
       "      <td>-0.930973</td>\n",
       "      <td>0.799302</td>\n",
       "      <td>0.709210</td>\n",
       "      <td>2.349362</td>\n",
       "      <td>0.141355</td>\n",
       "      <td>-0.465365</td>\n",
       "      <td>0.532186</td>\n",
       "      <td>BSC</td>\n",
       "    </tr>\n",
       "    <tr>\n",
       "      <th>16</th>\n",
       "      <td>-1.458262</td>\n",
       "      <td>-1.732946</td>\n",
       "      <td>3.528351</td>\n",
       "      <td>0.250903</td>\n",
       "      <td>0.091711</td>\n",
       "      <td>-0.009285</td>\n",
       "      <td>215.789948</td>\n",
       "      <td>7.252738</td>\n",
       "      <td>-15.607187</td>\n",
       "      <td>0.334660</td>\n",
       "      <td>...</td>\n",
       "      <td>-0.335144</td>\n",
       "      <td>0.076055</td>\n",
       "      <td>-0.610617</td>\n",
       "      <td>1.026919</td>\n",
       "      <td>2.460551</td>\n",
       "      <td>-1.748961</td>\n",
       "      <td>-0.267921</td>\n",
       "      <td>-0.226802</td>\n",
       "      <td>0.242348</td>\n",
       "      <td>BSC</td>\n",
       "    </tr>\n",
       "    <tr>\n",
       "      <th>17</th>\n",
       "      <td>-2.124612</td>\n",
       "      <td>0.559730</td>\n",
       "      <td>2.596955</td>\n",
       "      <td>0.157369</td>\n",
       "      <td>0.041264</td>\n",
       "      <td>0.003146</td>\n",
       "      <td>208.829828</td>\n",
       "      <td>-16.099690</td>\n",
       "      <td>-20.220878</td>\n",
       "      <td>-3.050933</td>\n",
       "      <td>...</td>\n",
       "      <td>0.150959</td>\n",
       "      <td>-0.473142</td>\n",
       "      <td>-1.277926</td>\n",
       "      <td>1.011586</td>\n",
       "      <td>1.022096</td>\n",
       "      <td>0.913294</td>\n",
       "      <td>0.572621</td>\n",
       "      <td>-0.075071</td>\n",
       "      <td>0.390721</td>\n",
       "      <td>BSC</td>\n",
       "    </tr>\n",
       "    <tr>\n",
       "      <th>18</th>\n",
       "      <td>-5.475967</td>\n",
       "      <td>-3.683336</td>\n",
       "      <td>2.617789</td>\n",
       "      <td>0.270196</td>\n",
       "      <td>0.005508</td>\n",
       "      <td>0.132955</td>\n",
       "      <td>253.019791</td>\n",
       "      <td>29.985848</td>\n",
       "      <td>-42.815266</td>\n",
       "      <td>-7.834818</td>\n",
       "      <td>...</td>\n",
       "      <td>0.248024</td>\n",
       "      <td>1.761066</td>\n",
       "      <td>1.158564</td>\n",
       "      <td>2.175747</td>\n",
       "      <td>-1.556853</td>\n",
       "      <td>2.243907</td>\n",
       "      <td>0.154787</td>\n",
       "      <td>0.547197</td>\n",
       "      <td>0.420249</td>\n",
       "      <td>SDL</td>\n",
       "    </tr>\n",
       "    <tr>\n",
       "      <th>19</th>\n",
       "      <td>-5.166022</td>\n",
       "      <td>-4.743582</td>\n",
       "      <td>2.370247</td>\n",
       "      <td>0.133759</td>\n",
       "      <td>0.030574</td>\n",
       "      <td>0.078842</td>\n",
       "      <td>255.305394</td>\n",
       "      <td>31.670856</td>\n",
       "      <td>-45.972817</td>\n",
       "      <td>-5.532943</td>\n",
       "      <td>...</td>\n",
       "      <td>0.030036</td>\n",
       "      <td>-0.198579</td>\n",
       "      <td>1.495595</td>\n",
       "      <td>3.275204</td>\n",
       "      <td>2.015872</td>\n",
       "      <td>3.838357</td>\n",
       "      <td>-0.077691</td>\n",
       "      <td>0.459126</td>\n",
       "      <td>0.583519</td>\n",
       "      <td>SDL</td>\n",
       "    </tr>\n",
       "  </tbody>\n",
       "</table>\n",
       "<p>20 rows × 64 columns</p>\n",
       "</div>"
      ],
      "text/plain": [
       "        mean                                                                \\\n",
       "       acc_x     acc_y     acc_z    gyro_x    gyro_y    gyro_z     azimuth   \n",
       "0   2.417769 -6.766409  2.411367  0.319136 -0.179778 -0.104122  149.778264   \n",
       "1   2.841081 -6.733122  2.650262  0.085796 -0.425844 -0.001466  150.278212   \n",
       "2   1.911701 -6.914617  1.823448  0.240233 -0.016096 -0.173262  151.615597   \n",
       "3   1.897248 -7.162989  2.353869  0.102208  0.147778 -0.080858  149.299356   \n",
       "4   2.350564 -6.505378  3.550471  0.150578  0.091630 -0.203235  151.074324   \n",
       "5   3.160041 -6.160636  3.163346  0.180063  0.192443  0.209527  150.203621   \n",
       "6   3.295353 -5.505698  3.344009  0.124566 -0.360970  0.164832  152.245658   \n",
       "7   2.195803 -6.863329  2.221650  0.307174 -0.064864 -0.221754  149.884201   \n",
       "8   2.582918 -6.994193  2.697426  0.133423  0.309698 -0.007208  150.685173   \n",
       "9   2.202520 -6.629602  2.552903 -0.022531  0.046752 -0.064558  149.737852   \n",
       "10  3.184081 -4.555811  4.018705  0.139532  0.165361 -0.165463  188.000377   \n",
       "11  3.470556 -4.530580  4.262461  0.028823  0.019415 -0.045988  188.476312   \n",
       "12  3.105937 -5.082725  3.658911 -0.017033 -0.022694 -0.069690  188.197577   \n",
       "13 -1.613041 -1.589591  3.005968  0.320826  0.114385  0.048319  214.503517   \n",
       "14 -2.049104 -0.239524  2.958268  0.080746  0.051292 -0.002708  210.576780   \n",
       "15 -1.723523 -1.178425  2.260339  0.230887  0.045459  0.029210  210.131461   \n",
       "16 -1.458262 -1.732946  3.528351  0.250903  0.091711 -0.009285  215.789948   \n",
       "17 -2.124612  0.559730  2.596955  0.157369  0.041264  0.003146  208.829828   \n",
       "18 -5.475967 -3.683336  2.617789  0.270196  0.005508  0.132955  253.019791   \n",
       "19 -5.166022 -4.743582  2.370247  0.133759  0.030574  0.078842  255.305394   \n",
       "\n",
       "                            median  ...       skew                      \\\n",
       "        pitch       roll     acc_x  ...      acc_x     acc_y     acc_z   \n",
       "0   61.775766  20.512962  1.085269  ...   0.811425  1.627184  0.465924   \n",
       "1   60.846959  19.379401  1.013027  ...   1.112698  2.677507  1.076879   \n",
       "2   67.117608  16.238051  0.149010  ...   0.442433  1.840719  0.526481   \n",
       "3   63.258369  16.757289 -0.112374  ...   0.512223  0.333992  0.889924   \n",
       "4   53.772739  21.509066  0.656926  ...   0.675723  0.088804  0.879518   \n",
       "5   51.951200  21.460311  5.158830  ...   0.265926  0.692144  0.215038   \n",
       "6   56.854619  20.781388  1.331290  ...   1.084582  2.657309  0.846303   \n",
       "7   56.627907  22.083405  0.267886  ...   0.195628  0.019527  0.192137   \n",
       "8   59.943063  19.288840  0.540423  ...   1.327835  0.129920  0.848411   \n",
       "9   53.304947  23.392294  0.913135  ...  -0.427315  0.132049  0.110487   \n",
       "10  46.986476  23.489411  4.187822  ...   0.773116 -0.358814 -0.256864   \n",
       "11  43.697915  24.027565  4.332175  ...   0.881510 -0.159150 -0.287235   \n",
       "12  48.649360  22.186269  2.938334  ...   0.548524  0.147047 -0.023042   \n",
       "13   3.679740 -16.838855  0.175014  ...  -0.242654 -0.022852 -0.978689   \n",
       "14  -8.890965 -18.923590 -1.985193  ...  -0.039479 -0.333934 -1.071591   \n",
       "15 -10.001115 -21.655995 -0.533085  ...  -0.135757 -0.081261 -0.930973   \n",
       "16   7.252738 -15.607187  0.334660  ...  -0.335144  0.076055 -0.610617   \n",
       "17 -16.099690 -20.220878 -3.050933  ...   0.150959 -0.473142 -1.277926   \n",
       "18  29.985848 -42.815266 -7.834818  ...   0.248024  1.761066  1.158564   \n",
       "19  31.670856 -45.972817 -5.532943  ...   0.030036 -0.198579  1.495595   \n",
       "\n",
       "                                                               label  \n",
       "      gyro_x    gyro_y    gyro_z   azimuth     pitch      roll        \n",
       "0   1.807543 -5.337519  2.198007 -0.792501  0.161094 -0.358403   FOL  \n",
       "1  -1.969963 -3.229971  3.256590 -0.549405  0.257676 -0.200091   FOL  \n",
       "2   2.072188  1.629123 -3.205227 -0.828290 -0.096573  0.150870   FOL  \n",
       "3   4.656484  3.603439 -2.797340 -0.634726  0.202080 -0.441303   FOL  \n",
       "4  -0.139841 -0.316576 -3.977278 -0.345850  0.666410 -0.468806   FOL  \n",
       "5   3.270778  2.197504  1.688950 -0.331245  0.890455 -0.348644   FOL  \n",
       "6   1.960900 -3.452615  1.659879 -0.986860  0.552457 -0.305758   FOL  \n",
       "7   1.587318 -1.799336 -1.760221 -0.771836  0.508195 -0.437058   FOL  \n",
       "8   2.910142  3.585556  4.083563 -0.491218  0.372864 -0.352530   FOL  \n",
       "9  -3.138004  3.940437 -4.671779 -0.696111  0.849191 -0.670695   FOL  \n",
       "10  2.971693  2.476232 -2.809831 -0.505730  0.674598 -0.396046   FKL  \n",
       "11  3.602567  0.800851 -5.264644 -0.324849  0.660689 -0.153597   FKL  \n",
       "12  3.890746 -1.248175 -3.730870 -0.594969  0.647644 -0.229657   FKL  \n",
       "13  1.825024  3.163905  4.668599 -0.029959 -0.371986  0.295465   BSC  \n",
       "14 -0.564336  3.411974 -2.567854  0.406919 -0.272964  0.559609   BSC  \n",
       "15  0.799302  0.709210  2.349362  0.141355 -0.465365  0.532186   BSC  \n",
       "16  1.026919  2.460551 -1.748961 -0.267921 -0.226802  0.242348   BSC  \n",
       "17  1.011586  1.022096  0.913294  0.572621 -0.075071  0.390721   BSC  \n",
       "18  2.175747 -1.556853  2.243907  0.154787  0.547197  0.420249   SDL  \n",
       "19  3.275204  2.015872  3.838357 -0.077691  0.459126  0.583519   SDL  \n",
       "\n",
       "[20 rows x 64 columns]"
      ]
     },
     "execution_count": 22,
     "metadata": {},
     "output_type": "execute_result"
    }
   ],
   "source": [
    "subsample_4_types(dist={'BSC': 5, 'FKL': 3, 'FOL': 10, 'SDL': 2}, trials=[2])"
   ]
  },
  {
   "cell_type": "markdown",
   "metadata": {},
   "source": [
    "### Example of training a SVC"
   ]
  },
  {
   "cell_type": "code",
   "execution_count": 23,
   "metadata": {
    "collapsed": false
   },
   "outputs": [
    {
     "data": {
      "text/plain": [
       "0.98750000000000004"
      ]
     },
     "execution_count": 23,
     "metadata": {},
     "output_type": "execute_result"
    }
   ],
   "source": [
    "df = subsample_4_types(user=1, trials=[3])\n",
    "X1, Y1 = get_normalized_XY(df)\n",
    "class_svc.fit(X1,Y1)\n",
    "class_svc.score(X1,Y1)"
   ]
  },
  {
   "cell_type": "code",
   "execution_count": 24,
   "metadata": {
    "collapsed": true
   },
   "outputs": [],
   "source": [
    "index = df.columns"
   ]
  },
  {
   "cell_type": "markdown",
   "metadata": {},
   "source": [
    "## Create a dataset"
   ]
  },
  {
   "cell_type": "code",
   "execution_count": 25,
   "metadata": {
    "collapsed": true
   },
   "outputs": [],
   "source": [
    "class Dataset():\n",
    "    def __init__(self, user, df_train, df_test):\n",
    "        self.user = user\n",
    "        self.index = df_train.columns\n",
    "        # Extract X, Y and normalize\n",
    "        self.X_train, self.Y_train = get_normalized_XY(df_train)\n",
    "        self.X_test, self.Y_test = get_normalized_XY(df_test)\n",
    "\n",
    "    def test_to_dataframe(self):\n",
    "        df = pd.DataFrame(self.X_test)\n",
    "        df['label'] = self.Y_test\n",
    "        df.columns = self.index\n",
    "        return df\n",
    "    \n",
    "    def train_to_dataframe(self):\n",
    "        df = pd.DataFrame(self.X_train)\n",
    "        df['label'] = self.Y_train\n",
    "        df.columns = self.index\n",
    "        return df\n",
    "    \n",
    "    def save(self, dest_dir):\n",
    "        self.train_to_dataframe().to_csv(os.path.join(dest_dir,\"user{}_train.csv\".format(self.user)))\n",
    "        self.test_to_dataframe().to_csv(os.path.join(dest_dir,\"user{}_test.csv\".format(self.user)))\n",
    "        \n",
    "    def __repr__(self):\n",
    "        return \"user {}: train size is {}, test size is {}\".format(self.user, len(self.X_train), len(self.X_test))"
   ]
  },
  {
   "cell_type": "code",
   "execution_count": 28,
   "metadata": {
    "collapsed": false
   },
   "outputs": [],
   "source": [
    "def create_dataset(low=2, high=10, nb_test=20):\n",
    "    \"\"\"Create a dataset with simple options, return 4 dicts users->train/test samples of descriptions and class\"\"\"\n",
    "    datasets = list()\n",
    "\n",
    "    for user in USERS:\n",
    "        try: \n",
    "            nb_train = np.random.randint(low,high)\n",
    "            # sample train and test\n",
    "            df_train = subsample_4_types(user=user, nb=nb_train, trials=[1,2])\n",
    "            df_test = subsample_4_types(user=user, nb=nb_test, trials=[3])\n",
    "            # keep everything\n",
    "            dataset=Dataset(user, df_train, df_test)\n",
    "            datasets.append(dataset)\n",
    "            print(dataset)\n",
    "        except (FileNotFoundError, ValueError, OSError) as detail :\n",
    "            print('Problem with user {}:  {}'.format(user, detail) )\n",
    "    return datasets"
   ]
  },
  {
   "cell_type": "code",
   "execution_count": 29,
   "metadata": {
    "collapsed": false
   },
   "outputs": [
    {
     "name": "stdout",
     "output_type": "stream",
     "text": [
      "user 1: train size is 16, test size is 80\n",
      "user 2: train size is 72, test size is 80\n",
      "Problem with user 3:  File b'../datasets/MobiAct_Dataset_v2.0/Annotated Data/BSC/BSC_3_2_annotated.csv' does not exist\n",
      "user 4: train size is 48, test size is 80\n",
      "user 5: train size is 40, test size is 80\n",
      "user 6: train size is 32, test size is 80\n",
      "user 7: train size is 48, test size is 80\n",
      "user 8: train size is 24, test size is 80\n",
      "user 9: train size is 72, test size is 80\n",
      "user 10: train size is 40, test size is 80\n",
      "user 11: train size is 56, test size is 80\n",
      "user 12: train size is 56, test size is 80\n",
      "user 13: train size is 24, test size is 80\n",
      "user 14: train size is 64, test size is 80\n",
      "user 15: train size is 56, test size is 80\n",
      "user 16: train size is 40, test size is 80\n",
      "user 17: train size is 32, test size is 80\n",
      "user 18: train size is 48, test size is 80\n",
      "user 19: train size is 72, test size is 80\n",
      "user 20: train size is 72, test size is 80\n",
      "user 21: train size is 56, test size is 80\n",
      "user 22: train size is 48, test size is 80\n",
      "user 23: train size is 40, test size is 80\n",
      "Problem with user 24:  File b'../datasets/MobiAct_Dataset_v2.0/Annotated Data/FOL/FOL_24_1_annotated.csv' does not exist\n",
      "user 25: train size is 24, test size is 80\n",
      "user 26: train size is 40, test size is 80\n",
      "user 27: train size is 56, test size is 80\n",
      "user 28: train size is 64, test size is 80\n",
      "user 29: train size is 32, test size is 80\n",
      "user 30: train size is 72, test size is 80\n",
      "user 31: train size is 24, test size is 80\n",
      "user 32: train size is 32, test size is 80\n",
      "user 33: train size is 32, test size is 80\n",
      "user 34: train size is 48, test size is 80\n",
      "user 35: train size is 40, test size is 80\n",
      "user 36: train size is 72, test size is 80\n",
      "user 37: train size is 72, test size is 80\n",
      "user 38: train size is 72, test size is 80\n",
      "Problem with user 39:  Cannot take a larger sample than population when 'replace=False'\n",
      "user 40: train size is 16, test size is 80\n",
      "Problem with user 41:  File b'../datasets/MobiAct_Dataset_v2.0/Annotated Data/FOL/FOL_41_1_annotated.csv' does not exist\n",
      "user 42: train size is 32, test size is 80\n",
      "user 43: train size is 32, test size is 80\n",
      "user 44: train size is 24, test size is 80\n",
      "user 45: train size is 24, test size is 80\n",
      "user 46: train size is 40, test size is 80\n",
      "user 47: train size is 40, test size is 80\n",
      "user 48: train size is 24, test size is 80\n",
      "user 49: train size is 24, test size is 80\n",
      "Problem with user 50:  File b'../datasets/MobiAct_Dataset_v2.0/Annotated Data/FOL/FOL_50_1_annotated.csv' does not exist\n",
      "user 51: train size is 72, test size is 80\n",
      "user 52: train size is 24, test size is 80\n",
      "user 53: train size is 56, test size is 80\n",
      "user 54: train size is 40, test size is 80\n",
      "user 55: train size is 64, test size is 80\n",
      "user 56: train size is 56, test size is 80\n",
      "user 57: train size is 24, test size is 80\n",
      "user 58: train size is 24, test size is 80\n",
      "user 59: train size is 40, test size is 80\n",
      "user 60: train size is 48, test size is 80\n",
      "user 61: train size is 48, test size is 80\n",
      "Problem with user 62:  Cannot take a larger sample than population when 'replace=False'\n",
      "user 63: train size is 24, test size is 80\n",
      "user 64: train size is 72, test size is 80\n",
      "user 65: train size is 24, test size is 80\n",
      "user 66: train size is 72, test size is 80\n",
      "user 67: train size is 48, test size is 80\n"
     ]
    }
   ],
   "source": [
    "datasets = create_dataset()"
   ]
  },
  {
   "cell_type": "markdown",
   "metadata": {},
   "source": [
    "## Perfs with a linear SVC"
   ]
  },
  {
   "cell_type": "markdown",
   "metadata": {},
   "source": [
    "### Local models"
   ]
  },
  {
   "cell_type": "code",
   "execution_count": 30,
   "metadata": {
    "collapsed": false
   },
   "outputs": [
    {
     "name": "stdout",
     "output_type": "stream",
     "text": [
      "user 1, train:1.0; test: 0.9125\n",
      "user 2, train:1.0; test: 0.875\n",
      "user 4, train:1.0; test: 0.8625\n",
      "user 5, train:1.0; test: 0.8375\n",
      "user 6, train:1.0; test: 0.65\n",
      "user 7, train:1.0; test: 0.7875\n",
      "user 8, train:1.0; test: 0.9375\n",
      "user 9, train:1.0; test: 0.7875\n",
      "user 10, train:1.0; test: 0.6625\n",
      "user 11, train:1.0; test: 0.8875\n",
      "user 12, train:1.0; test: 0.75\n",
      "user 13, train:1.0; test: 0.975\n",
      "user 14, train:1.0; test: 0.9875\n",
      "user 15, train:1.0; test: 0.8\n",
      "user 16, train:1.0; test: 0.8375\n",
      "user 17, train:1.0; test: 0.7625\n",
      "user 18, train:1.0; test: 0.7625\n",
      "user 19, train:1.0; test: 0.75\n",
      "user 20, train:1.0; test: 0.55\n",
      "user 21, train:1.0; test: 0.7\n",
      "user 22, train:1.0; test: 0.6375\n",
      "user 23, train:1.0; test: 0.6125\n",
      "user 25, train:1.0; test: 1.0\n",
      "user 26, train:1.0; test: 0.85\n",
      "user 27, train:1.0; test: 0.75\n",
      "user 28, train:1.0; test: 0.6125\n",
      "user 29, train:1.0; test: 0.9875\n",
      "user 30, train:0.9861111111111112; test: 0.975\n",
      "user 31, train:1.0; test: 0.5\n",
      "user 32, train:1.0; test: 0.7875\n",
      "user 33, train:1.0; test: 0.9375\n",
      "user 34, train:1.0; test: 0.9625\n",
      "user 35, train:1.0; test: 0.4875\n",
      "user 36, train:1.0; test: 0.8125\n",
      "user 37, train:1.0; test: 0.9\n",
      "user 38, train:1.0; test: 0.9375\n",
      "user 40, train:1.0; test: 0.7875\n",
      "user 42, train:1.0; test: 0.9625\n",
      "user 43, train:1.0; test: 0.8\n",
      "user 44, train:1.0; test: 0.775\n",
      "user 45, train:1.0; test: 0.9875\n",
      "user 46, train:1.0; test: 0.8375\n",
      "user 47, train:1.0; test: 0.85\n",
      "user 48, train:1.0; test: 0.9125\n",
      "user 49, train:1.0; test: 0.65\n",
      "user 51, train:1.0; test: 0.775\n",
      "user 52, train:1.0; test: 0.5\n",
      "user 53, train:1.0; test: 0.525\n",
      "user 54, train:1.0; test: 0.8125\n",
      "user 55, train:1.0; test: 0.875\n",
      "user 56, train:1.0; test: 0.8625\n",
      "user 57, train:1.0; test: 0.5125\n",
      "user 58, train:1.0; test: 0.875\n",
      "user 59, train:1.0; test: 0.6375\n",
      "user 60, train:1.0; test: 0.75\n",
      "user 61, train:1.0; test: 1.0\n",
      "user 63, train:1.0; test: 0.9375\n",
      "user 64, train:1.0; test: 0.9875\n",
      "user 65, train:1.0; test: 0.825\n",
      "user 66, train:1.0; test: 0.9875\n",
      "user 67, train:1.0; test: 0.5\n"
     ]
    }
   ],
   "source": [
    "class_svc = SVC(kernel=\"linear\")\n",
    "allX_train = np.empty((0, 63))\n",
    "allY_train = pd.Series()\n",
    "\n",
    "for dataset in datasets:\n",
    "    try: \n",
    "        # train\n",
    "        class_svc.fit(dataset.X_train, dataset.Y_train)\n",
    "        train_acc = class_svc.score(dataset.X_train, dataset.Y_train)\n",
    "        # test\n",
    "        test_acc = class_svc.score(dataset.X_test, dataset.Y_test)\n",
    "        print(\"user {}, train:{}; test: {}\".format(dataset.user,  train_acc, test_acc))\n",
    "        # gather the train datasets for a global model\n",
    "        allX_train = np.concatenate((allX_train, dataset.X_train))\n",
    "        allY_train = allY_train.append(dataset.Y_train)       \n",
    "    except:\n",
    "        print('user {}: problem'.format(dataset.user) )"
   ]
  },
  {
   "cell_type": "markdown",
   "metadata": {},
   "source": [
    "### Global model"
   ]
  },
  {
   "cell_type": "code",
   "execution_count": 31,
   "metadata": {
    "collapsed": false
   },
   "outputs": [
    {
     "name": "stdout",
     "output_type": "stream",
     "text": [
      "train:  0.771260997067\n",
      "test for user 1: 0.525\n",
      "test for user 2: 0.6\n",
      "test for user 4: 0.5\n",
      "test for user 5: 0.625\n",
      "test for user 6: 0.7875\n",
      "test for user 7: 0.8375\n",
      "test for user 8: 0.65\n",
      "test for user 9: 0.7125\n",
      "test for user 10: 0.3875\n",
      "test for user 11: 0.7375\n",
      "test for user 12: 0.7\n",
      "test for user 13: 0.7625\n",
      "test for user 14: 0.9375\n",
      "test for user 15: 0.325\n",
      "test for user 16: 0.8375\n",
      "test for user 17: 0.8625\n",
      "test for user 18: 0.8625\n",
      "test for user 19: 0.8\n",
      "test for user 20: 0.75\n",
      "test for user 21: 0.5625\n",
      "test for user 22: 0.95\n",
      "test for user 23: 0.3875\n",
      "test for user 25: 0.9625\n",
      "test for user 26: 0.1375\n",
      "test for user 27: 0.475\n",
      "test for user 28: 0.375\n",
      "test for user 29: 0.7\n",
      "test for user 30: 0.775\n",
      "test for user 31: 0.8375\n",
      "test for user 32: 0.8625\n",
      "test for user 33: 0.85\n",
      "test for user 34: 0.7375\n",
      "test for user 35: 0.4\n",
      "test for user 36: 0.925\n",
      "test for user 37: 0.925\n",
      "test for user 38: 0.775\n",
      "test for user 40: 0.8625\n",
      "test for user 42: 0.7875\n",
      "test for user 43: 0.575\n",
      "test for user 44: 0.975\n",
      "test for user 45: 0.9125\n",
      "test for user 46: 0.6125\n",
      "test for user 47: 0.7625\n",
      "test for user 48: 0.4375\n",
      "test for user 49: 0.5\n",
      "test for user 51: 0.6125\n",
      "test for user 52: 0.7\n",
      "test for user 53: 0.675\n",
      "test for user 54: 0.8375\n",
      "test for user 55: 0.75\n",
      "test for user 56: 0.975\n",
      "test for user 57: 0.525\n",
      "test for user 58: 0.8125\n",
      "test for user 59: 0.7875\n",
      "test for user 60: 0.6\n",
      "test for user 61: 0.9875\n",
      "test for user 63: 0.6875\n",
      "test for user 64: 0.8\n",
      "test for user 65: 0.8625\n",
      "test for user 66: 0.825\n",
      "test for user 67: 0.525\n"
     ]
    }
   ],
   "source": [
    "class_svc.fit(allX_train, allY_train)\n",
    "global_train_score = class_svc.score(allX_train, allY_train)\n",
    "print(\"train: \", global_train_score)\n",
    "for dataset in datasets: \n",
    "    try:\n",
    "        global_test_score = class_svc.score(dataset.X_test, dataset.Y_test)\n",
    "        print(\"test for user {}: {}\".format(dataset.user, global_test_score))\n",
    "    except:\n",
    "        print('user {}: problem'.format(dataset.user))"
   ]
  },
  {
   "cell_type": "markdown",
   "metadata": {},
   "source": [
    "# Save the dataset"
   ]
  },
  {
   "cell_type": "code",
   "execution_count": 32,
   "metadata": {
    "collapsed": true
   },
   "outputs": [],
   "source": [
    "import sys\n",
    "import os\n",
    "import shutil"
   ]
  },
  {
   "cell_type": "code",
   "execution_count": 33,
   "metadata": {
    "collapsed": false
   },
   "outputs": [],
   "source": [
    "dest_dir = \"../datasets/Mobi_Generated\"\n",
    "if os.path.exists(dest_dir):\n",
    "    shutil.rmtree(dest_dir)\n",
    "os.makedirs(dest_dir)\n",
    "\n",
    "for dataset in datasets:\n",
    "    dataset.save(dest_dir)"
   ]
  },
  {
   "cell_type": "code",
   "execution_count": null,
   "metadata": {
    "collapsed": true
   },
   "outputs": [],
   "source": []
  }
 ],
 "metadata": {
  "kernelspec": {
   "display_name": "Python 3",
   "language": "python",
   "name": "python3"
  },
  "language_info": {
   "codemirror_mode": {
    "name": "ipython",
    "version": 3
   },
   "file_extension": ".py",
   "mimetype": "text/x-python",
   "name": "python",
   "nbconvert_exporter": "python",
   "pygments_lexer": "ipython3",
   "version": "3.5.2"
  }
 },
 "nbformat": 4,
 "nbformat_minor": 2
}
