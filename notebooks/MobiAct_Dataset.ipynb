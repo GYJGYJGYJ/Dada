{
 "cells": [
  {
   "cell_type": "code",
   "execution_count": 1,
   "metadata": {
    "collapsed": false
   },
   "outputs": [],
   "source": [
    "import numpy as np\n",
    "import pandas as pd\n",
    "from sklearn import preprocessing\n",
    "from sklearn.metrics.pairwise import pairwise_distances\n",
    "from sklearn.svm import SVC\n",
    "import os.path\n",
    "\n",
    "norm = preprocessing.MinMaxScaler()"
   ]
  },
  {
   "cell_type": "markdown",
   "metadata": {},
   "source": [
    "# Users"
   ]
  },
  {
   "cell_type": "markdown",
   "metadata": {},
   "source": [
    "There are missing values for the gender (represented as '-'). I normalize the columns and compute the distance matrix.\n"
   ]
  },
  {
   "cell_type": "code",
   "execution_count": 2,
   "metadata": {
    "collapsed": false
   },
   "outputs": [
    {
     "data": {
      "text/html": [
       "<div>\n",
       "<table border=\"1\" class=\"dataframe\">\n",
       "  <thead>\n",
       "    <tr style=\"text-align: right;\">\n",
       "      <th></th>\n",
       "      <th>Age</th>\n",
       "      <th>Height</th>\n",
       "      <th>Weight</th>\n",
       "      <th>Gender</th>\n",
       "    </tr>\n",
       "  </thead>\n",
       "  <tbody>\n",
       "    <tr>\n",
       "      <th>0</th>\n",
       "      <td>32</td>\n",
       "      <td>180</td>\n",
       "      <td>85</td>\n",
       "      <td>1</td>\n",
       "    </tr>\n",
       "    <tr>\n",
       "      <th>1</th>\n",
       "      <td>26</td>\n",
       "      <td>169</td>\n",
       "      <td>64</td>\n",
       "      <td>1</td>\n",
       "    </tr>\n",
       "    <tr>\n",
       "      <th>2</th>\n",
       "      <td>26</td>\n",
       "      <td>164</td>\n",
       "      <td>55</td>\n",
       "      <td>0</td>\n",
       "    </tr>\n",
       "    <tr>\n",
       "      <th>3</th>\n",
       "      <td>32</td>\n",
       "      <td>186</td>\n",
       "      <td>93</td>\n",
       "      <td>1</td>\n",
       "    </tr>\n",
       "    <tr>\n",
       "      <th>4</th>\n",
       "      <td>36</td>\n",
       "      <td>160</td>\n",
       "      <td>50</td>\n",
       "      <td>0</td>\n",
       "    </tr>\n",
       "  </tbody>\n",
       "</table>\n",
       "</div>"
      ],
      "text/plain": [
       "   Age  Height  Weight  Gender\n",
       "0   32     180      85       1\n",
       "1   26     169      64       1\n",
       "2   26     164      55       0\n",
       "3   32     186      93       1\n",
       "4   36     160      50       0"
      ]
     },
     "execution_count": 2,
     "metadata": {},
     "output_type": "execute_result"
    }
   ],
   "source": [
    "USER_FILE = \"../datasets/Mobi_Users.csv\"\n",
    "\n",
    "users = pd.read_csv(USER_FILE,usecols=(3, 4, 5, 6))\n",
    "users.replace(('M', 'F', '-'),(1,0,0.5), inplace=True)\n",
    "users.head()"
   ]
  },
  {
   "cell_type": "code",
   "execution_count": 3,
   "metadata": {
    "collapsed": false
   },
   "outputs": [],
   "source": [
    "min_max_scaler = preprocessing.MinMaxScaler()\n",
    "scaled_users = min_max_scaler.fit_transform(users[['Age', 'Height', 'Weight', 'Gender']])\n",
    "user_distances = pairwise_distances(scaled_users)"
   ]
  },
  {
   "cell_type": "markdown",
   "metadata": {},
   "source": [
    "# Data"
   ]
  },
  {
   "cell_type": "markdown",
   "metadata": {},
   "source": [
    "Using the 'fall' data: \n",
    "\n",
    "    | 10 | FOL   | Forward-lying      | 3      | 10s      | Fall Forward from standing, use of hands to dampen fall |\n",
    "    | 11 | FKL   | Front-knees-lying  | 3      | 10s      | Fall forward from standing, first impact on knees       |\n",
    "    | 12 | BSC   | Back-sitting-chair | 3      | 10s      | Fall backward while trying to sit on a chair            |\n",
    "    | 13 | SDL   | Sideward-lying     | 3      | 10s      | Fall sidewards from standing, bending legs              |"
   ]
  },
  {
   "cell_type": "markdown",
   "metadata": {},
   "source": [
    "Seems that there are 3 files per user. Maybe for train/test/valid"
   ]
  },
  {
   "cell_type": "code",
   "execution_count": 4,
   "metadata": {
    "collapsed": false
   },
   "outputs": [],
   "source": [
    "MOBI_PATH = \"../datasets/MobiAct_Dataset_v2.0/Annotated Data/\"\n",
    "FALLS = (\"FOL\", \"FKL\", \"BSC\", \"SDL\")\n",
    "USERS = range(1,68) "
   ]
  },
  {
   "cell_type": "code",
   "execution_count": 5,
   "metadata": {
    "collapsed": false
   },
   "outputs": [],
   "source": [
    "def get_sample(user_nbr=1, fall=\"FOL\", trial=1):\n",
    "    path = MOBI_PATH+fall+'/'+fall+'_'+str(user_nbr)+'_'+str(trial)+'_annotated.csv'\n",
    "    data = pd.read_csv(path, usecols=range(2, 12)) # I skipp the timestamps (ie identifiers)\n",
    "    return data.iloc[:,:-1], data.iloc[:,-1] "
   ]
  },
  {
   "cell_type": "markdown",
   "metadata": {},
   "source": [
    "## Example for user 1, type FOL"
   ]
  },
  {
   "cell_type": "code",
   "execution_count": 6,
   "metadata": {
    "collapsed": false
   },
   "outputs": [],
   "source": [
    "X, Y = get_sample()"
   ]
  },
  {
   "cell_type": "code",
   "execution_count": 7,
   "metadata": {
    "collapsed": false
   },
   "outputs": [
    {
     "data": {
      "text/plain": [
       "0    STD\n",
       "1    STD\n",
       "2    STD\n",
       "3    STD\n",
       "4    STD\n",
       "Name: label, dtype: object"
      ]
     },
     "execution_count": 7,
     "metadata": {},
     "output_type": "execute_result"
    }
   ],
   "source": [
    "Y.head()"
   ]
  },
  {
   "cell_type": "markdown",
   "metadata": {},
   "source": [
    "## tentative de classif par timestamp, juste pour vérifier\n",
    "\n",
    "(un example correspond à un relevé à un instant, c'est un item dans la série...)"
   ]
  },
  {
   "cell_type": "code",
   "execution_count": 8,
   "metadata": {
    "collapsed": false
   },
   "outputs": [
    {
     "data": {
      "text/plain": [
       "0.99949315762797775"
      ]
     },
     "execution_count": 8,
     "metadata": {},
     "output_type": "execute_result"
    }
   ],
   "source": [
    "class_svc = SVC()\n",
    "class_svc.fit(X,Y)\n",
    "class_svc.score(X,Y)"
   ]
  },
  {
   "cell_type": "code",
   "execution_count": 9,
   "metadata": {
    "collapsed": false
   },
   "outputs": [
    {
     "data": {
      "text/plain": [
       "(0.24632539280283833, 0.27456940222897669)"
      ]
     },
     "execution_count": 9,
     "metadata": {},
     "output_type": "execute_result"
    }
   ],
   "source": [
    "class_svc.score(*get_sample(trial=2)), class_svc.score(*get_sample(trial=3)) "
   ]
  },
  {
   "cell_type": "markdown",
   "metadata": {
    "collapsed": false
   },
   "source": [
    "## Let's subsample \n",
    "\n",
    "On prend aléatoirement uniformément 30 items dans [STD], dans [LYI], et 30 items dans [STD,FOL,LYI].\n",
    "On calcule, min, max, median, mean, kurtosis, skew"
   ]
  },
  {
   "cell_type": "code",
   "execution_count": 10,
   "metadata": {
    "collapsed": false
   },
   "outputs": [],
   "source": [
    "def subsample_one(data, list_index, part=\"STD\", subsize=30): \n",
    "    r = np.random.choice(list_index[part], subsize, replace=False)\n",
    "    sub = data.iloc[r]\n",
    "    df = pd.DataFrame(pd.concat([sub.mean(), sub.median(), sub.std(), sub.min(), sub.max(), sub.kurtosis(), sub.skew()], \n",
    "                                keys=[\"mean\", \"median\", \"std\", \"min\", \"max\", \"kurtosis\", \"skew\"])).transpose()\n",
    "    df.insert(len(df.columns), \"label\", part)\n",
    "    return df"
   ]
  },
  {
   "cell_type": "code",
   "execution_count": 11,
   "metadata": {
    "collapsed": false
   },
   "outputs": [
    {
     "data": {
      "text/html": [
       "<div>\n",
       "<table border=\"1\" class=\"dataframe\">\n",
       "  <thead>\n",
       "    <tr>\n",
       "      <th></th>\n",
       "      <th colspan=\"9\" halign=\"left\">mean</th>\n",
       "      <th>median</th>\n",
       "      <th>...</th>\n",
       "      <th colspan=\"9\" halign=\"left\">skew</th>\n",
       "      <th>label</th>\n",
       "    </tr>\n",
       "    <tr>\n",
       "      <th></th>\n",
       "      <th>acc_x</th>\n",
       "      <th>acc_y</th>\n",
       "      <th>acc_z</th>\n",
       "      <th>gyro_x</th>\n",
       "      <th>gyro_y</th>\n",
       "      <th>gyro_z</th>\n",
       "      <th>azimuth</th>\n",
       "      <th>pitch</th>\n",
       "      <th>roll</th>\n",
       "      <th>acc_x</th>\n",
       "      <th>...</th>\n",
       "      <th>acc_x</th>\n",
       "      <th>acc_y</th>\n",
       "      <th>acc_z</th>\n",
       "      <th>gyro_x</th>\n",
       "      <th>gyro_y</th>\n",
       "      <th>gyro_z</th>\n",
       "      <th>azimuth</th>\n",
       "      <th>pitch</th>\n",
       "      <th>roll</th>\n",
       "      <th></th>\n",
       "    </tr>\n",
       "  </thead>\n",
       "  <tbody>\n",
       "    <tr>\n",
       "      <th>0</th>\n",
       "      <td>0.907795</td>\n",
       "      <td>-9.532425</td>\n",
       "      <td>-1.330183</td>\n",
       "      <td>0.007646</td>\n",
       "      <td>0.015954</td>\n",
       "      <td>0.016554</td>\n",
       "      <td>13.258369</td>\n",
       "      <td>23.060572</td>\n",
       "      <td>-36.154591</td>\n",
       "      <td>0.893262</td>\n",
       "      <td>...</td>\n",
       "      <td>-0.224251</td>\n",
       "      <td>-1.119896</td>\n",
       "      <td>0.259626</td>\n",
       "      <td>-0.185773</td>\n",
       "      <td>0.668342</td>\n",
       "      <td>0.941835</td>\n",
       "      <td>-0.741449</td>\n",
       "      <td>-0.274564</td>\n",
       "      <td>-0.094565</td>\n",
       "      <td>STD</td>\n",
       "    </tr>\n",
       "  </tbody>\n",
       "</table>\n",
       "<p>1 rows × 64 columns</p>\n",
       "</div>"
      ],
      "text/plain": [
       "       mean                                                               \\\n",
       "      acc_x     acc_y     acc_z    gyro_x    gyro_y    gyro_z    azimuth   \n",
       "0  0.907795 -9.532425 -1.330183  0.007646  0.015954  0.016554  13.258369   \n",
       "\n",
       "                           median  ...       skew                      \\\n",
       "       pitch       roll     acc_x  ...      acc_x     acc_y     acc_z   \n",
       "0  23.060572 -36.154591  0.893262  ...  -0.224251 -1.119896  0.259626   \n",
       "\n",
       "                                                              label  \n",
       "     gyro_x    gyro_y    gyro_z   azimuth     pitch      roll        \n",
       "0 -0.185773  0.668342  0.941835 -0.741449 -0.274564 -0.094565   STD  \n",
       "\n",
       "[1 rows x 64 columns]"
      ]
     },
     "execution_count": 11,
     "metadata": {},
     "output_type": "execute_result"
    }
   ],
   "source": [
    "list_index = dict()\n",
    "parts = (\"STD\", \"FOL\", \"LYI\")\n",
    "for p in parts:\n",
    "    list_index[p] = np.argwhere(Y==p)[:,0]\n",
    "subsample_one(X, list_index)"
   ]
  },
  {
   "cell_type": "code",
   "execution_count": 12,
   "metadata": {
    "collapsed": false
   },
   "outputs": [],
   "source": [
    "def subsample_one_mixed(data, list_index, parts=(\"STD\", \"FOL\", \"LYI\"), subsize=30):\n",
    "    sub = pd.DataFrame()\n",
    "    for part in parts:\n",
    "        r = np.random.choice(list_index[part], subsize//3, replace=False)\n",
    "        sub = sub.append(data.iloc[r])\n",
    "    df = pd.DataFrame(pd.concat([sub.mean(), sub.median(), sub.std(), sub.min(), sub.max(), sub.kurtosis(), sub.skew()], \n",
    "                                keys=[\"mean\", \"median\", \"std\", \"min\", \"max\", \"kurtosis\", \"skew\"])).transpose()\n",
    "    df.insert(len(df.columns), \"label\", parts[1])\n",
    "    return df"
   ]
  },
  {
   "cell_type": "code",
   "execution_count": 13,
   "metadata": {
    "collapsed": false
   },
   "outputs": [],
   "source": [
    "def subsample_3_status(X, Y,nb=20, part=\"FOL\", subsize=30):\n",
    "    \"\"\" Subsample and compute stats in each part of the fall. Label each subsample with STD, LYI or the fall type. \n",
    "    For the fall type we take 1/3 of STD, 1/3 of LYI and 1/3 of the fall type. \n",
    "    \"\"\"\n",
    "    list_index = dict()\n",
    "    df = pd.DataFrame()\n",
    "    parts = (\"STD\", part, \"LYI\")\n",
    "    for p in parts:\n",
    "        list_index[p] = np.argwhere(Y==p)[:,0]\n",
    "    for n in range(nb):\n",
    "        df = df.append(subsample_one(X, list_index, parts[0], subsize), ignore_index=True)\n",
    "        df = df.append(subsample_one(X, list_index, parts[2], subsize), ignore_index=True)\n",
    "        df = df.append(subsample_one_mixed(X, list_index, parts, subsize), ignore_index=True)\n",
    "    return df"
   ]
  },
  {
   "cell_type": "code",
   "execution_count": 14,
   "metadata": {
    "collapsed": false
   },
   "outputs": [
    {
     "data": {
      "text/html": [
       "<div>\n",
       "<table border=\"1\" class=\"dataframe\">\n",
       "  <thead>\n",
       "    <tr>\n",
       "      <th></th>\n",
       "      <th colspan=\"9\" halign=\"left\">mean</th>\n",
       "      <th>median</th>\n",
       "      <th>...</th>\n",
       "      <th colspan=\"9\" halign=\"left\">skew</th>\n",
       "      <th>label</th>\n",
       "    </tr>\n",
       "    <tr>\n",
       "      <th></th>\n",
       "      <th>acc_x</th>\n",
       "      <th>acc_y</th>\n",
       "      <th>acc_z</th>\n",
       "      <th>gyro_x</th>\n",
       "      <th>gyro_y</th>\n",
       "      <th>gyro_z</th>\n",
       "      <th>azimuth</th>\n",
       "      <th>pitch</th>\n",
       "      <th>roll</th>\n",
       "      <th>acc_x</th>\n",
       "      <th>...</th>\n",
       "      <th>acc_x</th>\n",
       "      <th>acc_y</th>\n",
       "      <th>acc_z</th>\n",
       "      <th>gyro_x</th>\n",
       "      <th>gyro_y</th>\n",
       "      <th>gyro_z</th>\n",
       "      <th>azimuth</th>\n",
       "      <th>pitch</th>\n",
       "      <th>roll</th>\n",
       "      <th></th>\n",
       "    </tr>\n",
       "  </thead>\n",
       "  <tbody>\n",
       "    <tr>\n",
       "      <th>0</th>\n",
       "      <td>0.934705</td>\n",
       "      <td>-9.553718</td>\n",
       "      <td>-1.339416</td>\n",
       "      <td>-0.005396</td>\n",
       "      <td>0.027581</td>\n",
       "      <td>0.022602</td>\n",
       "      <td>13.860265</td>\n",
       "      <td>24.098892</td>\n",
       "      <td>-34.852351</td>\n",
       "      <td>0.979252</td>\n",
       "      <td>...</td>\n",
       "      <td>-0.956306</td>\n",
       "      <td>-1.351137</td>\n",
       "      <td>0.673320</td>\n",
       "      <td>-0.281466</td>\n",
       "      <td>0.426836</td>\n",
       "      <td>0.547684</td>\n",
       "      <td>-1.152358</td>\n",
       "      <td>-0.787722</td>\n",
       "      <td>-0.661338</td>\n",
       "      <td>STD</td>\n",
       "    </tr>\n",
       "    <tr>\n",
       "      <th>1</th>\n",
       "      <td>7.923596</td>\n",
       "      <td>-1.214669</td>\n",
       "      <td>5.419357</td>\n",
       "      <td>-0.000143</td>\n",
       "      <td>0.006088</td>\n",
       "      <td>0.009479</td>\n",
       "      <td>186.220047</td>\n",
       "      <td>6.828242</td>\n",
       "      <td>54.634771</td>\n",
       "      <td>7.916865</td>\n",
       "      <td>...</td>\n",
       "      <td>3.330380</td>\n",
       "      <td>-0.301911</td>\n",
       "      <td>-1.102407</td>\n",
       "      <td>0.468369</td>\n",
       "      <td>2.098540</td>\n",
       "      <td>0.270623</td>\n",
       "      <td>-3.571111</td>\n",
       "      <td>-0.346980</td>\n",
       "      <td>-3.690234</td>\n",
       "      <td>LYI</td>\n",
       "    </tr>\n",
       "    <tr>\n",
       "      <th>2</th>\n",
       "      <td>5.243300</td>\n",
       "      <td>-4.162903</td>\n",
       "      <td>2.593481</td>\n",
       "      <td>0.109915</td>\n",
       "      <td>0.100487</td>\n",
       "      <td>-0.250404</td>\n",
       "      <td>107.359726</td>\n",
       "      <td>16.254001</td>\n",
       "      <td>13.579076</td>\n",
       "      <td>5.384418</td>\n",
       "      <td>...</td>\n",
       "      <td>0.778998</td>\n",
       "      <td>0.951527</td>\n",
       "      <td>0.058184</td>\n",
       "      <td>1.739003</td>\n",
       "      <td>2.149368</td>\n",
       "      <td>-3.307598</td>\n",
       "      <td>-0.271569</td>\n",
       "      <td>0.988580</td>\n",
       "      <td>-0.261145</td>\n",
       "      <td>FOL</td>\n",
       "    </tr>\n",
       "    <tr>\n",
       "      <th>3</th>\n",
       "      <td>0.938918</td>\n",
       "      <td>-9.548176</td>\n",
       "      <td>-1.308829</td>\n",
       "      <td>0.007371</td>\n",
       "      <td>0.016962</td>\n",
       "      <td>0.014111</td>\n",
       "      <td>14.000217</td>\n",
       "      <td>24.175374</td>\n",
       "      <td>-34.791728</td>\n",
       "      <td>0.979416</td>\n",
       "      <td>...</td>\n",
       "      <td>-1.114188</td>\n",
       "      <td>-1.865045</td>\n",
       "      <td>-0.211197</td>\n",
       "      <td>-2.434813</td>\n",
       "      <td>0.379096</td>\n",
       "      <td>0.975992</td>\n",
       "      <td>-1.277285</td>\n",
       "      <td>-0.621439</td>\n",
       "      <td>-0.405837</td>\n",
       "      <td>STD</td>\n",
       "    </tr>\n",
       "    <tr>\n",
       "      <th>4</th>\n",
       "      <td>7.918872</td>\n",
       "      <td>-1.229020</td>\n",
       "      <td>5.407739</td>\n",
       "      <td>0.000794</td>\n",
       "      <td>0.001537</td>\n",
       "      <td>0.007687</td>\n",
       "      <td>185.680545</td>\n",
       "      <td>6.843501</td>\n",
       "      <td>54.338152</td>\n",
       "      <td>7.916158</td>\n",
       "      <td>...</td>\n",
       "      <td>1.697177</td>\n",
       "      <td>-0.167359</td>\n",
       "      <td>-1.588543</td>\n",
       "      <td>0.426616</td>\n",
       "      <td>-2.368239</td>\n",
       "      <td>-2.826797</td>\n",
       "      <td>-3.228258</td>\n",
       "      <td>-0.724259</td>\n",
       "      <td>-3.112659</td>\n",
       "      <td>LYI</td>\n",
       "    </tr>\n",
       "  </tbody>\n",
       "</table>\n",
       "<p>5 rows × 64 columns</p>\n",
       "</div>"
      ],
      "text/plain": [
       "       mean                                                                \\\n",
       "      acc_x     acc_y     acc_z    gyro_x    gyro_y    gyro_z     azimuth   \n",
       "0  0.934705 -9.553718 -1.339416 -0.005396  0.027581  0.022602   13.860265   \n",
       "1  7.923596 -1.214669  5.419357 -0.000143  0.006088  0.009479  186.220047   \n",
       "2  5.243300 -4.162903  2.593481  0.109915  0.100487 -0.250404  107.359726   \n",
       "3  0.938918 -9.548176 -1.308829  0.007371  0.016962  0.014111   14.000217   \n",
       "4  7.918872 -1.229020  5.407739  0.000794  0.001537  0.007687  185.680545   \n",
       "\n",
       "                           median  ...       skew                      \\\n",
       "       pitch       roll     acc_x  ...      acc_x     acc_y     acc_z   \n",
       "0  24.098892 -34.852351  0.979252  ...  -0.956306 -1.351137  0.673320   \n",
       "1   6.828242  54.634771  7.916865  ...   3.330380 -0.301911 -1.102407   \n",
       "2  16.254001  13.579076  5.384418  ...   0.778998  0.951527  0.058184   \n",
       "3  24.175374 -34.791728  0.979416  ...  -1.114188 -1.865045 -0.211197   \n",
       "4   6.843501  54.338152  7.916158  ...   1.697177 -0.167359 -1.588543   \n",
       "\n",
       "                                                              label  \n",
       "     gyro_x    gyro_y    gyro_z   azimuth     pitch      roll        \n",
       "0 -0.281466  0.426836  0.547684 -1.152358 -0.787722 -0.661338   STD  \n",
       "1  0.468369  2.098540  0.270623 -3.571111 -0.346980 -3.690234   LYI  \n",
       "2  1.739003  2.149368 -3.307598 -0.271569  0.988580 -0.261145   FOL  \n",
       "3 -2.434813  0.379096  0.975992 -1.277285 -0.621439 -0.405837   STD  \n",
       "4  0.426616 -2.368239 -2.826797 -3.228258 -0.724259 -3.112659   LYI  \n",
       "\n",
       "[5 rows x 64 columns]"
      ]
     },
     "execution_count": 14,
     "metadata": {},
     "output_type": "execute_result"
    }
   ],
   "source": [
    "df = subsample_3_status(X, Y, nb=10)\n",
    "df.head()"
   ]
  },
  {
   "cell_type": "markdown",
   "metadata": {},
   "source": [
    "### Learn a SVC without normalization"
   ]
  },
  {
   "cell_type": "code",
   "execution_count": 15,
   "metadata": {
    "collapsed": false
   },
   "outputs": [
    {
     "data": {
      "text/plain": [
       "1.0"
      ]
     },
     "execution_count": 15,
     "metadata": {},
     "output_type": "execute_result"
    }
   ],
   "source": [
    "class_svc = SVC()\n",
    "X1, Y1 = df.iloc[:,:-1], df.iloc[:,-1] \n",
    "class_svc.fit(X1,Y1)\n",
    "class_svc.score(X1,Y1)"
   ]
  },
  {
   "cell_type": "code",
   "execution_count": 16,
   "metadata": {
    "collapsed": false
   },
   "outputs": [
    {
     "data": {
      "text/plain": [
       "0.76666666666666672"
      ]
     },
     "execution_count": 16,
     "metadata": {},
     "output_type": "execute_result"
    }
   ],
   "source": [
    "df = subsample_3_status(X, Y, subsize=9)\n",
    "X1, Y1 = df.iloc[:,:-1], df.iloc[:,-1] \n",
    "class_svc.score(X1,Y1)"
   ]
  },
  {
   "cell_type": "code",
   "execution_count": 17,
   "metadata": {
    "collapsed": false
   },
   "outputs": [
    {
     "data": {
      "text/plain": [
       "0.33333333333333331"
      ]
     },
     "execution_count": 17,
     "metadata": {},
     "output_type": "execute_result"
    }
   ],
   "source": [
    "df = subsample_3_status(*get_sample(trial=2), subsize=30)\n",
    "X1, Y1 = df.iloc[:,:-1], df.iloc[:,-1] \n",
    "class_svc.score(X1,Y1)"
   ]
  },
  {
   "cell_type": "markdown",
   "metadata": {},
   "source": [
    "### Normalize"
   ]
  },
  {
   "cell_type": "code",
   "execution_count": 18,
   "metadata": {
    "collapsed": true
   },
   "outputs": [],
   "source": [
    "def get_normalized_XY(df):\n",
    "    X, Y = df.iloc[:,:-1], df.iloc[:,-1] \n",
    "    X = norm.fit_transform(X)\n",
    "    return X,Y"
   ]
  },
  {
   "cell_type": "code",
   "execution_count": 19,
   "metadata": {
    "collapsed": false
   },
   "outputs": [
    {
     "data": {
      "text/plain": [
       "1.0"
      ]
     },
     "execution_count": 19,
     "metadata": {},
     "output_type": "execute_result"
    }
   ],
   "source": [
    "norm = preprocessing.MinMaxScaler()\n",
    "class_svc = SVC()\n",
    "\n",
    "df = subsample_3_status(*get_sample(), nb=10)\n",
    "X1, Y1 = get_normalized_XY(df)\n",
    "X1_scaled = norm.fit_transform(X1)\n",
    "class_svc.fit(X1,Y1)\n",
    "class_svc.score(X1,Y1)"
   ]
  },
  {
   "cell_type": "code",
   "execution_count": 20,
   "metadata": {
    "collapsed": false
   },
   "outputs": [
    {
     "data": {
      "text/plain": [
       "1.0"
      ]
     },
     "execution_count": 20,
     "metadata": {},
     "output_type": "execute_result"
    }
   ],
   "source": [
    "df = subsample_3_status(*get_sample(trial=2), nb=10)\n",
    "X1, Y1 = get_normalized_XY(df)\n",
    "class_svc.fit(X1,Y1)\n",
    "class_svc.score(X1,Y1)"
   ]
  },
  {
   "cell_type": "markdown",
   "metadata": {},
   "source": [
    "## Sub-sampling for different fall types"
   ]
  },
  {
   "cell_type": "code",
   "execution_count": 21,
   "metadata": {
    "collapsed": true
   },
   "outputs": [],
   "source": [
    "def subsample_4_types(user=1, nb=20, subsize=30, trials=[1,2], dist=None):\n",
    "    \"\"\" nb is the number of times we subsample in one trial; subsize is the size of the subsample we draw, \n",
    "    dist is the number of each class in each trial\"\"\"\n",
    "    df = pd.DataFrame()\n",
    "    if dist is None:\n",
    "        dist = {f:nb for f in FALLS}\n",
    "        \n",
    "    for fall in FALLS:\n",
    "        for trial in trials:\n",
    "            X, Y = get_sample(user_nbr=user, fall=fall, trial=trial)\n",
    "            \n",
    "            list_index = dict()\n",
    "            parts = (\"STD\", fall, \"LYI\")\n",
    "            for p in parts:\n",
    "                list_index[p] = np.argwhere(Y==p)[:,0]\n",
    "            for n in range(dist[fall]):\n",
    "                df = df.append(subsample_one_mixed(X, list_index, parts, subsize), ignore_index=True)\n",
    "    return df    "
   ]
  },
  {
   "cell_type": "markdown",
   "metadata": {},
   "source": [
    "### Example of Sub-sampling"
   ]
  },
  {
   "cell_type": "code",
   "execution_count": 22,
   "metadata": {
    "collapsed": false
   },
   "outputs": [
    {
     "data": {
      "text/html": [
       "<div>\n",
       "<table border=\"1\" class=\"dataframe\">\n",
       "  <thead>\n",
       "    <tr>\n",
       "      <th></th>\n",
       "      <th colspan=\"9\" halign=\"left\">mean</th>\n",
       "      <th>median</th>\n",
       "      <th>...</th>\n",
       "      <th colspan=\"9\" halign=\"left\">skew</th>\n",
       "      <th>label</th>\n",
       "    </tr>\n",
       "    <tr>\n",
       "      <th></th>\n",
       "      <th>acc_x</th>\n",
       "      <th>acc_y</th>\n",
       "      <th>acc_z</th>\n",
       "      <th>gyro_x</th>\n",
       "      <th>gyro_y</th>\n",
       "      <th>gyro_z</th>\n",
       "      <th>azimuth</th>\n",
       "      <th>pitch</th>\n",
       "      <th>roll</th>\n",
       "      <th>acc_x</th>\n",
       "      <th>...</th>\n",
       "      <th>acc_x</th>\n",
       "      <th>acc_y</th>\n",
       "      <th>acc_z</th>\n",
       "      <th>gyro_x</th>\n",
       "      <th>gyro_y</th>\n",
       "      <th>gyro_z</th>\n",
       "      <th>azimuth</th>\n",
       "      <th>pitch</th>\n",
       "      <th>roll</th>\n",
       "      <th></th>\n",
       "    </tr>\n",
       "  </thead>\n",
       "  <tbody>\n",
       "    <tr>\n",
       "      <th>0</th>\n",
       "      <td>2.471433</td>\n",
       "      <td>-6.656042</td>\n",
       "      <td>2.444953</td>\n",
       "      <td>0.017094</td>\n",
       "      <td>-0.270735</td>\n",
       "      <td>0.111676</td>\n",
       "      <td>150.793127</td>\n",
       "      <td>56.066634</td>\n",
       "      <td>20.347030</td>\n",
       "      <td>0.163383</td>\n",
       "      <td>...</td>\n",
       "      <td>0.610019</td>\n",
       "      <td>0.405442</td>\n",
       "      <td>0.431436</td>\n",
       "      <td>0.218938</td>\n",
       "      <td>-2.943277</td>\n",
       "      <td>2.072042</td>\n",
       "      <td>-0.977163</td>\n",
       "      <td>0.568446</td>\n",
       "      <td>-0.346399</td>\n",
       "      <td>FOL</td>\n",
       "    </tr>\n",
       "    <tr>\n",
       "      <th>1</th>\n",
       "      <td>2.950041</td>\n",
       "      <td>-6.183433</td>\n",
       "      <td>2.434565</td>\n",
       "      <td>0.322863</td>\n",
       "      <td>-0.106851</td>\n",
       "      <td>0.033404</td>\n",
       "      <td>152.939064</td>\n",
       "      <td>54.115308</td>\n",
       "      <td>22.220490</td>\n",
       "      <td>0.793215</td>\n",
       "      <td>...</td>\n",
       "      <td>1.785613</td>\n",
       "      <td>1.453608</td>\n",
       "      <td>0.574234</td>\n",
       "      <td>2.442147</td>\n",
       "      <td>-0.862557</td>\n",
       "      <td>3.046484</td>\n",
       "      <td>-0.905409</td>\n",
       "      <td>0.674425</td>\n",
       "      <td>-0.342293</td>\n",
       "      <td>FOL</td>\n",
       "    </tr>\n",
       "    <tr>\n",
       "      <th>2</th>\n",
       "      <td>2.706248</td>\n",
       "      <td>-6.980378</td>\n",
       "      <td>2.783843</td>\n",
       "      <td>0.141955</td>\n",
       "      <td>0.060007</td>\n",
       "      <td>-0.005019</td>\n",
       "      <td>148.946217</td>\n",
       "      <td>59.305651</td>\n",
       "      <td>19.357415</td>\n",
       "      <td>0.745904</td>\n",
       "      <td>...</td>\n",
       "      <td>1.352729</td>\n",
       "      <td>0.048458</td>\n",
       "      <td>0.902543</td>\n",
       "      <td>3.762141</td>\n",
       "      <td>4.966659</td>\n",
       "      <td>3.102231</td>\n",
       "      <td>-0.279848</td>\n",
       "      <td>0.482242</td>\n",
       "      <td>-0.560909</td>\n",
       "      <td>FOL</td>\n",
       "    </tr>\n",
       "    <tr>\n",
       "      <th>3</th>\n",
       "      <td>2.633490</td>\n",
       "      <td>-6.554262</td>\n",
       "      <td>2.868231</td>\n",
       "      <td>0.203825</td>\n",
       "      <td>0.008888</td>\n",
       "      <td>0.028181</td>\n",
       "      <td>149.588973</td>\n",
       "      <td>53.289515</td>\n",
       "      <td>21.563829</td>\n",
       "      <td>2.131003</td>\n",
       "      <td>...</td>\n",
       "      <td>0.005923</td>\n",
       "      <td>-0.148245</td>\n",
       "      <td>0.132265</td>\n",
       "      <td>2.077918</td>\n",
       "      <td>3.666627</td>\n",
       "      <td>0.768542</td>\n",
       "      <td>-0.431515</td>\n",
       "      <td>0.826525</td>\n",
       "      <td>-0.495407</td>\n",
       "      <td>FOL</td>\n",
       "    </tr>\n",
       "    <tr>\n",
       "      <th>4</th>\n",
       "      <td>2.358377</td>\n",
       "      <td>-6.581684</td>\n",
       "      <td>3.094183</td>\n",
       "      <td>-0.002535</td>\n",
       "      <td>0.129473</td>\n",
       "      <td>0.056617</td>\n",
       "      <td>150.440176</td>\n",
       "      <td>55.586882</td>\n",
       "      <td>20.120016</td>\n",
       "      <td>0.358925</td>\n",
       "      <td>...</td>\n",
       "      <td>0.499388</td>\n",
       "      <td>-0.007931</td>\n",
       "      <td>0.782356</td>\n",
       "      <td>0.018354</td>\n",
       "      <td>1.767467</td>\n",
       "      <td>2.355327</td>\n",
       "      <td>-0.779858</td>\n",
       "      <td>0.511050</td>\n",
       "      <td>-0.143262</td>\n",
       "      <td>FOL</td>\n",
       "    </tr>\n",
       "    <tr>\n",
       "      <th>5</th>\n",
       "      <td>1.904992</td>\n",
       "      <td>-6.838619</td>\n",
       "      <td>1.833276</td>\n",
       "      <td>0.218008</td>\n",
       "      <td>-0.116747</td>\n",
       "      <td>-0.186568</td>\n",
       "      <td>149.043765</td>\n",
       "      <td>64.310686</td>\n",
       "      <td>17.175944</td>\n",
       "      <td>0.214365</td>\n",
       "      <td>...</td>\n",
       "      <td>0.451261</td>\n",
       "      <td>0.515871</td>\n",
       "      <td>0.512991</td>\n",
       "      <td>2.220623</td>\n",
       "      <td>-4.341380</td>\n",
       "      <td>-2.613026</td>\n",
       "      <td>-0.494439</td>\n",
       "      <td>0.147000</td>\n",
       "      <td>-0.388980</td>\n",
       "      <td>FOL</td>\n",
       "    </tr>\n",
       "    <tr>\n",
       "      <th>6</th>\n",
       "      <td>2.527667</td>\n",
       "      <td>-6.626004</td>\n",
       "      <td>2.604221</td>\n",
       "      <td>0.122316</td>\n",
       "      <td>0.001843</td>\n",
       "      <td>-0.095183</td>\n",
       "      <td>150.495657</td>\n",
       "      <td>61.991001</td>\n",
       "      <td>19.203352</td>\n",
       "      <td>0.453849</td>\n",
       "      <td>...</td>\n",
       "      <td>0.192687</td>\n",
       "      <td>1.751110</td>\n",
       "      <td>0.213610</td>\n",
       "      <td>3.085986</td>\n",
       "      <td>0.881842</td>\n",
       "      <td>-1.783965</td>\n",
       "      <td>-0.708427</td>\n",
       "      <td>0.227432</td>\n",
       "      <td>-0.173314</td>\n",
       "      <td>FOL</td>\n",
       "    </tr>\n",
       "    <tr>\n",
       "      <th>7</th>\n",
       "      <td>1.984748</td>\n",
       "      <td>-6.673555</td>\n",
       "      <td>2.813295</td>\n",
       "      <td>0.174433</td>\n",
       "      <td>0.213691</td>\n",
       "      <td>-0.142026</td>\n",
       "      <td>149.682444</td>\n",
       "      <td>54.687310</td>\n",
       "      <td>22.328781</td>\n",
       "      <td>0.940066</td>\n",
       "      <td>...</td>\n",
       "      <td>-0.577803</td>\n",
       "      <td>-0.097228</td>\n",
       "      <td>0.490529</td>\n",
       "      <td>1.554199</td>\n",
       "      <td>3.229040</td>\n",
       "      <td>-2.768395</td>\n",
       "      <td>-0.853584</td>\n",
       "      <td>0.627176</td>\n",
       "      <td>-0.473924</td>\n",
       "      <td>FOL</td>\n",
       "    </tr>\n",
       "    <tr>\n",
       "      <th>8</th>\n",
       "      <td>2.574693</td>\n",
       "      <td>-5.919696</td>\n",
       "      <td>2.761300</td>\n",
       "      <td>0.179747</td>\n",
       "      <td>-0.336607</td>\n",
       "      <td>-0.063866</td>\n",
       "      <td>149.256351</td>\n",
       "      <td>55.347661</td>\n",
       "      <td>23.027362</td>\n",
       "      <td>0.627132</td>\n",
       "      <td>...</td>\n",
       "      <td>0.897998</td>\n",
       "      <td>3.129803</td>\n",
       "      <td>0.809657</td>\n",
       "      <td>1.355028</td>\n",
       "      <td>-2.849402</td>\n",
       "      <td>1.177921</td>\n",
       "      <td>-0.616852</td>\n",
       "      <td>0.599552</td>\n",
       "      <td>-0.363262</td>\n",
       "      <td>FOL</td>\n",
       "    </tr>\n",
       "    <tr>\n",
       "      <th>9</th>\n",
       "      <td>2.947857</td>\n",
       "      <td>-6.591012</td>\n",
       "      <td>3.054997</td>\n",
       "      <td>-0.050091</td>\n",
       "      <td>-0.080838</td>\n",
       "      <td>0.107970</td>\n",
       "      <td>149.298881</td>\n",
       "      <td>52.263351</td>\n",
       "      <td>22.069769</td>\n",
       "      <td>3.810156</td>\n",
       "      <td>...</td>\n",
       "      <td>0.352952</td>\n",
       "      <td>-0.080099</td>\n",
       "      <td>-0.133504</td>\n",
       "      <td>-1.573654</td>\n",
       "      <td>-2.051937</td>\n",
       "      <td>3.031256</td>\n",
       "      <td>-0.964525</td>\n",
       "      <td>0.798659</td>\n",
       "      <td>-0.537547</td>\n",
       "      <td>FOL</td>\n",
       "    </tr>\n",
       "    <tr>\n",
       "      <th>10</th>\n",
       "      <td>4.125023</td>\n",
       "      <td>-5.236555</td>\n",
       "      <td>4.640229</td>\n",
       "      <td>-0.082966</td>\n",
       "      <td>-0.139654</td>\n",
       "      <td>-0.144062</td>\n",
       "      <td>189.725802</td>\n",
       "      <td>44.200373</td>\n",
       "      <td>23.593170</td>\n",
       "      <td>4.307548</td>\n",
       "      <td>...</td>\n",
       "      <td>2.259325</td>\n",
       "      <td>-0.258465</td>\n",
       "      <td>-0.350795</td>\n",
       "      <td>-2.597241</td>\n",
       "      <td>-2.528166</td>\n",
       "      <td>-4.214261</td>\n",
       "      <td>-0.550266</td>\n",
       "      <td>0.666215</td>\n",
       "      <td>-0.034059</td>\n",
       "      <td>FKL</td>\n",
       "    </tr>\n",
       "    <tr>\n",
       "      <th>11</th>\n",
       "      <td>3.728611</td>\n",
       "      <td>-5.263750</td>\n",
       "      <td>4.118980</td>\n",
       "      <td>0.091803</td>\n",
       "      <td>0.026440</td>\n",
       "      <td>-0.050376</td>\n",
       "      <td>187.639512</td>\n",
       "      <td>49.369533</td>\n",
       "      <td>22.720497</td>\n",
       "      <td>4.400179</td>\n",
       "      <td>...</td>\n",
       "      <td>2.494724</td>\n",
       "      <td>-0.034671</td>\n",
       "      <td>0.357058</td>\n",
       "      <td>5.069381</td>\n",
       "      <td>2.087919</td>\n",
       "      <td>-1.937757</td>\n",
       "      <td>-0.281327</td>\n",
       "      <td>0.306676</td>\n",
       "      <td>0.257111</td>\n",
       "      <td>FKL</td>\n",
       "    </tr>\n",
       "    <tr>\n",
       "      <th>12</th>\n",
       "      <td>3.101236</td>\n",
       "      <td>-5.159786</td>\n",
       "      <td>3.014927</td>\n",
       "      <td>0.206931</td>\n",
       "      <td>0.027794</td>\n",
       "      <td>-0.193583</td>\n",
       "      <td>185.221661</td>\n",
       "      <td>53.339970</td>\n",
       "      <td>22.010230</td>\n",
       "      <td>3.051910</td>\n",
       "      <td>...</td>\n",
       "      <td>0.587483</td>\n",
       "      <td>0.339433</td>\n",
       "      <td>-0.259258</td>\n",
       "      <td>2.778126</td>\n",
       "      <td>1.789726</td>\n",
       "      <td>-2.346405</td>\n",
       "      <td>-0.302867</td>\n",
       "      <td>0.544515</td>\n",
       "      <td>-0.159536</td>\n",
       "      <td>FKL</td>\n",
       "    </tr>\n",
       "    <tr>\n",
       "      <th>13</th>\n",
       "      <td>-1.898518</td>\n",
       "      <td>-0.583876</td>\n",
       "      <td>3.330550</td>\n",
       "      <td>0.130410</td>\n",
       "      <td>0.048065</td>\n",
       "      <td>-0.018774</td>\n",
       "      <td>213.205928</td>\n",
       "      <td>-6.167769</td>\n",
       "      <td>-19.175896</td>\n",
       "      <td>-1.777796</td>\n",
       "      <td>...</td>\n",
       "      <td>-0.012201</td>\n",
       "      <td>-0.309913</td>\n",
       "      <td>-1.186399</td>\n",
       "      <td>0.324991</td>\n",
       "      <td>1.074526</td>\n",
       "      <td>-1.157743</td>\n",
       "      <td>0.175160</td>\n",
       "      <td>-0.304729</td>\n",
       "      <td>0.617980</td>\n",
       "      <td>BSC</td>\n",
       "    </tr>\n",
       "    <tr>\n",
       "      <th>14</th>\n",
       "      <td>-1.843436</td>\n",
       "      <td>-0.586837</td>\n",
       "      <td>2.466751</td>\n",
       "      <td>-0.056139</td>\n",
       "      <td>-0.032579</td>\n",
       "      <td>-0.044827</td>\n",
       "      <td>211.518465</td>\n",
       "      <td>-6.401837</td>\n",
       "      <td>-16.633677</td>\n",
       "      <td>-1.862816</td>\n",
       "      <td>...</td>\n",
       "      <td>-0.004892</td>\n",
       "      <td>-0.224332</td>\n",
       "      <td>-1.129225</td>\n",
       "      <td>0.487449</td>\n",
       "      <td>-0.328442</td>\n",
       "      <td>-2.223201</td>\n",
       "      <td>0.142933</td>\n",
       "      <td>-0.370824</td>\n",
       "      <td>0.287042</td>\n",
       "      <td>BSC</td>\n",
       "    </tr>\n",
       "    <tr>\n",
       "      <th>15</th>\n",
       "      <td>-1.358861</td>\n",
       "      <td>-1.347168</td>\n",
       "      <td>2.862388</td>\n",
       "      <td>0.434295</td>\n",
       "      <td>0.085765</td>\n",
       "      <td>-0.026827</td>\n",
       "      <td>214.343622</td>\n",
       "      <td>-8.192095</td>\n",
       "      <td>-16.526237</td>\n",
       "      <td>-0.357912</td>\n",
       "      <td>...</td>\n",
       "      <td>-0.513402</td>\n",
       "      <td>-0.179272</td>\n",
       "      <td>-1.166252</td>\n",
       "      <td>1.879161</td>\n",
       "      <td>2.467303</td>\n",
       "      <td>-2.304506</td>\n",
       "      <td>-0.148527</td>\n",
       "      <td>-0.736743</td>\n",
       "      <td>0.070110</td>\n",
       "      <td>BSC</td>\n",
       "    </tr>\n",
       "    <tr>\n",
       "      <th>16</th>\n",
       "      <td>-2.059014</td>\n",
       "      <td>0.218264</td>\n",
       "      <td>2.077642</td>\n",
       "      <td>-0.002657</td>\n",
       "      <td>0.111452</td>\n",
       "      <td>-0.030798</td>\n",
       "      <td>208.014079</td>\n",
       "      <td>-23.854651</td>\n",
       "      <td>-22.879432</td>\n",
       "      <td>-2.252137</td>\n",
       "      <td>...</td>\n",
       "      <td>-0.047149</td>\n",
       "      <td>-0.254338</td>\n",
       "      <td>-0.974265</td>\n",
       "      <td>-0.770612</td>\n",
       "      <td>4.386648</td>\n",
       "      <td>-2.513330</td>\n",
       "      <td>0.483498</td>\n",
       "      <td>-0.326308</td>\n",
       "      <td>0.485341</td>\n",
       "      <td>BSC</td>\n",
       "    </tr>\n",
       "    <tr>\n",
       "      <th>17</th>\n",
       "      <td>-2.081493</td>\n",
       "      <td>-0.608673</td>\n",
       "      <td>3.217798</td>\n",
       "      <td>-0.052127</td>\n",
       "      <td>-0.030441</td>\n",
       "      <td>-0.031592</td>\n",
       "      <td>209.488338</td>\n",
       "      <td>-8.663640</td>\n",
       "      <td>-20.384320</td>\n",
       "      <td>-2.885918</td>\n",
       "      <td>...</td>\n",
       "      <td>-0.021010</td>\n",
       "      <td>-0.096759</td>\n",
       "      <td>-0.682784</td>\n",
       "      <td>-0.633225</td>\n",
       "      <td>1.819386</td>\n",
       "      <td>-2.137208</td>\n",
       "      <td>0.384105</td>\n",
       "      <td>-0.209916</td>\n",
       "      <td>0.393188</td>\n",
       "      <td>BSC</td>\n",
       "    </tr>\n",
       "    <tr>\n",
       "      <th>18</th>\n",
       "      <td>-5.970058</td>\n",
       "      <td>-4.427801</td>\n",
       "      <td>2.322063</td>\n",
       "      <td>0.132344</td>\n",
       "      <td>0.013266</td>\n",
       "      <td>-0.017491</td>\n",
       "      <td>255.508139</td>\n",
       "      <td>32.432661</td>\n",
       "      <td>-42.061665</td>\n",
       "      <td>-8.512313</td>\n",
       "      <td>...</td>\n",
       "      <td>-0.349275</td>\n",
       "      <td>1.043326</td>\n",
       "      <td>0.585132</td>\n",
       "      <td>3.271314</td>\n",
       "      <td>1.007462</td>\n",
       "      <td>-2.400187</td>\n",
       "      <td>0.100868</td>\n",
       "      <td>0.498407</td>\n",
       "      <td>0.306733</td>\n",
       "      <td>SDL</td>\n",
       "    </tr>\n",
       "    <tr>\n",
       "      <th>19</th>\n",
       "      <td>-4.710921</td>\n",
       "      <td>-4.381106</td>\n",
       "      <td>2.145317</td>\n",
       "      <td>0.207195</td>\n",
       "      <td>0.104672</td>\n",
       "      <td>0.217590</td>\n",
       "      <td>254.691245</td>\n",
       "      <td>29.200212</td>\n",
       "      <td>-44.795612</td>\n",
       "      <td>-4.017987</td>\n",
       "      <td>...</td>\n",
       "      <td>0.258533</td>\n",
       "      <td>-0.217526</td>\n",
       "      <td>1.151248</td>\n",
       "      <td>1.525303</td>\n",
       "      <td>0.682657</td>\n",
       "      <td>2.058994</td>\n",
       "      <td>0.063082</td>\n",
       "      <td>0.562279</td>\n",
       "      <td>0.559126</td>\n",
       "      <td>SDL</td>\n",
       "    </tr>\n",
       "  </tbody>\n",
       "</table>\n",
       "<p>20 rows × 64 columns</p>\n",
       "</div>"
      ],
      "text/plain": [
       "        mean                                                                \\\n",
       "       acc_x     acc_y     acc_z    gyro_x    gyro_y    gyro_z     azimuth   \n",
       "0   2.471433 -6.656042  2.444953  0.017094 -0.270735  0.111676  150.793127   \n",
       "1   2.950041 -6.183433  2.434565  0.322863 -0.106851  0.033404  152.939064   \n",
       "2   2.706248 -6.980378  2.783843  0.141955  0.060007 -0.005019  148.946217   \n",
       "3   2.633490 -6.554262  2.868231  0.203825  0.008888  0.028181  149.588973   \n",
       "4   2.358377 -6.581684  3.094183 -0.002535  0.129473  0.056617  150.440176   \n",
       "5   1.904992 -6.838619  1.833276  0.218008 -0.116747 -0.186568  149.043765   \n",
       "6   2.527667 -6.626004  2.604221  0.122316  0.001843 -0.095183  150.495657   \n",
       "7   1.984748 -6.673555  2.813295  0.174433  0.213691 -0.142026  149.682444   \n",
       "8   2.574693 -5.919696  2.761300  0.179747 -0.336607 -0.063866  149.256351   \n",
       "9   2.947857 -6.591012  3.054997 -0.050091 -0.080838  0.107970  149.298881   \n",
       "10  4.125023 -5.236555  4.640229 -0.082966 -0.139654 -0.144062  189.725802   \n",
       "11  3.728611 -5.263750  4.118980  0.091803  0.026440 -0.050376  187.639512   \n",
       "12  3.101236 -5.159786  3.014927  0.206931  0.027794 -0.193583  185.221661   \n",
       "13 -1.898518 -0.583876  3.330550  0.130410  0.048065 -0.018774  213.205928   \n",
       "14 -1.843436 -0.586837  2.466751 -0.056139 -0.032579 -0.044827  211.518465   \n",
       "15 -1.358861 -1.347168  2.862388  0.434295  0.085765 -0.026827  214.343622   \n",
       "16 -2.059014  0.218264  2.077642 -0.002657  0.111452 -0.030798  208.014079   \n",
       "17 -2.081493 -0.608673  3.217798 -0.052127 -0.030441 -0.031592  209.488338   \n",
       "18 -5.970058 -4.427801  2.322063  0.132344  0.013266 -0.017491  255.508139   \n",
       "19 -4.710921 -4.381106  2.145317  0.207195  0.104672  0.217590  254.691245   \n",
       "\n",
       "                            median  ...       skew                      \\\n",
       "        pitch       roll     acc_x  ...      acc_x     acc_y     acc_z   \n",
       "0   56.066634  20.347030  0.163383  ...   0.610019  0.405442  0.431436   \n",
       "1   54.115308  22.220490  0.793215  ...   1.785613  1.453608  0.574234   \n",
       "2   59.305651  19.357415  0.745904  ...   1.352729  0.048458  0.902543   \n",
       "3   53.289515  21.563829  2.131003  ...   0.005923 -0.148245  0.132265   \n",
       "4   55.586882  20.120016  0.358925  ...   0.499388 -0.007931  0.782356   \n",
       "5   64.310686  17.175944  0.214365  ...   0.451261  0.515871  0.512991   \n",
       "6   61.991001  19.203352  0.453849  ...   0.192687  1.751110  0.213610   \n",
       "7   54.687310  22.328781  0.940066  ...  -0.577803 -0.097228  0.490529   \n",
       "8   55.347661  23.027362  0.627132  ...   0.897998  3.129803  0.809657   \n",
       "9   52.263351  22.069769  3.810156  ...   0.352952 -0.080099 -0.133504   \n",
       "10  44.200373  23.593170  4.307548  ...   2.259325 -0.258465 -0.350795   \n",
       "11  49.369533  22.720497  4.400179  ...   2.494724 -0.034671  0.357058   \n",
       "12  53.339970  22.010230  3.051910  ...   0.587483  0.339433 -0.259258   \n",
       "13  -6.167769 -19.175896 -1.777796  ...  -0.012201 -0.309913 -1.186399   \n",
       "14  -6.401837 -16.633677 -1.862816  ...  -0.004892 -0.224332 -1.129225   \n",
       "15  -8.192095 -16.526237 -0.357912  ...  -0.513402 -0.179272 -1.166252   \n",
       "16 -23.854651 -22.879432 -2.252137  ...  -0.047149 -0.254338 -0.974265   \n",
       "17  -8.663640 -20.384320 -2.885918  ...  -0.021010 -0.096759 -0.682784   \n",
       "18  32.432661 -42.061665 -8.512313  ...  -0.349275  1.043326  0.585132   \n",
       "19  29.200212 -44.795612 -4.017987  ...   0.258533 -0.217526  1.151248   \n",
       "\n",
       "                                                               label  \n",
       "      gyro_x    gyro_y    gyro_z   azimuth     pitch      roll        \n",
       "0   0.218938 -2.943277  2.072042 -0.977163  0.568446 -0.346399   FOL  \n",
       "1   2.442147 -0.862557  3.046484 -0.905409  0.674425 -0.342293   FOL  \n",
       "2   3.762141  4.966659  3.102231 -0.279848  0.482242 -0.560909   FOL  \n",
       "3   2.077918  3.666627  0.768542 -0.431515  0.826525 -0.495407   FOL  \n",
       "4   0.018354  1.767467  2.355327 -0.779858  0.511050 -0.143262   FOL  \n",
       "5   2.220623 -4.341380 -2.613026 -0.494439  0.147000 -0.388980   FOL  \n",
       "6   3.085986  0.881842 -1.783965 -0.708427  0.227432 -0.173314   FOL  \n",
       "7   1.554199  3.229040 -2.768395 -0.853584  0.627176 -0.473924   FOL  \n",
       "8   1.355028 -2.849402  1.177921 -0.616852  0.599552 -0.363262   FOL  \n",
       "9  -1.573654 -2.051937  3.031256 -0.964525  0.798659 -0.537547   FOL  \n",
       "10 -2.597241 -2.528166 -4.214261 -0.550266  0.666215 -0.034059   FKL  \n",
       "11  5.069381  2.087919 -1.937757 -0.281327  0.306676  0.257111   FKL  \n",
       "12  2.778126  1.789726 -2.346405 -0.302867  0.544515 -0.159536   FKL  \n",
       "13  0.324991  1.074526 -1.157743  0.175160 -0.304729  0.617980   BSC  \n",
       "14  0.487449 -0.328442 -2.223201  0.142933 -0.370824  0.287042   BSC  \n",
       "15  1.879161  2.467303 -2.304506 -0.148527 -0.736743  0.070110   BSC  \n",
       "16 -0.770612  4.386648 -2.513330  0.483498 -0.326308  0.485341   BSC  \n",
       "17 -0.633225  1.819386 -2.137208  0.384105 -0.209916  0.393188   BSC  \n",
       "18  3.271314  1.007462 -2.400187  0.100868  0.498407  0.306733   SDL  \n",
       "19  1.525303  0.682657  2.058994  0.063082  0.562279  0.559126   SDL  \n",
       "\n",
       "[20 rows x 64 columns]"
      ]
     },
     "execution_count": 22,
     "metadata": {},
     "output_type": "execute_result"
    }
   ],
   "source": [
    "subsample_4_types(dist={'BSC': 5, 'FKL': 3, 'FOL': 10, 'SDL': 2}, trials=[2])"
   ]
  },
  {
   "cell_type": "markdown",
   "metadata": {},
   "source": [
    "### Example of training a SVC"
   ]
  },
  {
   "cell_type": "code",
   "execution_count": 23,
   "metadata": {
    "collapsed": false
   },
   "outputs": [
    {
     "data": {
      "text/plain": [
       "1.0"
      ]
     },
     "execution_count": 23,
     "metadata": {},
     "output_type": "execute_result"
    }
   ],
   "source": [
    "df = subsample_4_types(user=1, trials=[3])\n",
    "X1, Y1 = get_normalized_XY(df)\n",
    "class_svc.fit(X1,Y1)\n",
    "class_svc.score(X1,Y1)"
   ]
  },
  {
   "cell_type": "code",
   "execution_count": 24,
   "metadata": {
    "collapsed": true
   },
   "outputs": [],
   "source": [
    "index = df.columns"
   ]
  },
  {
   "cell_type": "markdown",
   "metadata": {},
   "source": [
    "## Create a dataset"
   ]
  },
  {
   "cell_type": "code",
   "execution_count": 25,
   "metadata": {
    "collapsed": true
   },
   "outputs": [],
   "source": [
    "class Dataset():\n",
    "    def __init__(self, user, df_train, df_test):\n",
    "        self.user = user\n",
    "        self.index = df_train.columns\n",
    "        # Extract X, Y and normalize\n",
    "        self.X_train, self.Y_train = get_normalized_XY(df_train)\n",
    "        self.X_test, self.Y_test = get_normalized_XY(df_test)\n",
    "\n",
    "    def test_to_dataframe(self):\n",
    "        df = pd.DataFrame(self.X_test)\n",
    "        df['label'] = self.Y_test\n",
    "        df.columns = self.index\n",
    "        return df\n",
    "    \n",
    "    def train_to_dataframe(self):\n",
    "        df = pd.DataFrame(self.X_train)\n",
    "        df['label'] = self.Y_train\n",
    "        df.columns = self.index\n",
    "        return df\n",
    "    \n",
    "    def save(self, dest_dir):\n",
    "        self.train_to_dataframe().to_csv(os.path.join(dest_dir,\"user{}_train.csv\".format(self.user)))\n",
    "        self.test_to_dataframe().to_csv(os.path.join(dest_dir,\"user{}_test.csv\".format(self.user)))\n",
    "        \n",
    "    def __repr__(self):\n",
    "        return \"user {}: train size is {}, test size is {}\".format(self.user, len(self.X_train), len(self.X_test))"
   ]
  },
  {
   "cell_type": "code",
   "execution_count": 28,
   "metadata": {
    "collapsed": false
   },
   "outputs": [],
   "source": [
    "def create_dataset(low=2, high=10, nb_test=20):\n",
    "    \"\"\"Create a dataset with simple options, return 4 dicts users->train/test samples of descriptions and class\"\"\"\n",
    "    datasets = list()\n",
    "\n",
    "    for user in USERS:\n",
    "        try: \n",
    "            nb_train = np.random.randint(low,high)\n",
    "            # sample train and test\n",
    "            df_train = subsample_4_types(user=user, nb=nb_train, trials=[1,2])\n",
    "            df_test = subsample_4_types(user=user, nb=nb_test, trials=[3])\n",
    "            # keep everything\n",
    "            dataset=Dataset(user, df_train, df_test)\n",
    "            datasets.append(dataset)\n",
    "            print(dataset)\n",
    "        except (FileNotFoundError, ValueError) as detail :\n",
    "            print('Problem with user {}:  {}'.format(user, detail) )\n",
    "    return datasets"
   ]
  },
  {
   "cell_type": "code",
   "execution_count": 29,
   "metadata": {
    "collapsed": false
   },
   "outputs": [
    {
     "name": "stdout",
     "output_type": "stream",
     "text": [
      "user 1: train size is 40, test size is 80\n",
      "user 2: train size is 40, test size is 80\n",
      "user 3: train size is 32, test size is 80\n",
      "user 4: train size is 48, test size is 80\n",
      "user 5: train size is 72, test size is 80\n",
      "user 6: train size is 32, test size is 80\n",
      "user 7: train size is 72, test size is 80\n",
      "user 8: train size is 64, test size is 80\n",
      "user 9: train size is 32, test size is 80\n",
      "user 10: train size is 56, test size is 80\n",
      "user 11: train size is 16, test size is 80\n",
      "user 12: train size is 16, test size is 80\n",
      "user 13: train size is 40, test size is 80\n",
      "user 14: train size is 48, test size is 80\n",
      "user 15: train size is 40, test size is 80\n",
      "user 16: train size is 56, test size is 80\n",
      "user 17: train size is 32, test size is 80\n",
      "user 18: train size is 56, test size is 80\n",
      "user 19: train size is 16, test size is 80\n",
      "user 20: train size is 32, test size is 80\n",
      "user 21: train size is 40, test size is 80\n",
      "user 22: train size is 32, test size is 80\n",
      "user 23: train size is 56, test size is 80\n"
     ]
    },
    {
     "ename": "OSError",
     "evalue": "File b'../datasets/MobiAct_Dataset_v2.0/Annotated Data/FOL/FOL_24_1_annotated.csv' does not exist",
     "output_type": "error",
     "traceback": [
      "\u001b[1;31m---------------------------------------------------------------------------\u001b[0m",
      "\u001b[1;31mOSError\u001b[0m                                   Traceback (most recent call last)",
      "\u001b[1;32m<ipython-input-29-458f3f87a05a>\u001b[0m in \u001b[0;36m<module>\u001b[1;34m()\u001b[0m\n\u001b[1;32m----> 1\u001b[1;33m \u001b[0mdatasets\u001b[0m \u001b[1;33m=\u001b[0m \u001b[0mcreate_dataset\u001b[0m\u001b[1;33m(\u001b[0m\u001b[1;33m)\u001b[0m\u001b[1;33m\u001b[0m\u001b[0m\n\u001b[0m",
      "\u001b[1;32m<ipython-input-28-0da073c44054>\u001b[0m in \u001b[0;36mcreate_dataset\u001b[1;34m(low, high, nb_test)\u001b[0m\n\u001b[0;32m      7\u001b[0m             \u001b[0mnb_train\u001b[0m \u001b[1;33m=\u001b[0m \u001b[0mnp\u001b[0m\u001b[1;33m.\u001b[0m\u001b[0mrandom\u001b[0m\u001b[1;33m.\u001b[0m\u001b[0mrandint\u001b[0m\u001b[1;33m(\u001b[0m\u001b[0mlow\u001b[0m\u001b[1;33m,\u001b[0m\u001b[0mhigh\u001b[0m\u001b[1;33m)\u001b[0m\u001b[1;33m\u001b[0m\u001b[0m\n\u001b[0;32m      8\u001b[0m             \u001b[1;31m# sample train and test\u001b[0m\u001b[1;33m\u001b[0m\u001b[1;33m\u001b[0m\u001b[0m\n\u001b[1;32m----> 9\u001b[1;33m             \u001b[0mdf_train\u001b[0m \u001b[1;33m=\u001b[0m \u001b[0msubsample_4_types\u001b[0m\u001b[1;33m(\u001b[0m\u001b[0muser\u001b[0m\u001b[1;33m=\u001b[0m\u001b[0muser\u001b[0m\u001b[1;33m,\u001b[0m \u001b[0mnb\u001b[0m\u001b[1;33m=\u001b[0m\u001b[0mnb_train\u001b[0m\u001b[1;33m,\u001b[0m \u001b[0mtrials\u001b[0m\u001b[1;33m=\u001b[0m\u001b[1;33m[\u001b[0m\u001b[1;36m1\u001b[0m\u001b[1;33m,\u001b[0m\u001b[1;36m2\u001b[0m\u001b[1;33m]\u001b[0m\u001b[1;33m)\u001b[0m\u001b[1;33m\u001b[0m\u001b[0m\n\u001b[0m\u001b[0;32m     10\u001b[0m             \u001b[0mdf_test\u001b[0m \u001b[1;33m=\u001b[0m \u001b[0msubsample_4_types\u001b[0m\u001b[1;33m(\u001b[0m\u001b[0muser\u001b[0m\u001b[1;33m=\u001b[0m\u001b[0muser\u001b[0m\u001b[1;33m,\u001b[0m \u001b[0mnb\u001b[0m\u001b[1;33m=\u001b[0m\u001b[0mnb_test\u001b[0m\u001b[1;33m,\u001b[0m \u001b[0mtrials\u001b[0m\u001b[1;33m=\u001b[0m\u001b[1;33m[\u001b[0m\u001b[1;36m3\u001b[0m\u001b[1;33m]\u001b[0m\u001b[1;33m)\u001b[0m\u001b[1;33m\u001b[0m\u001b[0m\n\u001b[0;32m     11\u001b[0m             \u001b[1;31m# keep everything\u001b[0m\u001b[1;33m\u001b[0m\u001b[1;33m\u001b[0m\u001b[0m\n",
      "\u001b[1;32m<ipython-input-21-dee3325863d0>\u001b[0m in \u001b[0;36msubsample_4_types\u001b[1;34m(user, nb, subsize, trials, dist)\u001b[0m\n\u001b[0;32m      8\u001b[0m     \u001b[1;32mfor\u001b[0m \u001b[0mfall\u001b[0m \u001b[1;32min\u001b[0m \u001b[0mFALLS\u001b[0m\u001b[1;33m:\u001b[0m\u001b[1;33m\u001b[0m\u001b[0m\n\u001b[0;32m      9\u001b[0m         \u001b[1;32mfor\u001b[0m \u001b[0mtrial\u001b[0m \u001b[1;32min\u001b[0m \u001b[0mtrials\u001b[0m\u001b[1;33m:\u001b[0m\u001b[1;33m\u001b[0m\u001b[0m\n\u001b[1;32m---> 10\u001b[1;33m             \u001b[0mX\u001b[0m\u001b[1;33m,\u001b[0m \u001b[0mY\u001b[0m \u001b[1;33m=\u001b[0m \u001b[0mget_sample\u001b[0m\u001b[1;33m(\u001b[0m\u001b[0muser_nbr\u001b[0m\u001b[1;33m=\u001b[0m\u001b[0muser\u001b[0m\u001b[1;33m,\u001b[0m \u001b[0mfall\u001b[0m\u001b[1;33m=\u001b[0m\u001b[0mfall\u001b[0m\u001b[1;33m,\u001b[0m \u001b[0mtrial\u001b[0m\u001b[1;33m=\u001b[0m\u001b[0mtrial\u001b[0m\u001b[1;33m)\u001b[0m\u001b[1;33m\u001b[0m\u001b[0m\n\u001b[0m\u001b[0;32m     11\u001b[0m \u001b[1;33m\u001b[0m\u001b[0m\n\u001b[0;32m     12\u001b[0m             \u001b[0mlist_index\u001b[0m \u001b[1;33m=\u001b[0m \u001b[0mdict\u001b[0m\u001b[1;33m(\u001b[0m\u001b[1;33m)\u001b[0m\u001b[1;33m\u001b[0m\u001b[0m\n",
      "\u001b[1;32m<ipython-input-5-e3c32f19e522>\u001b[0m in \u001b[0;36mget_sample\u001b[1;34m(user_nbr, fall, trial)\u001b[0m\n\u001b[0;32m      1\u001b[0m \u001b[1;32mdef\u001b[0m \u001b[0mget_sample\u001b[0m\u001b[1;33m(\u001b[0m\u001b[0muser_nbr\u001b[0m\u001b[1;33m=\u001b[0m\u001b[1;36m1\u001b[0m\u001b[1;33m,\u001b[0m \u001b[0mfall\u001b[0m\u001b[1;33m=\u001b[0m\u001b[1;34m\"FOL\"\u001b[0m\u001b[1;33m,\u001b[0m \u001b[0mtrial\u001b[0m\u001b[1;33m=\u001b[0m\u001b[1;36m1\u001b[0m\u001b[1;33m)\u001b[0m\u001b[1;33m:\u001b[0m\u001b[1;33m\u001b[0m\u001b[0m\n\u001b[0;32m      2\u001b[0m     \u001b[0mpath\u001b[0m \u001b[1;33m=\u001b[0m \u001b[0mMOBI_PATH\u001b[0m\u001b[1;33m+\u001b[0m\u001b[0mfall\u001b[0m\u001b[1;33m+\u001b[0m\u001b[1;34m'/'\u001b[0m\u001b[1;33m+\u001b[0m\u001b[0mfall\u001b[0m\u001b[1;33m+\u001b[0m\u001b[1;34m'_'\u001b[0m\u001b[1;33m+\u001b[0m\u001b[0mstr\u001b[0m\u001b[1;33m(\u001b[0m\u001b[0muser_nbr\u001b[0m\u001b[1;33m)\u001b[0m\u001b[1;33m+\u001b[0m\u001b[1;34m'_'\u001b[0m\u001b[1;33m+\u001b[0m\u001b[0mstr\u001b[0m\u001b[1;33m(\u001b[0m\u001b[0mtrial\u001b[0m\u001b[1;33m)\u001b[0m\u001b[1;33m+\u001b[0m\u001b[1;34m'_annotated.csv'\u001b[0m\u001b[1;33m\u001b[0m\u001b[0m\n\u001b[1;32m----> 3\u001b[1;33m     \u001b[0mdata\u001b[0m \u001b[1;33m=\u001b[0m \u001b[0mpd\u001b[0m\u001b[1;33m.\u001b[0m\u001b[0mread_csv\u001b[0m\u001b[1;33m(\u001b[0m\u001b[0mpath\u001b[0m\u001b[1;33m,\u001b[0m \u001b[0musecols\u001b[0m\u001b[1;33m=\u001b[0m\u001b[0mrange\u001b[0m\u001b[1;33m(\u001b[0m\u001b[1;36m2\u001b[0m\u001b[1;33m,\u001b[0m \u001b[1;36m12\u001b[0m\u001b[1;33m)\u001b[0m\u001b[1;33m)\u001b[0m \u001b[1;31m# I skipp the timestamps (ie identifiers)\u001b[0m\u001b[1;33m\u001b[0m\u001b[0m\n\u001b[0m\u001b[0;32m      4\u001b[0m     \u001b[1;32mreturn\u001b[0m \u001b[0mdata\u001b[0m\u001b[1;33m.\u001b[0m\u001b[0miloc\u001b[0m\u001b[1;33m[\u001b[0m\u001b[1;33m:\u001b[0m\u001b[1;33m,\u001b[0m\u001b[1;33m:\u001b[0m\u001b[1;33m-\u001b[0m\u001b[1;36m1\u001b[0m\u001b[1;33m]\u001b[0m\u001b[1;33m,\u001b[0m \u001b[0mdata\u001b[0m\u001b[1;33m.\u001b[0m\u001b[0miloc\u001b[0m\u001b[1;33m[\u001b[0m\u001b[1;33m:\u001b[0m\u001b[1;33m,\u001b[0m\u001b[1;33m-\u001b[0m\u001b[1;36m1\u001b[0m\u001b[1;33m]\u001b[0m\u001b[1;33m\u001b[0m\u001b[0m\n",
      "\u001b[1;32m/home/valentina/anaconda3/lib/python3.5/site-packages/pandas/io/parsers.py\u001b[0m in \u001b[0;36mparser_f\u001b[1;34m(filepath_or_buffer, sep, dialect, compression, doublequote, escapechar, quotechar, quoting, skipinitialspace, lineterminator, header, index_col, names, prefix, skiprows, skipfooter, skip_footer, na_values, true_values, false_values, delimiter, converters, dtype, usecols, engine, delim_whitespace, as_recarray, na_filter, compact_ints, use_unsigned, low_memory, buffer_lines, warn_bad_lines, error_bad_lines, keep_default_na, thousands, comment, decimal, parse_dates, keep_date_col, dayfirst, date_parser, memory_map, float_precision, nrows, iterator, chunksize, verbose, encoding, squeeze, mangle_dupe_cols, tupleize_cols, infer_datetime_format, skip_blank_lines)\u001b[0m\n\u001b[0;32m    496\u001b[0m                     skip_blank_lines=skip_blank_lines)\n\u001b[0;32m    497\u001b[0m \u001b[1;33m\u001b[0m\u001b[0m\n\u001b[1;32m--> 498\u001b[1;33m         \u001b[1;32mreturn\u001b[0m \u001b[0m_read\u001b[0m\u001b[1;33m(\u001b[0m\u001b[0mfilepath_or_buffer\u001b[0m\u001b[1;33m,\u001b[0m \u001b[0mkwds\u001b[0m\u001b[1;33m)\u001b[0m\u001b[1;33m\u001b[0m\u001b[0m\n\u001b[0m\u001b[0;32m    499\u001b[0m \u001b[1;33m\u001b[0m\u001b[0m\n\u001b[0;32m    500\u001b[0m     \u001b[0mparser_f\u001b[0m\u001b[1;33m.\u001b[0m\u001b[0m__name__\u001b[0m \u001b[1;33m=\u001b[0m \u001b[0mname\u001b[0m\u001b[1;33m\u001b[0m\u001b[0m\n",
      "\u001b[1;32m/home/valentina/anaconda3/lib/python3.5/site-packages/pandas/io/parsers.py\u001b[0m in \u001b[0;36m_read\u001b[1;34m(filepath_or_buffer, kwds)\u001b[0m\n\u001b[0;32m    273\u001b[0m \u001b[1;33m\u001b[0m\u001b[0m\n\u001b[0;32m    274\u001b[0m     \u001b[1;31m# Create the parser.\u001b[0m\u001b[1;33m\u001b[0m\u001b[1;33m\u001b[0m\u001b[0m\n\u001b[1;32m--> 275\u001b[1;33m     \u001b[0mparser\u001b[0m \u001b[1;33m=\u001b[0m \u001b[0mTextFileReader\u001b[0m\u001b[1;33m(\u001b[0m\u001b[0mfilepath_or_buffer\u001b[0m\u001b[1;33m,\u001b[0m \u001b[1;33m**\u001b[0m\u001b[0mkwds\u001b[0m\u001b[1;33m)\u001b[0m\u001b[1;33m\u001b[0m\u001b[0m\n\u001b[0m\u001b[0;32m    276\u001b[0m \u001b[1;33m\u001b[0m\u001b[0m\n\u001b[0;32m    277\u001b[0m     \u001b[1;32mif\u001b[0m \u001b[1;33m(\u001b[0m\u001b[0mnrows\u001b[0m \u001b[1;32mis\u001b[0m \u001b[1;32mnot\u001b[0m \u001b[1;32mNone\u001b[0m\u001b[1;33m)\u001b[0m \u001b[1;32mand\u001b[0m \u001b[1;33m(\u001b[0m\u001b[0mchunksize\u001b[0m \u001b[1;32mis\u001b[0m \u001b[1;32mnot\u001b[0m \u001b[1;32mNone\u001b[0m\u001b[1;33m)\u001b[0m\u001b[1;33m:\u001b[0m\u001b[1;33m\u001b[0m\u001b[0m\n",
      "\u001b[1;32m/home/valentina/anaconda3/lib/python3.5/site-packages/pandas/io/parsers.py\u001b[0m in \u001b[0;36m__init__\u001b[1;34m(self, f, engine, **kwds)\u001b[0m\n\u001b[0;32m    588\u001b[0m             \u001b[0mself\u001b[0m\u001b[1;33m.\u001b[0m\u001b[0moptions\u001b[0m\u001b[1;33m[\u001b[0m\u001b[1;34m'has_index_names'\u001b[0m\u001b[1;33m]\u001b[0m \u001b[1;33m=\u001b[0m \u001b[0mkwds\u001b[0m\u001b[1;33m[\u001b[0m\u001b[1;34m'has_index_names'\u001b[0m\u001b[1;33m]\u001b[0m\u001b[1;33m\u001b[0m\u001b[0m\n\u001b[0;32m    589\u001b[0m \u001b[1;33m\u001b[0m\u001b[0m\n\u001b[1;32m--> 590\u001b[1;33m         \u001b[0mself\u001b[0m\u001b[1;33m.\u001b[0m\u001b[0m_make_engine\u001b[0m\u001b[1;33m(\u001b[0m\u001b[0mself\u001b[0m\u001b[1;33m.\u001b[0m\u001b[0mengine\u001b[0m\u001b[1;33m)\u001b[0m\u001b[1;33m\u001b[0m\u001b[0m\n\u001b[0m\u001b[0;32m    591\u001b[0m \u001b[1;33m\u001b[0m\u001b[0m\n\u001b[0;32m    592\u001b[0m     \u001b[1;32mdef\u001b[0m \u001b[0m_get_options_with_defaults\u001b[0m\u001b[1;33m(\u001b[0m\u001b[0mself\u001b[0m\u001b[1;33m,\u001b[0m \u001b[0mengine\u001b[0m\u001b[1;33m)\u001b[0m\u001b[1;33m:\u001b[0m\u001b[1;33m\u001b[0m\u001b[0m\n",
      "\u001b[1;32m/home/valentina/anaconda3/lib/python3.5/site-packages/pandas/io/parsers.py\u001b[0m in \u001b[0;36m_make_engine\u001b[1;34m(self, engine)\u001b[0m\n\u001b[0;32m    729\u001b[0m     \u001b[1;32mdef\u001b[0m \u001b[0m_make_engine\u001b[0m\u001b[1;33m(\u001b[0m\u001b[0mself\u001b[0m\u001b[1;33m,\u001b[0m \u001b[0mengine\u001b[0m\u001b[1;33m=\u001b[0m\u001b[1;34m'c'\u001b[0m\u001b[1;33m)\u001b[0m\u001b[1;33m:\u001b[0m\u001b[1;33m\u001b[0m\u001b[0m\n\u001b[0;32m    730\u001b[0m         \u001b[1;32mif\u001b[0m \u001b[0mengine\u001b[0m \u001b[1;33m==\u001b[0m \u001b[1;34m'c'\u001b[0m\u001b[1;33m:\u001b[0m\u001b[1;33m\u001b[0m\u001b[0m\n\u001b[1;32m--> 731\u001b[1;33m             \u001b[0mself\u001b[0m\u001b[1;33m.\u001b[0m\u001b[0m_engine\u001b[0m \u001b[1;33m=\u001b[0m \u001b[0mCParserWrapper\u001b[0m\u001b[1;33m(\u001b[0m\u001b[0mself\u001b[0m\u001b[1;33m.\u001b[0m\u001b[0mf\u001b[0m\u001b[1;33m,\u001b[0m \u001b[1;33m**\u001b[0m\u001b[0mself\u001b[0m\u001b[1;33m.\u001b[0m\u001b[0moptions\u001b[0m\u001b[1;33m)\u001b[0m\u001b[1;33m\u001b[0m\u001b[0m\n\u001b[0m\u001b[0;32m    732\u001b[0m         \u001b[1;32melse\u001b[0m\u001b[1;33m:\u001b[0m\u001b[1;33m\u001b[0m\u001b[0m\n\u001b[0;32m    733\u001b[0m             \u001b[1;32mif\u001b[0m \u001b[0mengine\u001b[0m \u001b[1;33m==\u001b[0m \u001b[1;34m'python'\u001b[0m\u001b[1;33m:\u001b[0m\u001b[1;33m\u001b[0m\u001b[0m\n",
      "\u001b[1;32m/home/valentina/anaconda3/lib/python3.5/site-packages/pandas/io/parsers.py\u001b[0m in \u001b[0;36m__init__\u001b[1;34m(self, src, **kwds)\u001b[0m\n\u001b[0;32m   1101\u001b[0m         \u001b[0mkwds\u001b[0m\u001b[1;33m[\u001b[0m\u001b[1;34m'allow_leading_cols'\u001b[0m\u001b[1;33m]\u001b[0m \u001b[1;33m=\u001b[0m \u001b[0mself\u001b[0m\u001b[1;33m.\u001b[0m\u001b[0mindex_col\u001b[0m \u001b[1;32mis\u001b[0m \u001b[1;32mnot\u001b[0m \u001b[1;32mFalse\u001b[0m\u001b[1;33m\u001b[0m\u001b[0m\n\u001b[0;32m   1102\u001b[0m \u001b[1;33m\u001b[0m\u001b[0m\n\u001b[1;32m-> 1103\u001b[1;33m         \u001b[0mself\u001b[0m\u001b[1;33m.\u001b[0m\u001b[0m_reader\u001b[0m \u001b[1;33m=\u001b[0m \u001b[0m_parser\u001b[0m\u001b[1;33m.\u001b[0m\u001b[0mTextReader\u001b[0m\u001b[1;33m(\u001b[0m\u001b[0msrc\u001b[0m\u001b[1;33m,\u001b[0m \u001b[1;33m**\u001b[0m\u001b[0mkwds\u001b[0m\u001b[1;33m)\u001b[0m\u001b[1;33m\u001b[0m\u001b[0m\n\u001b[0m\u001b[0;32m   1104\u001b[0m \u001b[1;33m\u001b[0m\u001b[0m\n\u001b[0;32m   1105\u001b[0m         \u001b[1;31m# XXX\u001b[0m\u001b[1;33m\u001b[0m\u001b[1;33m\u001b[0m\u001b[0m\n",
      "\u001b[1;32mpandas/parser.pyx\u001b[0m in \u001b[0;36mpandas.parser.TextReader.__cinit__ (pandas/parser.c:3246)\u001b[1;34m()\u001b[0m\n",
      "\u001b[1;32mpandas/parser.pyx\u001b[0m in \u001b[0;36mpandas.parser.TextReader._setup_parser_source (pandas/parser.c:6111)\u001b[1;34m()\u001b[0m\n",
      "\u001b[1;31mOSError\u001b[0m: File b'../datasets/MobiAct_Dataset_v2.0/Annotated Data/FOL/FOL_24_1_annotated.csv' does not exist"
     ]
    }
   ],
   "source": [
    "datasets = create_dataset()"
   ]
  },
  {
   "cell_type": "markdown",
   "metadata": {},
   "source": [
    "## Perfs with a linear SVC"
   ]
  },
  {
   "cell_type": "markdown",
   "metadata": {},
   "source": [
    "### Local models"
   ]
  },
  {
   "cell_type": "code",
   "execution_count": 28,
   "metadata": {
    "collapsed": false
   },
   "outputs": [
    {
     "name": "stdout",
     "output_type": "stream",
     "text": [
      "user 1, train:1.0; test: 0.85\n",
      "user 2, train:0.975; test: 0.8875\n",
      "user 4, train:1.0; test: 0.9\n",
      "user 5, train:1.0; test: 0.95\n",
      "user 6, train:1.0; test: 0.7125\n",
      "user 7, train:1.0; test: 0.725\n",
      "user 8, train:1.0; test: 0.8375\n",
      "user 9, train:1.0; test: 0.85\n",
      "user 10, train:1.0; test: 0.7375\n",
      "user 11, train:1.0; test: 0.825\n",
      "user 12, train:1.0; test: 0.75\n",
      "user 13, train:1.0; test: 0.8375\n",
      "user 14, train:1.0; test: 1.0\n",
      "user 15, train:1.0; test: 0.8125\n",
      "user 16, train:1.0; test: 0.825\n",
      "user 17, train:1.0; test: 0.8875\n",
      "user 18, train:1.0; test: 0.75\n",
      "user 19, train:1.0; test: 0.75\n",
      "user 20, train:1.0; test: 0.7\n",
      "user 21, train:1.0; test: 0.55\n",
      "user 22, train:1.0; test: 0.6625\n",
      "user 23, train:1.0; test: 0.5875\n",
      "user 25, train:1.0; test: 1.0\n",
      "user 26, train:1.0; test: 0.8\n",
      "user 27, train:1.0; test: 0.7625\n",
      "user 28, train:1.0; test: 0.675\n",
      "user 29, train:1.0; test: 0.7625\n",
      "user 30, train:1.0; test: 0.9125\n",
      "user 31, train:1.0; test: 0.5125\n",
      "user 32, train:1.0; test: 0.7875\n",
      "user 33, train:1.0; test: 0.975\n",
      "user 34, train:1.0; test: 0.925\n",
      "user 35, train:1.0; test: 0.5\n",
      "user 36, train:1.0; test: 0.75\n",
      "user 37, train:1.0; test: 0.9125\n",
      "user 38, train:1.0; test: 0.9875\n",
      "user 40, train:1.0; test: 0.85\n",
      "user 42, train:1.0; test: 0.9125\n",
      "user 43, train:1.0; test: 0.75\n",
      "user 44, train:1.0; test: 0.8875\n",
      "user 45, train:1.0; test: 1.0\n",
      "user 46, train:1.0; test: 0.725\n",
      "user 47, train:1.0; test: 0.975\n",
      "user 48, train:1.0; test: 0.9875\n",
      "user 49, train:1.0; test: 0.575\n",
      "user 51, train:1.0; test: 0.85\n",
      "user 52, train:1.0; test: 0.5\n",
      "user 53, train:1.0; test: 0.8125\n",
      "user 54, train:1.0; test: 0.75\n",
      "user 55, train:1.0; test: 0.75\n",
      "user 56, train:1.0; test: 0.8625\n",
      "user 57, train:1.0; test: 0.575\n",
      "user 58, train:1.0; test: 0.9125\n",
      "user 59, train:1.0; test: 0.5875\n",
      "user 60, train:1.0; test: 0.7375\n",
      "user 61, train:1.0; test: 1.0\n",
      "user 63, train:1.0; test: 1.0\n",
      "user 64, train:1.0; test: 1.0\n",
      "user 65, train:1.0; test: 0.7625\n",
      "user 66, train:1.0; test: 0.9625\n",
      "user 67, train:1.0; test: 0.5625\n"
     ]
    }
   ],
   "source": [
    "class_svc = SVC(kernel=\"linear\")\n",
    "allX_train = np.empty((0, 63))\n",
    "allY_train = pd.Series()\n",
    "\n",
    "for dataset in datasets:\n",
    "    try: \n",
    "        # train\n",
    "        class_svc.fit(dataset.X_train, dataset.Y_train)\n",
    "        train_acc = class_svc.score(dataset.X_train, dataset.Y_train)\n",
    "        # test\n",
    "        test_acc = class_svc.score(dataset.X_test, dataset.Y_test)\n",
    "        print(\"user {}, train:{}; test: {}\".format(dataset.user,  train_acc, test_acc))\n",
    "        # gather the train datasets for a global model\n",
    "        allX_train = np.concatenate((allX_train, dataset.X_train))\n",
    "        allY_train = allY_train.append(dataset.Y_train)       \n",
    "    except:\n",
    "        print('user {}: problem'.format(dataset.user) )"
   ]
  },
  {
   "cell_type": "markdown",
   "metadata": {},
   "source": [
    "### Global model"
   ]
  },
  {
   "cell_type": "code",
   "execution_count": 30,
   "metadata": {
    "collapsed": false
   },
   "outputs": [
    {
     "ename": "NameError",
     "evalue": "name 'allX_train' is not defined",
     "output_type": "error",
     "traceback": [
      "\u001b[1;31m---------------------------------------------------------------------------\u001b[0m",
      "\u001b[1;31mNameError\u001b[0m                                 Traceback (most recent call last)",
      "\u001b[1;32m<ipython-input-30-8b01e5ceee13>\u001b[0m in \u001b[0;36m<module>\u001b[1;34m()\u001b[0m\n\u001b[1;32m----> 1\u001b[1;33m \u001b[0mclass_svc\u001b[0m\u001b[1;33m.\u001b[0m\u001b[0mfit\u001b[0m\u001b[1;33m(\u001b[0m\u001b[0mallX_train\u001b[0m\u001b[1;33m,\u001b[0m \u001b[0mallY_train\u001b[0m\u001b[1;33m)\u001b[0m\u001b[1;33m\u001b[0m\u001b[0m\n\u001b[0m\u001b[0;32m      2\u001b[0m \u001b[0mglobal_train_score\u001b[0m \u001b[1;33m=\u001b[0m \u001b[0mclass_svc\u001b[0m\u001b[1;33m.\u001b[0m\u001b[0mscore\u001b[0m\u001b[1;33m(\u001b[0m\u001b[0mallX_train\u001b[0m\u001b[1;33m,\u001b[0m \u001b[0mallY_train\u001b[0m\u001b[1;33m)\u001b[0m\u001b[1;33m\u001b[0m\u001b[0m\n\u001b[0;32m      3\u001b[0m \u001b[0mprint\u001b[0m\u001b[1;33m(\u001b[0m\u001b[1;34m\"train: \"\u001b[0m\u001b[1;33m,\u001b[0m \u001b[0mglobal_train_score\u001b[0m\u001b[1;33m)\u001b[0m\u001b[1;33m\u001b[0m\u001b[0m\n\u001b[0;32m      4\u001b[0m \u001b[1;32mfor\u001b[0m \u001b[0mdataset\u001b[0m \u001b[1;32min\u001b[0m \u001b[0mdatasets\u001b[0m\u001b[1;33m:\u001b[0m\u001b[1;33m\u001b[0m\u001b[0m\n\u001b[0;32m      5\u001b[0m     \u001b[1;32mtry\u001b[0m\u001b[1;33m:\u001b[0m\u001b[1;33m\u001b[0m\u001b[0m\n",
      "\u001b[1;31mNameError\u001b[0m: name 'allX_train' is not defined"
     ]
    }
   ],
   "source": [
    "class_svc.fit(allX_train, allY_train)\n",
    "global_train_score = class_svc.score(allX_train, allY_train)\n",
    "print(\"train: \", global_train_score)\n",
    "for dataset in datasets: \n",
    "    try:\n",
    "        global_test_score = class_svc.score(dataset.X_test, dataset.Y_test)\n",
    "        print(\"test for user {}: {}\".format(dataset.user, global_test_score))\n",
    "    except:\n",
    "        print('user {}: problem'.format(dataset.user))"
   ]
  },
  {
   "cell_type": "markdown",
   "metadata": {},
   "source": [
    "# Save the dataset"
   ]
  },
  {
   "cell_type": "code",
   "execution_count": 30,
   "metadata": {
    "collapsed": true
   },
   "outputs": [],
   "source": [
    "import sys\n",
    "import os\n",
    "import shutil"
   ]
  },
  {
   "cell_type": "code",
   "execution_count": 31,
   "metadata": {
    "collapsed": false
   },
   "outputs": [],
   "source": [
    "dest_dir = \"../datasets/Mobi_Generated\"\n",
    "if os.path.exists(dest_dir):\n",
    "    shutil.rmtree(dest_dir)\n",
    "os.makedirs(dest_dir)\n",
    "\n",
    "for dataset in datasets:\n",
    "    dataset.save(dest_dir)"
   ]
  }
 ],
 "metadata": {
  "kernelspec": {
   "display_name": "Python 3",
   "language": "python",
   "name": "python3"
  },
  "language_info": {
   "codemirror_mode": {
    "name": "ipython",
    "version": 3
   },
   "file_extension": ".py",
   "mimetype": "text/x-python",
   "name": "python",
   "nbconvert_exporter": "python",
   "pygments_lexer": "ipython3",
   "version": "3.5.2"
  }
 },
 "nbformat": 4,
 "nbformat_minor": 2
}
