{
 "cells": [
  {
   "cell_type": "code",
   "execution_count": 1,
   "metadata": {
    "collapsed": true
   },
   "outputs": [],
   "source": [
    "# imports\n",
    "from copy import deepcopy\n",
    "import numpy as np\n",
    "from statistics import mean\n",
    "\n",
    "import sys\n",
    "sys.path.append('../src/')\n",
    "\n",
    "from classification import get_stumps\n",
    "from evaluation import kalo_objective\n",
    "from network import graph, get_alphas\n",
    "from optimization import gd_reg_local_FW_obj_kalo\n",
    "from utils import generate_fixed_moons, get_min_max\n",
    "\n",
    "import matplotlib.pyplot as plt\n",
    "%matplotlib inline"
   ]
  },
  {
   "cell_type": "code",
   "execution_count": 2,
   "metadata": {
    "collapsed": false
   },
   "outputs": [],
   "source": [
    "# set graph of nodes with local personalized data\n",
    "NB_ITER = 10000\n",
    "D = 20\n",
    "n = 200\n",
    "NOISE_R = 0.05\n",
    "random_state = 2017\n",
    "\n",
    "BETA = 10\n",
    "\n",
    "K, X, Y, X_test, Y_test, max_nb_instances, theta_true, angles, groundtruth_adj_matrix = generate_fixed_moons(D, sample_error_rate=NOISE_R, rnd_state=2017)\n",
    "\n",
    "# set graph\n",
    "nodes = graph(X, Y, X_test, Y_test, K, groundtruth_adj_matrix, groundtruth_adj_matrix, max_nb_instances)\n",
    "\n",
    "# get weak classifiers\n",
    "vmin, vmax = get_min_max(X)\n",
    "base_clfs = get_stumps(n=n, d=D+1, min_v=vmin, max_v=vmax)\n",
    "\n",
    "results = {}\n",
    "\n",
    "colors = { \n",
    "    \"Dada-Learned\": \"c\",    \n",
    "}"
   ]
  },
  {
   "cell_type": "code",
   "execution_count": 3,
   "metadata": {
    "collapsed": false
   },
   "outputs": [
    {
     "name": "stderr",
     "output_type": "stream",
     "text": [
      "../src/optimization.py:50: RuntimeWarning: divide by zero encountered in log\n",
      "  return d.dot(l) + (mu / 2) * (w.dot(z) - np.log(d).sum() + la * (mu / 2) * w.dot(w))\n"
     ]
    }
   ],
   "source": [
    "from evaluation import kalo_objective\n",
    "\n",
    "# graph discovery\n",
    "gd_pace = 2000\n",
    "\n",
    "MU, LA = 0.1, 1\n",
    "\n",
    "monitors = {\n",
    "    'obj-function': [kalo_objective, [MU, LA]],\n",
    "}\n",
    "\n",
    "gd_nodes = deepcopy(nodes)\n",
    "results[\"Dada-Learned\"] = gd_reg_local_FW_obj_kalo(gd_nodes, base_clfs, gd_method={\"name\":\"kalo\", \"pace_gd\": gd_pace, \n",
    "                    \"args\":(MU, LA)}, beta=BETA, mu=MU, nb_iter=20000, monitors=monitors)"
   ]
  },
  {
   "cell_type": "code",
   "execution_count": 4,
   "metadata": {
    "collapsed": false
   },
   "outputs": [
    {
     "data": {
      "image/png": "[encoded data removed]",
      "text/plain": [
       "<matplotlib.figure.Figure at 0x7f621af71358>"
      ]
     },
     "metadata": {},
     "output_type": "display_data"
    }
   ],
   "source": [
    "# convergence\n",
    "plt.figure(1, figsize=(7, 5))\n",
    "\n",
    "plt.xlabel('nb iterations', fontsize=15)\n",
    "plt.ylabel('objective function', fontsize=15)\n",
    "\n",
    "for k, r_list in results.items():\n",
    "    try:\n",
    "        plt.plot([i for i in range(len(r_list))], [r['obj-function'] for r in r_list], label=k, color=colors[k], linewidth=2)\n",
    "    except:\n",
    "        pass\n",
    "\n",
    "# plt.ticklabel_format(style='sci', axis='x', scilimits=(0,0))\n",
    "plt.ticklabel_format(style='sci', axis='y', scilimits=(0,0))\n",
    "plt.xticks(fontsize = 12)\n",
    "plt.yticks(fontsize = 12)\n",
    "plt.xlim(1, 20)\n",
    "plt.legend(loc='upper right', fontsize=15)\n",
    "\n",
    "plt.savefig(\"moons-clust-obj.pdf\", bbox_inches=\"tight\")"
   ]
  },
  {
   "cell_type": "code",
   "execution_count": null,
   "metadata": {
    "collapsed": true
   },
   "outputs": [],
   "source": []
  }
 ],
 "metadata": {
  "kernelspec": {
   "display_name": "Python 3",
   "language": "python",
   "name": "python3"
  },
  "language_info": {
   "codemirror_mode": {
    "name": "ipython",
    "version": 3
   },
   "file_extension": ".py",
   "mimetype": "text/x-python",
   "name": "python",
   "nbconvert_exporter": "python",
   "pygments_lexer": "ipython3",
   "version": "3.5.2"
  }
 },
 "nbformat": 4,
 "nbformat_minor": 0
}
