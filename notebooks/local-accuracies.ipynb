{
 "cells": [
  {
   "cell_type": "code",
   "execution_count": 49,
   "metadata": {
    "collapsed": true
   },
   "outputs": [],
   "source": [
    "# imports\n",
    "from copy import deepcopy\n",
    "import numpy as np\n",
    "from statistics import mean\n",
    "\n",
    "import sys\n",
    "sys.path.append('../src/')\n",
    "\n",
    "from classification import get_stumps\n",
    "from evaluation import test_accuracies\n",
    "from network import exponential_graph, null_graph, get_alphas\n",
    "from optimization import local_FW, gd_reg_local_FW, centralized_FW\n",
    "from utils import generate_fixed_moons, load_harws, get_min_max\n",
    "\n",
    "import matplotlib.pyplot as plt\n",
    "%matplotlib inline"
   ]
  },
  {
   "cell_type": "markdown",
   "metadata": {},
   "source": [
    "## Moons"
   ]
  },
  {
   "cell_type": "code",
   "execution_count": 4,
   "metadata": {
    "collapsed": false
   },
   "outputs": [],
   "source": [
    "# set graph of nodes with local personalized data\n",
    "NB_ITER = 10000\n",
    "D = 20\n",
    "n = 200\n",
    "NOISE_R = 0.05\n",
    "random_state = 2017\n",
    "\n",
    "BETA = 10\n",
    "\n",
    "K, X, Y, X_test, Y_test, max_nb_instances, theta_true, angles, groundtruth_adj_matrix = generate_fixed_moons(D, sample_error_rate=NOISE_R, rnd_state=2017)\n",
    "\n",
    "# set graph\n",
    "nodes, adj_matrix, similarities = exponential_graph(X, Y, X_test, Y_test, K, theta_true, max_nb_instances)\n",
    "\n",
    "# get weak classifiers\n",
    "vmin, vmax = get_min_max(X)\n",
    "base_clfs = get_stumps(n=n, d=D+1, min_v=vmin, max_v=vmax)\n",
    "\n",
    "results = {}\n",
    "\n",
    "colors = {\n",
    "    \"Global-Adaboost\": \"g\",\n",
    "    \"Local-Adaboost\": \"k\",\n",
    "    \"Dada-Learned\": \"c\",    \n",
    "}"
   ]
  },
  {
   "cell_type": "code",
   "execution_count": 6,
   "metadata": {
    "collapsed": false
   },
   "outputs": [],
   "source": [
    "centralized_nodes = deepcopy(nodes)\n",
    "centralized_FW(centralized_nodes, base_clfs, beta=BETA, nb_iter=NB_ITER, monitors={})\n",
    "results[\"Global-Adaboost\"] = {}\n",
    "results[\"Global-Adaboost\"][\"test-accuracies\"] = test_accuracies(centralized_nodes)\n",
    "\n",
    "local_nodes = deepcopy(nodes)\n",
    "local_FW(local_nodes, base_clfs, beta=BETA, nb_iter=NB_ITER, monitors={})\n",
    "results[\"Local-Adaboost\"] = {}\n",
    "results[\"Local-Adaboost\"][\"test-accuracies\"] = test_accuracies(local_nodes)"
   ]
  },
  {
   "cell_type": "code",
   "execution_count": 7,
   "metadata": {
    "collapsed": false
   },
   "outputs": [
    {
     "name": "stderr",
     "output_type": "stream",
     "text": [
      "../src/optimization.py:50: RuntimeWarning: divide by zero encountered in log\n",
      "  return d.dot(l) + (mu / 2) * (w.dot(z) - np.log(d).sum() + la * (mu / 2) * w.dot(w))\n"
     ]
    }
   ],
   "source": [
    "dada_nodes = deepcopy(nodes)\n",
    "gd_reg_local_FW(dada_nodes, base_clfs, gd_method={\"name\":\"kalo\", \"pace_gd\": 20000, \n",
    "                    \"args\":(0.1, 1)}, beta=BETA, mu=0.1, nb_iter=NB_ITER, monitors={})\n",
    "results[\"Dada-Learned\"] = {}\n",
    "results[\"Dada-Learned\"][\"test-accuracies\"] = test_accuracies(dada_nodes)"
   ]
  },
  {
   "cell_type": "code",
   "execution_count": 17,
   "metadata": {
    "collapsed": false
   },
   "outputs": [],
   "source": [
    "train_points = np.asarray([len(n.sample) for n in nodes])\n",
    "train_points_set = np.unique(train_points)\n",
    "\n",
    "for k in colors.keys():\n",
    "    results[k][\"test-by-points\"] = []\n",
    "\n",
    "for t in train_points_set:\n",
    "    inds = [train_points == t]\n",
    "    \n",
    "    for k in colors.keys():\n",
    "        test_by_inds = np.asarray(results[k][\"test-accuracies\"])[inds]\n",
    "        results[k][\"test-by-points\"].append(sum(test_by_inds) / len(test_by_inds))"
   ]
  },
  {
   "cell_type": "code",
   "execution_count": 47,
   "metadata": {
    "collapsed": false
   },
   "outputs": [
    {
     "data": {
      "image/png": "[encoded data removed]",
      "text/plain": [
       "<matplotlib.figure.Figure at 0x7f7a94f8c630>"
      ]
     },
     "metadata": {},
     "output_type": "display_data"
    }
   ],
   "source": [
    "\n",
    "WIDTH = 0.3\n",
    "\n",
    "plt.figure(1, figsize=(7, 5))\n",
    "\n",
    "plt.xlabel('nb training points', fontsize=15)\n",
    "plt.ylabel('test accuracies', fontsize=15)\n",
    "plt.xlim(min(train_points_set)-2*WIDTH, max(train_points_set)+2*WIDTH)\n",
    "# plt.ylim(0.6, 1.01)\n",
    "plt.xticks(fontsize = 12)\n",
    "plt.yticks(fontsize = 12)\n",
    "\n",
    "lag = -WIDTH\n",
    "for k, c in colors.items():\n",
    "    plt.bar(train_points_set + lag, results[k][\"test-by-points\"], width=WIDTH, color=c, label=k, align=\"center\")\n",
    "    lag += WIDTH\n",
    "\n",
    "plt.legend(loc='lower right', fontsize=15)\n",
    "\n",
    "plt.savefig(\"moons-clust-points.pdf\", bbox_inches=\"tight\")"
   ]
  },
  {
   "cell_type": "markdown",
   "metadata": {},
   "source": [
    "## HARWS"
   ]
  },
  {
   "cell_type": "code",
   "execution_count": 50,
   "metadata": {
    "collapsed": true
   },
   "outputs": [],
   "source": [
    "# set graph of nodes with local personalized data\n",
    "NB_ITER = 1000\n",
    "n = 1122\n",
    "\n",
    "BETA = 1\n",
    "\n",
    "X, Y, X_test, Y_test, K, max_nb_instances = load_harws(path=\"../datasets/\", walking=True)\n",
    "D = X[0].shape[1]\n",
    "\n",
    "# get nodes\n",
    "nodes = null_graph(X, Y, X_test, Y_test, K, max_nb_instances)\n",
    "\n",
    "# get weak classifiers\n",
    "vmin, vmax = get_min_max(X)\n",
    "base_clfs = get_stumps(n=n, d=D, min_v=vmin, max_v=vmax)\n",
    "\n",
    "results = {}"
   ]
  },
  {
   "cell_type": "code",
   "execution_count": 51,
   "metadata": {
    "collapsed": true
   },
   "outputs": [],
   "source": [
    "centralized_nodes = deepcopy(nodes)\n",
    "centralized_FW(centralized_nodes, base_clfs, beta=BETA, nb_iter=NB_ITER, monitors={})\n",
    "results[\"Global-Adaboost\"] = {}\n",
    "results[\"Global-Adaboost\"][\"test-accuracies\"] = test_accuracies(centralized_nodes)\n",
    "\n",
    "local_nodes = deepcopy(nodes)\n",
    "local_FW(local_nodes, base_clfs, beta=BETA, nb_iter=NB_ITER, monitors={})\n",
    "results[\"Local-Adaboost\"] = {}\n",
    "results[\"Local-Adaboost\"][\"test-accuracies\"] = test_accuracies(local_nodes)"
   ]
  },
  {
   "cell_type": "code",
   "execution_count": 52,
   "metadata": {
    "collapsed": false
   },
   "outputs": [
    {
     "name": "stderr",
     "output_type": "stream",
     "text": [
      "../src/optimization.py:50: RuntimeWarning: divide by zero encountered in log\n",
      "  return d.dot(l) + (mu / 2) * (w.dot(z) - np.log(d).sum() + la * (mu / 2) * w.dot(w))\n"
     ]
    }
   ],
   "source": [
    "dada_nodes = deepcopy(nodes)\n",
    "gd_reg_local_FW(dada_nodes, base_clfs, gd_method={\"name\":\"kalo\", \"pace_gd\": 200, \n",
    "                    \"args\":(0.001, 0.1)}, beta=BETA, mu=0.001, nb_iter=NB_ITER, monitors={})\n",
    "results[\"Dada-Learned\"] = {}\n",
    "results[\"Dada-Learned\"][\"test-accuracies\"] = test_accuracies(dada_nodes)"
   ]
  },
  {
   "cell_type": "code",
   "execution_count": 53,
   "metadata": {
    "collapsed": true
   },
   "outputs": [],
   "source": [
    "train_points = np.asarray([len(n.sample) for n in nodes])\n",
    "train_points_set = np.unique(train_points)\n",
    "\n",
    "for k in colors.keys():\n",
    "    results[k][\"test-by-points\"] = []\n",
    "\n",
    "for t in train_points_set:\n",
    "    inds = [train_points == t]\n",
    "    \n",
    "    for k in colors.keys():\n",
    "        test_by_inds = np.asarray(results[k][\"test-accuracies\"])[inds]\n",
    "        results[k][\"test-by-points\"].append(sum(test_by_inds) / len(test_by_inds))"
   ]
  },
  {
   "cell_type": "code",
   "execution_count": 54,
   "metadata": {
    "collapsed": false
   },
   "outputs": [
    {
     "data": {
      "image/png": "[encoded data removed]",
      "text/plain": [
       "<matplotlib.figure.Figure at 0x7f7a95e0f898>"
      ]
     },
     "metadata": {},
     "output_type": "display_data"
    }
   ],
   "source": [
    "WIDTH = 0.3\n",
    "\n",
    "plt.figure(1, figsize=(7, 5))\n",
    "\n",
    "plt.xlabel('nb training points', fontsize=15)\n",
    "plt.ylabel('test accuracies', fontsize=15)\n",
    "plt.xlim(min(train_points_set)-2*WIDTH, max(train_points_set)+2*WIDTH)\n",
    "# plt.ylim(0.6, 1.01)\n",
    "plt.xticks(fontsize = 12)\n",
    "plt.yticks(fontsize = 12)\n",
    "\n",
    "lag = -WIDTH\n",
    "for k, c in colors.items():\n",
    "    plt.bar(train_points_set + lag, results[k][\"test-by-points\"], width=WIDTH, color=c, label=k, align=\"center\")\n",
    "    lag += WIDTH\n",
    "\n",
    "plt.legend(loc='lower right', fontsize=15)\n",
    "\n",
    "plt.savefig(\"harws-points.pdf\", bbox_inches=\"tight\")"
   ]
  },
  {
   "cell_type": "code",
   "execution_count": null,
   "metadata": {
    "collapsed": true
   },
   "outputs": [],
   "source": []
  }
 ],
 "metadata": {
  "kernelspec": {
   "display_name": "Python 3",
   "language": "python",
   "name": "python3"
  },
  "language_info": {
   "codemirror_mode": {
    "name": "ipython",
    "version": 3
   },
   "file_extension": ".py",
   "mimetype": "text/x-python",
   "name": "python",
   "nbconvert_exporter": "python",
   "pygments_lexer": "ipython3",
   "version": "3.5.2"
  }
 },
 "nbformat": 4,
 "nbformat_minor": 0
}
