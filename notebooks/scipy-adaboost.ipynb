{
 "cells": [
  {
   "cell_type": "markdown",
   "metadata": {},
   "source": [
    "# Method descriptions\n",
    "\n",
    "* **centralized** finds global classifier using the centralized data\n",
    "* Average local classifiers between neighbors\n",
    "  * **avg-unweighted** all the edges have the same value\n",
    "  * **avg-weighted** algorithm weights an edge as the *similarity* between the two nodes *times* the *number of instances* of the neighbor (normalized)\n",
    "* **regularised** learns local classifiers keeping them similar to the neighbors' classifiers\n",
    "* **local** learns independent local classifiers\n"
   ]
  },
  {
   "cell_type": "code",
   "execution_count": 35,
   "metadata": {
    "collapsed": false
   },
   "outputs": [],
   "source": [
    "# imports\n",
    "import numpy as np\n",
    "\n",
    "from sklearn.ensemble import AdaBoostClassifier\n",
    "from sklearn.tree import DecisionTreeClassifier\n",
    "\n",
    "import sys\n",
    "sys.path.append('../src/')\n",
    "\n",
    "from utils import generate_models, generate_moons\n",
    "\n",
    "import matplotlib.pyplot as plt\n",
    "%matplotlib inline"
   ]
  },
  {
   "cell_type": "code",
   "execution_count": 36,
   "metadata": {
    "collapsed": false
   },
   "outputs": [],
   "source": [
    "N = 1\n",
    "D = 20\n",
    "\n",
    "NODE = 0\n",
    "\n",
    "V, theta_true, cluster_indexes = generate_models(nb_clust=1, nodes_per_clust=N, random_state=random_state)\n",
    "_, X, Y, X_test, Y_test, _, _ = generate_moons(V, theta_true, D, random_state=random_state, sample_error_rate=NOISE_R)\n"
   ]
  },
  {
   "cell_type": "code",
   "execution_count": 37,
   "metadata": {
    "collapsed": false
   },
   "outputs": [
    {
     "data": {
      "text/plain": [
       "AdaBoostClassifier(algorithm='SAMME.R',\n",
       "          base_estimator=DecisionTreeClassifier(class_weight=None, criterion='gini', max_depth=1,\n",
       "            max_features=None, max_leaf_nodes=None,\n",
       "            min_impurity_decrease=0.0, min_impurity_split=None,\n",
       "            min_samples_leaf=1, min_samples_split=2,\n",
       "            min_weight_fraction_leaf=0.0, presort=False, random_state=None,\n",
       "            splitter='best'),\n",
       "          learning_rate=1.0, n_estimators=40, random_state=None)"
      ]
     },
     "execution_count": 37,
     "metadata": {},
     "output_type": "execute_result"
    }
   ],
   "source": [
    "# set weak classifier\n",
    "dt_stump = DecisionTreeClassifier(max_depth=1, min_samples_leaf=1)\n",
    "dt_stump.fit(X[NODE], Y[NODE])\n",
    "\n",
    "adaboosted_clf = AdaBoostClassifier(base_estimator=dt_stump, n_estimators=2*D)\n",
    "adaboosted_clf.fit(X[NODE], Y[NODE])"
   ]
  },
  {
   "cell_type": "markdown",
   "metadata": {
    "collapsed": true
   },
   "source": [
    "### Visualize classification\n"
   ]
  },
  {
   "cell_type": "code",
   "execution_count": 38,
   "metadata": {
    "collapsed": false
   },
   "outputs": [
    {
     "data": {
      "text/plain": [
       "<matplotlib.contour.QuadContourSet at 0x7f76f1e05f60>"
      ]
     },
     "execution_count": 38,
     "metadata": {},
     "output_type": "execute_result"
    },
    {
     "data": {
      "image/png": "[encoded data removed]",
      "text/plain": [
       "<matplotlib.figure.Figure at 0x7f76f1f27b38>"
      ]
     },
     "metadata": {},
     "output_type": "display_data"
    }
   ],
   "source": [
    "plt.figure(1)\n",
    "\n",
    "# construct grid\n",
    "x_min, x_max = X_test[NODE][:,0].min() - 0.2, X_test[NODE][:,0].max() + 0.2\n",
    "y_min, y_max = X_test[NODE][:,1].min() - 0.2, X_test[NODE][:,1].max() + 0.2\n",
    "xx, yy = np.meshgrid(np.arange(x_min, x_max, 0.02), np.arange(y_min, y_max, 0.02))\n",
    "\n",
    "# expand dimensions\n",
    "grid_set = np.c_[xx.ravel(), yy.ravel()]\n",
    "grid_set = np.hstack((grid_set, np.zeros((len(grid_set), D - 2))))\n",
    "y = adaboosted_clf.predict(grid_set).reshape(xx.shape)\n",
    "\n",
    "plt.scatter(X[NODE][:,0], X[NODE][:,1], c=Y[NODE], cmap=plt.cm.coolwarm, linewidths=10)\n",
    "plt.scatter(X_test[NODE][:,0], X_test[NODE][:,1], c=Y_test[NODE], cmap=plt.cm.coolwarm)\n",
    "\n",
    "plt.contourf(xx, yy, y, cmap=plt.cm.coolwarm, alpha=0.2)"
   ]
  },
  {
   "cell_type": "code",
   "execution_count": 39,
   "metadata": {
    "collapsed": false
   },
   "outputs": [
    {
     "name": "stdout",
     "output_type": "stream",
     "text": [
      "40\n"
     ]
    }
   ],
   "source": [
    "print(len(adaboosted_clf.estimators_))"
   ]
  },
  {
   "cell_type": "code",
   "execution_count": 40,
   "metadata": {
    "collapsed": false
   },
   "outputs": [
    {
     "name": "stdout",
     "output_type": "stream",
     "text": [
      "[ 1.  1.  1.  1.  1.  1.  1.  1.  1.  1.  1.  1.  1.  1.  1.  1.  1.  1.\n",
      "  1.  1.  1.  1.  1.  1.  1.  1.  1.  1.  1.  1.  1.  1.  1.  1.  1.  1.\n",
      "  1.  1.  1.  1.] [ 0.575  0.425  0.     0.     0.     0.     0.     0.     0.     0.     0.\n",
      "  0.     0.     0.     0.     0.     0.     0.     0.     0.   ]\n"
     ]
    }
   ],
   "source": [
    "print(adaboosted_clf.estimator_weights_, adaboosted_clf.feature_importances_)"
   ]
  },
  {
   "cell_type": "code",
   "execution_count": 45,
   "metadata": {
    "collapsed": false
   },
   "outputs": [
    {
     "name": "stdout",
     "output_type": "stream",
     "text": [
      "stump= 0 , feature= 0 , threshold= -1.15674591064\n",
      "stump= 1 , feature= 0 , threshold= 0.222419440746\n",
      "stump= 2 , feature= 1 , threshold= -0.0867988616228\n",
      "stump= 3 , feature= 0 , threshold= -0.212449789047\n",
      "stump= 4 , feature= 0 , threshold= 0.222419440746\n",
      "stump= 5 , feature= 0 , threshold= -0.212449789047\n",
      "stump= 6 , feature= 1 , threshold= 0.304559975863\n",
      "stump= 7 , feature= 1 , threshold= -0.624667227268\n",
      "stump= 8 , feature= 1 , threshold= -0.822303652763\n",
      "stump= 9 , feature= 1 , threshold= -0.624667227268\n",
      "stump= 10 , feature= 1 , threshold= -0.0867988616228\n",
      "stump= 11 , feature= 1 , threshold= -0.624667227268\n",
      "stump= 12 , feature= 0 , threshold= -1.15674591064\n",
      "stump= 13 , feature= 0 , threshold= -0.212449789047\n",
      "stump= 14 , feature= 0 , threshold= 0.222419440746\n",
      "stump= 15 , feature= 1 , threshold= -0.0867988616228\n",
      "stump= 16 , feature= 0 , threshold= -0.212449789047\n",
      "stump= 17 , feature= 0 , threshold= 0.222419440746\n",
      "stump= 18 , feature= 0 , threshold= -0.212449789047\n",
      "stump= 19 , feature= 1 , threshold= 0.304559975863\n",
      "stump= 20 , feature= 1 , threshold= -0.624667227268\n",
      "stump= 21 , feature= 1 , threshold= -0.822303652763\n",
      "stump= 22 , feature= 1 , threshold= -0.624667227268\n",
      "stump= 23 , feature= 1 , threshold= -0.0867988616228\n",
      "stump= 24 , feature= 0 , threshold= -1.15674591064\n",
      "stump= 25 , feature= 1 , threshold= -0.624667227268\n",
      "stump= 26 , feature= 0 , threshold= -0.212449789047\n",
      "stump= 27 , feature= 0 , threshold= 0.222419440746\n",
      "stump= 28 , feature= 1 , threshold= -0.0867988616228\n",
      "stump= 29 , feature= 0 , threshold= -0.212449789047\n",
      "stump= 30 , feature= 0 , threshold= 0.222419440746\n",
      "stump= 31 , feature= 0 , threshold= -0.212449789047\n",
      "stump= 32 , feature= 1 , threshold= 0.304559975863\n",
      "stump= 33 , feature= 0 , threshold= -1.15674591064\n",
      "stump= 34 , feature= 0 , threshold= -0.212449789047\n",
      "stump= 35 , feature= 0 , threshold= 0.222419440746\n",
      "stump= 36 , feature= 0 , threshold= -0.212449789047\n",
      "stump= 37 , feature= 1 , threshold= 0.304559975863\n",
      "stump= 38 , feature= 0 , threshold= -1.15674591064\n",
      "stump= 39 , feature= 0 , threshold= -0.212449789047\n"
     ]
    }
   ],
   "source": [
    "for i, e in enumerate(adaboosted_clf.estimators_):\n",
    "    print(\"stump=\", i, \", feature=\", e.tree_.feature[0], \", threshold=\", e.tree_.threshold[0])"
   ]
  },
  {
   "cell_type": "code",
   "execution_count": null,
   "metadata": {
    "collapsed": true
   },
   "outputs": [],
   "source": []
  },
  {
   "cell_type": "code",
   "execution_count": null,
   "metadata": {
    "collapsed": true
   },
   "outputs": [],
   "source": []
  }
 ],
 "metadata": {
  "kernelspec": {
   "display_name": "Python 3",
   "language": "python",
   "name": "python3"
  },
  "language_info": {
   "codemirror_mode": {
    "name": "ipython",
    "version": 3
   },
   "file_extension": ".py",
   "mimetype": "text/x-python",
   "name": "python",
   "nbconvert_exporter": "python",
   "pygments_lexer": "ipython3",
   "version": "3.5.2"
  }
 },
 "nbformat": 4,
 "nbformat_minor": 0
}
